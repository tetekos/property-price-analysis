{
 "cells": [
  {
   "cell_type": "code",
   "execution_count": 2,
   "metadata": {},
   "outputs": [],
   "source": [
    "import pandas as pd\n",
    "import matplotlib.pyplot as plt"
   ]
  },
  {
   "cell_type": "code",
   "execution_count": 3,
   "metadata": {},
   "outputs": [],
   "source": [
    "super_frame = pd.read_csv('df_resolute.csv', keep_default_na=False)\n",
    "# convert to datetime object\n",
    "super_frame['ModifiedOn'] = pd.to_datetime(super_frame['ModifiedOn'])"
   ]
  },
  {
   "cell_type": "code",
   "execution_count": 4,
   "metadata": {},
   "outputs": [
    {
     "data": {
      "text/plain": [
       "Neighbourhood       150274\n",
       "Area_sqm            150274\n",
       "PropertyType        150274\n",
       "Bedrooms            150274\n",
       "Bathrooms           150274\n",
       "Rooms               150274\n",
       "Floor               150274\n",
       "Levels              150274\n",
       "PriceEuro           150274\n",
       "PricePerM2Euro      150274\n",
       "Latitude            150274\n",
       "Longitude           150274\n",
       "ConstructionYear    150274\n",
       "ModifiedOn          150274\n",
       "dtype: int64"
      ]
     },
     "execution_count": 4,
     "metadata": {},
     "output_type": "execute_result"
    }
   ],
   "source": [
    "super_frame.count()"
   ]
  },
  {
   "cell_type": "code",
   "execution_count": 5,
   "metadata": {},
   "outputs": [
    {
     "data": {
      "text/plain": [
       "Neighbourhood               object\n",
       "Area_sqm                     int64\n",
       "PropertyType                object\n",
       "Bedrooms                     int64\n",
       "Bathrooms                    int64\n",
       "Rooms                        int64\n",
       "Floor                       object\n",
       "Levels                       int64\n",
       "PriceEuro                    int64\n",
       "PricePerM2Euro               int64\n",
       "Latitude                   float64\n",
       "Longitude                  float64\n",
       "ConstructionYear            object\n",
       "ModifiedOn          datetime64[ns]\n",
       "dtype: object"
      ]
     },
     "execution_count": 5,
     "metadata": {},
     "output_type": "execute_result"
    }
   ],
   "source": [
    "super_frame.dtypes"
   ]
  },
  {
   "cell_type": "markdown",
   "metadata": {},
   "source": [
    "### check null in all columns"
   ]
  },
  {
   "cell_type": "code",
   "execution_count": 11,
   "metadata": {},
   "outputs": [
    {
     "data": {
      "text/plain": [
       "Neighbourhood       False\n",
       "Area_sqm            False\n",
       "PropertyType        False\n",
       "Bedrooms            False\n",
       "Bathrooms           False\n",
       "Rooms               False\n",
       "Floor               False\n",
       "Levels              False\n",
       "PriceEuro           False\n",
       "PricePerM2Euro      False\n",
       "Latitude            False\n",
       "Longitude           False\n",
       "ConstructionYear    False\n",
       "ModifiedOn          False\n",
       "dtype: bool"
      ]
     },
     "execution_count": 11,
     "metadata": {},
     "output_type": "execute_result"
    }
   ],
   "source": [
    "super_frame.isnull().any()"
   ]
  },
  {
   "cell_type": "markdown",
   "metadata": {},
   "source": [
    "### select objects"
   ]
  },
  {
   "cell_type": "code",
   "execution_count": 18,
   "metadata": {},
   "outputs": [
    {
     "data": {
      "text/plain": [
       "['Neighbourhood', 'PropertyType', 'Floor', 'ConstructionYear']"
      ]
     },
     "execution_count": 18,
     "metadata": {},
     "output_type": "execute_result"
    }
   ],
   "source": [
    "object_list = super_frame.select_dtypes(include=['object']).columns.tolist()\n",
    "object_list"
   ]
  },
  {
   "cell_type": "markdown",
   "metadata": {},
   "source": [
    "Neighbourhood"
   ]
  },
  {
   "cell_type": "code",
   "execution_count": 16,
   "metadata": {},
   "outputs": [
    {
     "data": {
      "text/plain": [
       "860"
      ]
     },
     "execution_count": 16,
     "metadata": {},
     "output_type": "execute_result"
    }
   ],
   "source": [
    "super_frame.Neighbourhood.nunique()"
   ]
  },
  {
   "cell_type": "code",
   "execution_count": 17,
   "metadata": {},
   "outputs": [
    {
     "data": {
      "text/plain": [
       "Achaia Patra                         4239\n",
       "Athens - South Glyfada               3630\n",
       "Athens - South Voula                 2801\n",
       "Corfu Prefecture Corfu               2441\n",
       "Athens - North Kifissia              2385\n",
       "Cyclades Mykonos                     2073\n",
       "Cyclades Paros                       1963\n",
       "Kavala Prefecture Kavala             1934\n",
       "Magnesia Volos                       1914\n",
       "Thessaloniki - Suburbs Kalamaria     1846\n",
       "Name: Neighbourhood, dtype: int64"
      ]
     },
     "execution_count": 17,
     "metadata": {},
     "output_type": "execute_result"
    }
   ],
   "source": [
    "super_frame.Neighbourhood.value_counts(sort=True).head(10)"
   ]
  },
  {
   "cell_type": "code",
   "execution_count": 15,
   "metadata": {},
   "outputs": [
    {
     "data": {
      "text/plain": [
       "31"
      ]
     },
     "execution_count": 15,
     "metadata": {},
     "output_type": "execute_result"
    }
   ],
   "source": [
    "# PropertyType\n",
    "super_frame.PropertyType.nunique()"
   ]
  },
  {
   "cell_type": "code",
   "execution_count": 13,
   "metadata": {},
   "outputs": [
    {
     "data": {
      "text/plain": [
       "Land Plot            43053\n",
       "Apartment            33584\n",
       "Detached House       19122\n",
       "Maisonette           12751\n",
       "Parcel               12056\n",
       "Store                 5553\n",
       "Business building     4391\n",
       "Office                3749\n",
       "Villa                 3010\n",
       "Hotel                 2632\n",
       "Name: PropertyType, dtype: int64"
      ]
     },
     "execution_count": 13,
     "metadata": {},
     "output_type": "execute_result"
    }
   ],
   "source": [
    "super_frame.PropertyType.value_counts(sort=True).head(10)"
   ]
  },
  {
   "cell_type": "markdown",
   "metadata": {},
   "source": [
    "### check empty objects "
   ]
  },
  {
   "cell_type": "code",
   "execution_count": 38,
   "metadata": {},
   "outputs": [
    {
     "name": "stdout",
     "output_type": "stream",
     "text": [
      "Empty Objects\n",
      "\n",
      "Neighbourhood : 0\n",
      "PropertyType : 0\n",
      "Floor : 64544\n",
      "ConstructionYear : 57471\n"
     ]
    }
   ],
   "source": [
    "print(\"Empty Objects\\n\")\n",
    "for i in object_list:\n",
    "    print(\"{} : {}\".format(i,len(super_frame[super_frame[i]==''])))"
   ]
  },
  {
   "cell_type": "code",
   "execution_count": 23,
   "metadata": {},
   "outputs": [
    {
     "data": {
      "text/plain": [
       "57471"
      ]
     },
     "execution_count": 23,
     "metadata": {},
     "output_type": "execute_result"
    }
   ],
   "source": [
    "len(super_frame[super_frame.ConstructionYear==''])"
   ]
  },
  {
   "cell_type": "code",
   "execution_count": null,
   "metadata": {},
   "outputs": [],
   "source": []
  },
  {
   "cell_type": "markdown",
   "metadata": {},
   "source": [
    "### select numerical"
   ]
  },
  {
   "cell_type": "code",
   "execution_count": 19,
   "metadata": {},
   "outputs": [
    {
     "data": {
      "text/plain": [
       "Index(['Area_sqm', 'Bedrooms', 'Bathrooms', 'Rooms', 'Levels', 'PriceEuro',\n",
       "       'PricePerM2Euro', 'Latitude', 'Longitude'],\n",
       "      dtype='object')"
      ]
     },
     "execution_count": 19,
     "metadata": {},
     "output_type": "execute_result"
    }
   ],
   "source": [
    "super_frame.select_dtypes(include=['int64','float64']).columns"
   ]
  },
  {
   "cell_type": "code",
   "execution_count": 25,
   "metadata": {},
   "outputs": [
    {
     "data": {
      "text/plain": [
       "286"
      ]
     },
     "execution_count": 25,
     "metadata": {},
     "output_type": "execute_result"
    }
   ],
   "source": [
    "super_frame[super_frame['PricePerM2Euro']==0]['PricePerM2Euro'].count()"
   ]
  },
  {
   "cell_type": "code",
   "execution_count": null,
   "metadata": {},
   "outputs": [],
   "source": []
  },
  {
   "cell_type": "code",
   "execution_count": 19,
   "metadata": {},
   "outputs": [
    {
     "data": {
      "text/html": [
       "<div>\n",
       "<style scoped>\n",
       "    .dataframe tbody tr th:only-of-type {\n",
       "        vertical-align: middle;\n",
       "    }\n",
       "\n",
       "    .dataframe tbody tr th {\n",
       "        vertical-align: top;\n",
       "    }\n",
       "\n",
       "    .dataframe thead th {\n",
       "        text-align: right;\n",
       "    }\n",
       "</style>\n",
       "<table border=\"1\" class=\"dataframe\">\n",
       "  <thead>\n",
       "    <tr style=\"text-align: right;\">\n",
       "      <th></th>\n",
       "      <th>Area_sqm</th>\n",
       "      <th>Bedrooms</th>\n",
       "      <th>Bathrooms</th>\n",
       "      <th>Rooms</th>\n",
       "      <th>Levels</th>\n",
       "      <th>PriceEuro</th>\n",
       "      <th>PricePerM2Euro</th>\n",
       "      <th>Latitude</th>\n",
       "      <th>Longitude</th>\n",
       "    </tr>\n",
       "  </thead>\n",
       "  <tbody>\n",
       "    <tr>\n",
       "      <th>count</th>\n",
       "      <td>1.502740e+05</td>\n",
       "      <td>150274.000000</td>\n",
       "      <td>150274.000000</td>\n",
       "      <td>150274.000000</td>\n",
       "      <td>150274.000000</td>\n",
       "      <td>1.502740e+05</td>\n",
       "      <td>1.502740e+05</td>\n",
       "      <td>150274.000000</td>\n",
       "      <td>150274.000000</td>\n",
       "    </tr>\n",
       "    <tr>\n",
       "      <th>mean</th>\n",
       "      <td>5.451381e+03</td>\n",
       "      <td>1.341210</td>\n",
       "      <td>1.073745</td>\n",
       "      <td>0.669224</td>\n",
       "      <td>0.553961</td>\n",
       "      <td>4.843534e+05</td>\n",
       "      <td>1.300538e+03</td>\n",
       "      <td>23.406177</td>\n",
       "      <td>14.102950</td>\n",
       "    </tr>\n",
       "    <tr>\n",
       "      <th>std</th>\n",
       "      <td>3.015531e+05</td>\n",
       "      <td>2.351148</td>\n",
       "      <td>10.263033</td>\n",
       "      <td>6.091915</td>\n",
       "      <td>1.299994</td>\n",
       "      <td>1.591944e+06</td>\n",
       "      <td>5.097739e+03</td>\n",
       "      <td>18.972363</td>\n",
       "      <td>11.611452</td>\n",
       "    </tr>\n",
       "    <tr>\n",
       "      <th>min</th>\n",
       "      <td>3.000000e+00</td>\n",
       "      <td>0.000000</td>\n",
       "      <td>0.000000</td>\n",
       "      <td>0.000000</td>\n",
       "      <td>0.000000</td>\n",
       "      <td>0.000000e+00</td>\n",
       "      <td>0.000000e+00</td>\n",
       "      <td>-5.000000</td>\n",
       "      <td>-180.000000</td>\n",
       "    </tr>\n",
       "    <tr>\n",
       "      <th>25%</th>\n",
       "      <td>1.000000e+02</td>\n",
       "      <td>0.000000</td>\n",
       "      <td>0.000000</td>\n",
       "      <td>0.000000</td>\n",
       "      <td>0.000000</td>\n",
       "      <td>7.500000e+04</td>\n",
       "      <td>2.500000e+02</td>\n",
       "      <td>0.000000</td>\n",
       "      <td>0.000000</td>\n",
       "    </tr>\n",
       "    <tr>\n",
       "      <th>50%</th>\n",
       "      <td>2.300000e+02</td>\n",
       "      <td>0.000000</td>\n",
       "      <td>1.000000</td>\n",
       "      <td>0.000000</td>\n",
       "      <td>0.000000</td>\n",
       "      <td>1.700000e+05</td>\n",
       "      <td>9.270000e+02</td>\n",
       "      <td>37.799805</td>\n",
       "      <td>22.770436</td>\n",
       "    </tr>\n",
       "    <tr>\n",
       "      <th>75%</th>\n",
       "      <td>8.000000e+02</td>\n",
       "      <td>2.000000</td>\n",
       "      <td>1.000000</td>\n",
       "      <td>0.000000</td>\n",
       "      <td>0.000000</td>\n",
       "      <td>4.000000e+05</td>\n",
       "      <td>1.714000e+03</td>\n",
       "      <td>38.331142</td>\n",
       "      <td>23.730021</td>\n",
       "    </tr>\n",
       "    <tr>\n",
       "      <th>max</th>\n",
       "      <td>9.000000e+07</td>\n",
       "      <td>255.000000</td>\n",
       "      <td>999.000000</td>\n",
       "      <td>255.000000</td>\n",
       "      <td>100.000000</td>\n",
       "      <td>1.000000e+08</td>\n",
       "      <td>1.230769e+06</td>\n",
       "      <td>85.051132</td>\n",
       "      <td>40.752640</td>\n",
       "    </tr>\n",
       "  </tbody>\n",
       "</table>\n",
       "</div>"
      ],
      "text/plain": [
       "           Area_sqm       Bedrooms      Bathrooms          Rooms  \\\n",
       "count  1.502740e+05  150274.000000  150274.000000  150274.000000   \n",
       "mean   5.451381e+03       1.341210       1.073745       0.669224   \n",
       "std    3.015531e+05       2.351148      10.263033       6.091915   \n",
       "min    3.000000e+00       0.000000       0.000000       0.000000   \n",
       "25%    1.000000e+02       0.000000       0.000000       0.000000   \n",
       "50%    2.300000e+02       0.000000       1.000000       0.000000   \n",
       "75%    8.000000e+02       2.000000       1.000000       0.000000   \n",
       "max    9.000000e+07     255.000000     999.000000     255.000000   \n",
       "\n",
       "              Levels     PriceEuro  PricePerM2Euro       Latitude  \\\n",
       "count  150274.000000  1.502740e+05    1.502740e+05  150274.000000   \n",
       "mean        0.553961  4.843534e+05    1.300538e+03      23.406177   \n",
       "std         1.299994  1.591944e+06    5.097739e+03      18.972363   \n",
       "min         0.000000  0.000000e+00    0.000000e+00      -5.000000   \n",
       "25%         0.000000  7.500000e+04    2.500000e+02       0.000000   \n",
       "50%         0.000000  1.700000e+05    9.270000e+02      37.799805   \n",
       "75%         0.000000  4.000000e+05    1.714000e+03      38.331142   \n",
       "max       100.000000  1.000000e+08    1.230769e+06      85.051132   \n",
       "\n",
       "           Longitude  \n",
       "count  150274.000000  \n",
       "mean       14.102950  \n",
       "std        11.611452  \n",
       "min      -180.000000  \n",
       "25%         0.000000  \n",
       "50%        22.770436  \n",
       "75%        23.730021  \n",
       "max        40.752640  "
      ]
     },
     "execution_count": 19,
     "metadata": {},
     "output_type": "execute_result"
    }
   ],
   "source": [
    "super_frame.describe()"
   ]
  },
  {
   "cell_type": "code",
   "execution_count": null,
   "metadata": {},
   "outputs": [],
   "source": [
    "# bins=[-100000000,20000,40000,60000,80000,100000,1000000,10000000,500000000]\n",
    "# choices =['0-200k','200k-400k','400k-600k','600k-800k','800k-1mlln','1mlln-10mlln','10mlln-100mlln','100mlln-500mlln']\n",
    "# super_frame['price_range']=pd.cut(super_frame['PriceEuro'],bins=bins,labels=choices)"
   ]
  },
  {
   "cell_type": "markdown",
   "metadata": {},
   "source": [
    "### select lat, lng"
   ]
  },
  {
   "cell_type": "markdown",
   "metadata": {},
   "source": [
    "meridian"
   ]
  },
  {
   "cell_type": "code",
   "execution_count": null,
   "metadata": {},
   "outputs": [],
   "source": []
  },
  {
   "cell_type": "markdown",
   "metadata": {},
   "source": [
    "0,0"
   ]
  },
  {
   "cell_type": "code",
   "execution_count": 39,
   "metadata": {},
   "outputs": [
    {
     "data": {
      "text/plain": [
       "767"
      ]
     },
     "execution_count": 39,
     "metadata": {},
     "output_type": "execute_result"
    }
   ],
   "source": [
    "# neighbourhoods with 0,0\n",
    "super_frame.query(\"Latitude==0 and Longitude==0\").Neighbourhood.nunique()"
   ]
  },
  {
   "cell_type": "markdown",
   "metadata": {},
   "source": [
    "points out of Greece"
   ]
  },
  {
   "cell_type": "code",
   "execution_count": null,
   "metadata": {},
   "outputs": [],
   "source": []
  },
  {
   "cell_type": "markdown",
   "metadata": {},
   "source": [
    "add mapping boundaries centroid to outer points"
   ]
  },
  {
   "cell_type": "code",
   "execution_count": null,
   "metadata": {},
   "outputs": [],
   "source": []
  },
  {
   "cell_type": "markdown",
   "metadata": {},
   "source": [
    "### select datetime"
   ]
  },
  {
   "cell_type": "code",
   "execution_count": 8,
   "metadata": {},
   "outputs": [
    {
     "data": {
      "text/plain": [
       "Index(['ModifiedOn'], dtype='object')"
      ]
     },
     "execution_count": 8,
     "metadata": {},
     "output_type": "execute_result"
    }
   ],
   "source": [
    "super_frame.select_dtypes(include=['datetime64']).columns"
   ]
  },
  {
   "cell_type": "code",
   "execution_count": null,
   "metadata": {},
   "outputs": [],
   "source": [
    "super_frame.set_index('ModifiedOn')"
   ]
  },
  {
   "cell_type": "code",
   "execution_count": null,
   "metadata": {},
   "outputs": [],
   "source": [
    "# Add columns with year, month, and weekday name\n",
    "super_frame_lol['Year'] = super_frame_lol.index.year\n",
    "super_frame_lol['Month'] = super_frame_lol.index.month\n",
    "super_frame_lol['Weekday Name'] = super_frame_lol.index.weekday_name"
   ]
  },
  {
   "cell_type": "markdown",
   "metadata": {},
   "source": [
    "# Delete outliers"
   ]
  }
 ],
 "metadata": {
  "kernelspec": {
   "display_name": "Python 3",
   "language": "python",
   "name": "python3"
  },
  "language_info": {
   "codemirror_mode": {
    "name": "ipython",
    "version": 3
   },
   "file_extension": ".py",
   "mimetype": "text/x-python",
   "name": "python",
   "nbconvert_exporter": "python",
   "pygments_lexer": "ipython3",
   "version": "3.7.3"
  }
 },
 "nbformat": 4,
 "nbformat_minor": 2
}
