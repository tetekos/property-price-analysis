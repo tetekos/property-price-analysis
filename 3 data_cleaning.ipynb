{
 "cells": [
  {
   "cell_type": "code",
   "execution_count": 11,
   "metadata": {},
   "outputs": [],
   "source": [
    "import pandas as pd\n",
    "import matplotlib.pyplot as plt\n",
    "%matplotlib inline"
   ]
  },
  {
   "cell_type": "code",
   "execution_count": 2,
   "metadata": {},
   "outputs": [],
   "source": [
    "super_frame = pd.read_csv('df_resolute.csv', keep_default_na=False)\n",
    "# convert to datetime object\n",
    "super_frame['ModifiedOn'] = pd.to_datetime(super_frame['ModifiedOn'])"
   ]
  },
  {
   "cell_type": "code",
   "execution_count": 3,
   "metadata": {},
   "outputs": [
    {
     "data": {
      "text/html": [
       "<div>\n",
       "<style scoped>\n",
       "    .dataframe tbody tr th:only-of-type {\n",
       "        vertical-align: middle;\n",
       "    }\n",
       "\n",
       "    .dataframe tbody tr th {\n",
       "        vertical-align: top;\n",
       "    }\n",
       "\n",
       "    .dataframe thead th {\n",
       "        text-align: right;\n",
       "    }\n",
       "</style>\n",
       "<table border=\"1\" class=\"dataframe\">\n",
       "  <thead>\n",
       "    <tr style=\"text-align: right;\">\n",
       "      <th></th>\n",
       "      <th>Neighbourhood</th>\n",
       "      <th>Area_sqm</th>\n",
       "      <th>PropertyType</th>\n",
       "      <th>Bedrooms</th>\n",
       "      <th>Bathrooms</th>\n",
       "      <th>Rooms</th>\n",
       "      <th>Floor</th>\n",
       "      <th>Levels</th>\n",
       "      <th>PriceEuro</th>\n",
       "      <th>PricePerM2Euro</th>\n",
       "      <th>Latitude</th>\n",
       "      <th>Longitude</th>\n",
       "      <th>ConstructionYear</th>\n",
       "      <th>ModifiedOn</th>\n",
       "    </tr>\n",
       "  </thead>\n",
       "  <tbody>\n",
       "    <tr>\n",
       "      <th>0</th>\n",
       "      <td>Cyclades Paros</td>\n",
       "      <td>80</td>\n",
       "      <td>Maisonette</td>\n",
       "      <td>3</td>\n",
       "      <td>0</td>\n",
       "      <td>0</td>\n",
       "      <td>2</td>\n",
       "      <td>0</td>\n",
       "      <td>155000</td>\n",
       "      <td>1938</td>\n",
       "      <td>0.000000</td>\n",
       "      <td>0.000000</td>\n",
       "      <td>Under construction</td>\n",
       "      <td>2019-04-24</td>\n",
       "    </tr>\n",
       "    <tr>\n",
       "      <th>1</th>\n",
       "      <td>Corinthia Vocha</td>\n",
       "      <td>154</td>\n",
       "      <td>Store</td>\n",
       "      <td>0</td>\n",
       "      <td>0</td>\n",
       "      <td>1</td>\n",
       "      <td>Ground floor</td>\n",
       "      <td>0</td>\n",
       "      <td>180000</td>\n",
       "      <td>1169</td>\n",
       "      <td>0.000000</td>\n",
       "      <td>0.000000</td>\n",
       "      <td>1960</td>\n",
       "      <td>2018-11-16</td>\n",
       "    </tr>\n",
       "    <tr>\n",
       "      <th>2</th>\n",
       "      <td>Athens - South Nea Smyrni</td>\n",
       "      <td>60</td>\n",
       "      <td>Office</td>\n",
       "      <td>0</td>\n",
       "      <td>0</td>\n",
       "      <td>0</td>\n",
       "      <td>2</td>\n",
       "      <td>0</td>\n",
       "      <td>63000</td>\n",
       "      <td>1050</td>\n",
       "      <td>0.000000</td>\n",
       "      <td>0.000000</td>\n",
       "      <td>1993</td>\n",
       "      <td>2019-04-24</td>\n",
       "    </tr>\n",
       "    <tr>\n",
       "      <th>3</th>\n",
       "      <td>Thessaloniki - Suburbs Thermi</td>\n",
       "      <td>1850</td>\n",
       "      <td>Business building</td>\n",
       "      <td>0</td>\n",
       "      <td>0</td>\n",
       "      <td>0</td>\n",
       "      <td>Ground floor</td>\n",
       "      <td>3</td>\n",
       "      <td>1650000</td>\n",
       "      <td>892</td>\n",
       "      <td>40.515778</td>\n",
       "      <td>22.991291</td>\n",
       "      <td>2002</td>\n",
       "      <td>2019-04-24</td>\n",
       "    </tr>\n",
       "    <tr>\n",
       "      <th>4</th>\n",
       "      <td>Kavala Prefecture Thasos</td>\n",
       "      <td>5000</td>\n",
       "      <td>Parcel</td>\n",
       "      <td>0</td>\n",
       "      <td>0</td>\n",
       "      <td>0</td>\n",
       "      <td></td>\n",
       "      <td>0</td>\n",
       "      <td>75000</td>\n",
       "      <td>15</td>\n",
       "      <td>40.693836</td>\n",
       "      <td>24.556259</td>\n",
       "      <td></td>\n",
       "      <td>2019-04-30</td>\n",
       "    </tr>\n",
       "  </tbody>\n",
       "</table>\n",
       "</div>"
      ],
      "text/plain": [
       "                    Neighbourhood  Area_sqm       PropertyType  Bedrooms  \\\n",
       "0                 Cyclades Paros         80         Maisonette         3   \n",
       "1                Corinthia Vocha        154              Store         0   \n",
       "2      Athens - South Nea Smyrni         60             Office         0   \n",
       "3  Thessaloniki - Suburbs Thermi       1850  Business building         0   \n",
       "4       Kavala Prefecture Thasos       5000             Parcel         0   \n",
       "\n",
       "   Bathrooms  Rooms         Floor  Levels  PriceEuro  PricePerM2Euro  \\\n",
       "0          0      0             2       0     155000            1938   \n",
       "1          0      1  Ground floor       0     180000            1169   \n",
       "2          0      0             2       0      63000            1050   \n",
       "3          0      0  Ground floor       3    1650000             892   \n",
       "4          0      0                     0      75000              15   \n",
       "\n",
       "    Latitude  Longitude    ConstructionYear ModifiedOn  \n",
       "0   0.000000   0.000000  Under construction 2019-04-24  \n",
       "1   0.000000   0.000000                1960 2018-11-16  \n",
       "2   0.000000   0.000000                1993 2019-04-24  \n",
       "3  40.515778  22.991291                2002 2019-04-24  \n",
       "4  40.693836  24.556259                     2019-04-30  "
      ]
     },
     "execution_count": 3,
     "metadata": {},
     "output_type": "execute_result"
    }
   ],
   "source": [
    "super_frame.head()"
   ]
  },
  {
   "cell_type": "code",
   "execution_count": 4,
   "metadata": {},
   "outputs": [
    {
     "data": {
      "text/plain": [
       "Neighbourhood       150274\n",
       "Area_sqm            150274\n",
       "PropertyType        150274\n",
       "Bedrooms            150274\n",
       "Bathrooms           150274\n",
       "Rooms               150274\n",
       "Floor               150274\n",
       "Levels              150274\n",
       "PriceEuro           150274\n",
       "PricePerM2Euro      150274\n",
       "Latitude            150274\n",
       "Longitude           150274\n",
       "ConstructionYear    150274\n",
       "ModifiedOn          150274\n",
       "dtype: int64"
      ]
     },
     "execution_count": 4,
     "metadata": {},
     "output_type": "execute_result"
    }
   ],
   "source": [
    "super_frame.count()"
   ]
  },
  {
   "cell_type": "code",
   "execution_count": 5,
   "metadata": {},
   "outputs": [
    {
     "data": {
      "text/plain": [
       "Neighbourhood               object\n",
       "Area_sqm                     int64\n",
       "PropertyType                object\n",
       "Bedrooms                     int64\n",
       "Bathrooms                    int64\n",
       "Rooms                        int64\n",
       "Floor                       object\n",
       "Levels                       int64\n",
       "PriceEuro                    int64\n",
       "PricePerM2Euro               int64\n",
       "Latitude                   float64\n",
       "Longitude                  float64\n",
       "ConstructionYear            object\n",
       "ModifiedOn          datetime64[ns]\n",
       "dtype: object"
      ]
     },
     "execution_count": 5,
     "metadata": {},
     "output_type": "execute_result"
    }
   ],
   "source": [
    "super_frame.dtypes"
   ]
  },
  {
   "cell_type": "markdown",
   "metadata": {},
   "source": [
    "### check null in all columns"
   ]
  },
  {
   "cell_type": "code",
   "execution_count": 11,
   "metadata": {},
   "outputs": [
    {
     "data": {
      "text/plain": [
       "Neighbourhood       False\n",
       "Area_sqm            False\n",
       "PropertyType        False\n",
       "Bedrooms            False\n",
       "Bathrooms           False\n",
       "Rooms               False\n",
       "Floor               False\n",
       "Levels              False\n",
       "PriceEuro           False\n",
       "PricePerM2Euro      False\n",
       "Latitude            False\n",
       "Longitude           False\n",
       "ConstructionYear    False\n",
       "ModifiedOn          False\n",
       "dtype: bool"
      ]
     },
     "execution_count": 11,
     "metadata": {},
     "output_type": "execute_result"
    }
   ],
   "source": [
    "super_frame.isnull().any()"
   ]
  },
  {
   "cell_type": "markdown",
   "metadata": {},
   "source": [
    "### select objects"
   ]
  },
  {
   "cell_type": "code",
   "execution_count": 18,
   "metadata": {},
   "outputs": [
    {
     "data": {
      "text/plain": [
       "['Neighbourhood', 'PropertyType', 'Floor', 'ConstructionYear']"
      ]
     },
     "execution_count": 18,
     "metadata": {},
     "output_type": "execute_result"
    }
   ],
   "source": [
    "object_list = super_frame.select_dtypes(include=['object']).columns.tolist()\n",
    "object_list"
   ]
  },
  {
   "cell_type": "markdown",
   "metadata": {},
   "source": [
    "Neighbourhood"
   ]
  },
  {
   "cell_type": "code",
   "execution_count": 16,
   "metadata": {},
   "outputs": [
    {
     "data": {
      "text/plain": [
       "860"
      ]
     },
     "execution_count": 16,
     "metadata": {},
     "output_type": "execute_result"
    }
   ],
   "source": [
    "super_frame.Neighbourhood.nunique()"
   ]
  },
  {
   "cell_type": "code",
   "execution_count": 17,
   "metadata": {},
   "outputs": [
    {
     "data": {
      "text/plain": [
       "Achaia Patra                         4239\n",
       "Athens - South Glyfada               3630\n",
       "Athens - South Voula                 2801\n",
       "Corfu Prefecture Corfu               2441\n",
       "Athens - North Kifissia              2385\n",
       "Cyclades Mykonos                     2073\n",
       "Cyclades Paros                       1963\n",
       "Kavala Prefecture Kavala             1934\n",
       "Magnesia Volos                       1914\n",
       "Thessaloniki - Suburbs Kalamaria     1846\n",
       "Name: Neighbourhood, dtype: int64"
      ]
     },
     "execution_count": 17,
     "metadata": {},
     "output_type": "execute_result"
    }
   ],
   "source": [
    "super_frame.Neighbourhood.value_counts(sort=True).head(10)"
   ]
  },
  {
   "cell_type": "code",
   "execution_count": 15,
   "metadata": {},
   "outputs": [
    {
     "data": {
      "text/plain": [
       "31"
      ]
     },
     "execution_count": 15,
     "metadata": {},
     "output_type": "execute_result"
    }
   ],
   "source": [
    "# PropertyType\n",
    "super_frame.PropertyType.nunique()"
   ]
  },
  {
   "cell_type": "code",
   "execution_count": 13,
   "metadata": {},
   "outputs": [
    {
     "data": {
      "text/plain": [
       "Land Plot            43053\n",
       "Apartment            33584\n",
       "Detached House       19122\n",
       "Maisonette           12751\n",
       "Parcel               12056\n",
       "Store                 5553\n",
       "Business building     4391\n",
       "Office                3749\n",
       "Villa                 3010\n",
       "Hotel                 2632\n",
       "Name: PropertyType, dtype: int64"
      ]
     },
     "execution_count": 13,
     "metadata": {},
     "output_type": "execute_result"
    }
   ],
   "source": [
    "super_frame.PropertyType.value_counts(sort=True).head(10)"
   ]
  },
  {
   "cell_type": "markdown",
   "metadata": {},
   "source": [
    "### check empty objects "
   ]
  },
  {
   "cell_type": "code",
   "execution_count": 38,
   "metadata": {},
   "outputs": [
    {
     "name": "stdout",
     "output_type": "stream",
     "text": [
      "Empty Objects\n",
      "\n",
      "Neighbourhood : 0\n",
      "PropertyType : 0\n",
      "Floor : 64544\n",
      "ConstructionYear : 57471\n"
     ]
    }
   ],
   "source": [
    "print(\"Empty Objects\\n\")\n",
    "for i in object_list:\n",
    "    print(\"{} : {}\".format(i,len(super_frame[super_frame[i]==''])))"
   ]
  },
  {
   "cell_type": "code",
   "execution_count": 23,
   "metadata": {},
   "outputs": [
    {
     "data": {
      "text/plain": [
       "57471"
      ]
     },
     "execution_count": 23,
     "metadata": {},
     "output_type": "execute_result"
    }
   ],
   "source": [
    "len(super_frame[super_frame.ConstructionYear==''])"
   ]
  },
  {
   "cell_type": "code",
   "execution_count": null,
   "metadata": {},
   "outputs": [],
   "source": []
  },
  {
   "cell_type": "markdown",
   "metadata": {},
   "source": [
    "### select numerical"
   ]
  },
  {
   "cell_type": "code",
   "execution_count": 12,
   "metadata": {},
   "outputs": [
    {
     "data": {
      "image/png": "[encoded data removed]",
      "text/plain": [
       "<Figure size 1440x1080 with 9 Axes>"
      ]
     },
     "metadata": {
      "needs_background": "light"
     },
     "output_type": "display_data"
    }
   ],
   "source": [
    "super_frame.select_dtypes(include=['int64','float64']).hist(bins=50, figsize=(20,15))\n",
    "plt.show()"
   ]
  },
  {
   "cell_type": "markdown",
   "metadata": {},
   "source": [
    "clearly there are outliers that distort the distributions"
   ]
  },
  {
   "cell_type": "code",
   "execution_count": 19,
   "metadata": {},
   "outputs": [
    {
     "data": {
      "text/plain": [
       "Index(['Area_sqm', 'Bedrooms', 'Bathrooms', 'Rooms', 'Levels', 'PriceEuro',\n",
       "       'PricePerM2Euro', 'Latitude', 'Longitude'],\n",
       "      dtype='object')"
      ]
     },
     "execution_count": 19,
     "metadata": {},
     "output_type": "execute_result"
    }
   ],
   "source": [
    "super_frame.select_dtypes(include=['int64','float64']).columns"
   ]
  },
  {
   "cell_type": "code",
   "execution_count": 25,
   "metadata": {},
   "outputs": [
    {
     "data": {
      "text/plain": [
       "286"
      ]
     },
     "execution_count": 25,
     "metadata": {},
     "output_type": "execute_result"
    }
   ],
   "source": [
    "super_frame[super_frame['PricePerM2Euro']==0]['PricePerM2Euro'].count()"
   ]
  },
  {
   "cell_type": "code",
   "execution_count": null,
   "metadata": {},
   "outputs": [],
   "source": []
  },
  {
   "cell_type": "code",
   "execution_count": 10,
   "metadata": {},
   "outputs": [
    {
     "data": {
      "text/plain": [
       "count      150274.000000\n",
       "mean       484353.387266\n",
       "std       1591944.478466\n",
       "min             0.000000\n",
       "25%         75000.000000\n",
       "50%        170000.000000\n",
       "75%        400000.000000\n",
       "max      99999999.000000\n",
       "Name: PriceEuro, dtype: object"
      ]
     },
     "execution_count": 10,
     "metadata": {},
     "output_type": "execute_result"
    }
   ],
   "source": [
    "super_frame['PriceEuro'].describe().apply(lambda x: format(x, 'f'))"
   ]
  },
  {
   "cell_type": "code",
   "execution_count": null,
   "metadata": {},
   "outputs": [],
   "source": [
    "# bins=[-100000000,20000,40000,60000,80000,100000,1000000,10000000,500000000]\n",
    "# choices =['0-200k','200k-400k','400k-600k','600k-800k','800k-1mlln','1mlln-10mlln','10mlln-100mlln','100mlln-500mlln']\n",
    "# super_frame['price_range']=pd.cut(super_frame['PriceEuro'],bins=bins,labels=choices)"
   ]
  },
  {
   "cell_type": "markdown",
   "metadata": {},
   "source": [
    "### select lat, lng"
   ]
  },
  {
   "cell_type": "markdown",
   "metadata": {},
   "source": [
    "meridian"
   ]
  },
  {
   "cell_type": "code",
   "execution_count": null,
   "metadata": {},
   "outputs": [],
   "source": []
  },
  {
   "cell_type": "markdown",
   "metadata": {},
   "source": [
    "0,0"
   ]
  },
  {
   "cell_type": "code",
   "execution_count": 39,
   "metadata": {},
   "outputs": [
    {
     "data": {
      "text/plain": [
       "767"
      ]
     },
     "execution_count": 39,
     "metadata": {},
     "output_type": "execute_result"
    }
   ],
   "source": [
    "# neighbourhoods with 0,0\n",
    "super_frame.query(\"Latitude==0 and Longitude==0\").Neighbourhood.nunique()"
   ]
  },
  {
   "cell_type": "markdown",
   "metadata": {},
   "source": [
    "points out of Greece"
   ]
  },
  {
   "cell_type": "code",
   "execution_count": null,
   "metadata": {},
   "outputs": [],
   "source": []
  },
  {
   "cell_type": "markdown",
   "metadata": {},
   "source": [
    "add mapping boundaries centroid to outer points"
   ]
  },
  {
   "cell_type": "code",
   "execution_count": null,
   "metadata": {},
   "outputs": [],
   "source": []
  },
  {
   "cell_type": "markdown",
   "metadata": {},
   "source": [
    "### select datetime"
   ]
  },
  {
   "cell_type": "code",
   "execution_count": 8,
   "metadata": {},
   "outputs": [
    {
     "data": {
      "text/plain": [
       "Index(['ModifiedOn'], dtype='object')"
      ]
     },
     "execution_count": 8,
     "metadata": {},
     "output_type": "execute_result"
    }
   ],
   "source": [
    "super_frame.select_dtypes(include=['datetime64']).columns"
   ]
  },
  {
   "cell_type": "code",
   "execution_count": null,
   "metadata": {},
   "outputs": [],
   "source": [
    "super_frame.set_index('ModifiedOn')"
   ]
  },
  {
   "cell_type": "code",
   "execution_count": null,
   "metadata": {},
   "outputs": [],
   "source": [
    "# Add columns with year, month, and weekday name\n",
    "super_frame_lol['Year'] = super_frame_lol.index.year\n",
    "super_frame_lol['Month'] = super_frame_lol.index.month\n",
    "super_frame_lol['Weekday Name'] = super_frame_lol.index.weekday_name"
   ]
  },
  {
   "cell_type": "markdown",
   "metadata": {},
   "source": [
    "# Delete outliers"
   ]
  }
 ],
 "metadata": {
  "kernelspec": {
   "display_name": "Python 3",
   "language": "python",
   "name": "python3"
  },
  "language_info": {
   "codemirror_mode": {
    "name": "ipython",
    "version": 3
   },
   "file_extension": ".py",
   "mimetype": "text/x-python",
   "name": "python",
   "nbconvert_exporter": "python",
   "pygments_lexer": "ipython3",
   "version": "3.7.3"
  }
 },
 "nbformat": 4,
 "nbformat_minor": 2
}
