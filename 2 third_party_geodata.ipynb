{
 "cells": [
  {
   "cell_type": "markdown",
   "metadata": {},
   "source": [
    "import libraries"
   ]
  },
  {
   "cell_type": "code",
   "execution_count": 31,
   "metadata": {},
   "outputs": [],
   "source": [
    "import geopandas as gpd\n",
    "import pandas as pd"
   ]
  },
  {
   "cell_type": "markdown",
   "metadata": {},
   "source": [
    "Data\n",
    "\n",
    "coastline: http://geodata.gov.gr/dataset\n",
    "\n",
    "blue flag beaches: http://geodata.gov.gr/dataset/aktes-me-galazia-semaia-2010\n",
    "\n",
    "cities: http://geodata.gov.gr/dataset/poleis\n",
    "\n",
    "villages: http://geodata.gov.gr/dataset/oikismoi\n",
    "\n",
    "census population: http://geodata.gov.gr/dataset/plethusmos-elladas"
   ]
  },
  {
   "cell_type": "code",
   "execution_count": 68,
   "metadata": {},
   "outputs": [],
   "source": [
    "kap_dim = gpd.read_file('../data/oriaprokapodistriakwnota/oria_prokapodistriakwn_ota/oria_prokapodistriakwn_ota_WGS84_ALL.shp')\\\n",
    "#                 [['EKTASH','NAME_LATIN','HubDist','hubdist_2', 'hubdist_3','oiki_densi', 'medianpopu','geometry']]\\\n",
    "#                 .rename(columns={'HubDist':'dist_coast','hubdist_2':'dist_beach','hubdist_3':'dist_city', 'medianpopu':'pop_densi'})"
   ]
  },
  {
   "cell_type": "code",
   "execution_count": 81,
   "metadata": {},
   "outputs": [],
   "source": [
    "# kap_dim.head()"
   ]
  },
  {
   "cell_type": "markdown",
   "metadata": {},
   "source": [
    "enumerate the same NAME_LATIN"
   ]
  },
  {
   "cell_type": "code",
   "execution_count": 69,
   "metadata": {},
   "outputs": [],
   "source": [
    "for i in kap_dim.NAME_LATIN.unique():\n",
    "    if len(kap_dim[kap_dim.NAME_LATIN==i])>1:\n",
    "        index_list = kap_dim[kap_dim.NAME_LATIN==i].index\n",
    "        cnt=0\n",
    "        for index in index_list:\n",
    "            cnt+=1\n",
    "            kap_dim.loc[index, 'NAME_LATIN'] =\"{}_{}\".format(kap_dim.loc[index, 'NAME_LATIN'], cnt)"
   ]
  },
  {
   "cell_type": "code",
   "execution_count": 82,
   "metadata": {},
   "outputs": [],
   "source": [
    "# kap_dim[kap_dim.NAME_LATIN.str.contains('K. SKALAS VRVPOY')]"
   ]
  },
  {
   "cell_type": "code",
   "execution_count": 74,
   "metadata": {},
   "outputs": [
    {
     "data": {
      "text/plain": [
       "7606"
      ]
     },
     "execution_count": 74,
     "metadata": {},
     "output_type": "execute_result"
    }
   ],
   "source": [
    "kap_dim.NAME_LATIN.nunique()"
   ]
  },
  {
   "cell_type": "code",
   "execution_count": 76,
   "metadata": {},
   "outputs": [
    {
     "data": {
      "text/plain": [
       "7606"
      ]
     },
     "execution_count": 76,
     "metadata": {},
     "output_type": "execute_result"
    }
   ],
   "source": [
    "len(kap_dim)"
   ]
  },
  {
   "cell_type": "code",
   "execution_count": 80,
   "metadata": {},
   "outputs": [],
   "source": [
    "# kap_dim.to_file(driver = 'ESRI Shapefile', filename= '../data/oriaprokapodistriakwnota/oria_prokapodistriakwn_ota/oria_prokapodistriakwn_ota_WGS84_ALL.shp')"
   ]
  }
 ],
 "metadata": {
  "kernelspec": {
   "display_name": "Python 3",
   "language": "python",
   "name": "python3"
  },
  "language_info": {
   "codemirror_mode": {
    "name": "ipython",
    "version": 3
   },
   "file_extension": ".py",
   "mimetype": "text/x-python",
   "name": "python",
   "nbconvert_exporter": "python",
   "pygments_lexer": "ipython3",
   "version": "3.7.3"
  }
 },
 "nbformat": 4,
 "nbformat_minor": 2
}
