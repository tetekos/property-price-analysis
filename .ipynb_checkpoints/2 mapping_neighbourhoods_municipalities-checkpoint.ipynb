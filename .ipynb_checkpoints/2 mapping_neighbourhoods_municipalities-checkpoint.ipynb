{
 "cells": [
  {
   "cell_type": "code",
   "execution_count": 2,
   "metadata": {},
   "outputs": [],
   "source": [
    "import geopandas as gpd\n",
    "from geopandas import sjoin\n",
    "import pandas as pd"
   ]
  },
  {
   "cell_type": "code",
   "execution_count": 6,
   "metadata": {},
   "outputs": [],
   "source": [
    "points = gpd.read_file('../gis/df_resolute.shp')"
   ]
  },
  {
   "cell_type": "code",
   "execution_count": 10,
   "metadata": {},
   "outputs": [
    {
     "data": {
      "text/plain": [
       "860"
      ]
     },
     "execution_count": 10,
     "metadata": {},
     "output_type": "execute_result"
    }
   ],
   "source": [
    "neighbourh_list =points.Neighbourh.unique().tolist()\n",
    "len(neighbourh_list)"
   ]
  },
  {
   "cell_type": "markdown",
   "metadata": {},
   "source": [
    "create a dataframe which will be the mapping file"
   ]
  },
  {
   "cell_type": "code",
   "execution_count": 8,
   "metadata": {},
   "outputs": [
    {
     "data": {
      "text/html": [
       "<div>\n",
       "<style scoped>\n",
       "    .dataframe tbody tr th:only-of-type {\n",
       "        vertical-align: middle;\n",
       "    }\n",
       "\n",
       "    .dataframe tbody tr th {\n",
       "        vertical-align: top;\n",
       "    }\n",
       "\n",
       "    .dataframe thead th {\n",
       "        text-align: right;\n",
       "    }\n",
       "</style>\n",
       "<table border=\"1\" class=\"dataframe\">\n",
       "  <thead>\n",
       "    <tr style=\"text-align: right;\">\n",
       "      <th></th>\n",
       "      <th>neighbourh</th>\n",
       "      <th>KWD_YPES</th>\n",
       "    </tr>\n",
       "  </thead>\n",
       "  <tbody>\n",
       "    <tr>\n",
       "      <th>0</th>\n",
       "      <td>Cyclades Paros</td>\n",
       "      <td>None</td>\n",
       "    </tr>\n",
       "    <tr>\n",
       "      <th>1</th>\n",
       "      <td>Corinthia Vocha</td>\n",
       "      <td>None</td>\n",
       "    </tr>\n",
       "    <tr>\n",
       "      <th>2</th>\n",
       "      <td>Athens - South Nea Smyrni</td>\n",
       "      <td>None</td>\n",
       "    </tr>\n",
       "    <tr>\n",
       "      <th>3</th>\n",
       "      <td>Thessaloniki - Suburbs Thermi</td>\n",
       "      <td>None</td>\n",
       "    </tr>\n",
       "    <tr>\n",
       "      <th>4</th>\n",
       "      <td>Kavala Prefecture Thasos</td>\n",
       "      <td>None</td>\n",
       "    </tr>\n",
       "  </tbody>\n",
       "</table>\n",
       "</div>"
      ],
      "text/plain": [
       "                      neighbourh KWD_YPES\n",
       "0                 Cyclades Paros     None\n",
       "1                Corinthia Vocha     None\n",
       "2      Athens - South Nea Smyrni     None\n",
       "3  Thessaloniki - Suburbs Thermi     None\n",
       "4       Kavala Prefecture Thasos     None"
      ]
     },
     "execution_count": 8,
     "metadata": {},
     "output_type": "execute_result"
    }
   ],
   "source": [
    "mapping_df = pd.DataFrame({'neighbourh':neighbourh_list})\n",
    "mapping_df['KWD_YPES']=None\n",
    "mapping_df.head()"
   ]
  },
  {
   "cell_type": "code",
   "execution_count": 11,
   "metadata": {},
   "outputs": [
    {
     "data": {
      "text/plain": [
       "neighbourh    False\n",
       "KWD_YPES       True\n",
       "dtype: bool"
      ]
     },
     "execution_count": 11,
     "metadata": {},
     "output_type": "execute_result"
    }
   ],
   "source": [
    "# check if neighbourh null\n",
    "mapping_df.isnull().any()"
   ]
  },
  {
   "cell_type": "code",
   "execution_count": 13,
   "metadata": {},
   "outputs": [
    {
     "data": {
      "text/plain": [
       "Index(['NAME', 'KWD_YPES', 'geometry'], dtype='object')"
      ]
     },
     "execution_count": 13,
     "metadata": {},
     "output_type": "execute_result"
    }
   ],
   "source": [
    "#http://geodata.gov.gr/en/dataset/oria-demon-kallikrates\n",
    "boundaries = gpd.read_file('../data/oriadhmwnkallikraths/oria_dhmwn_kallikraths/oria_dhmwn_kallikraths_WGS84.shp')\n",
    "boundaries.columns"
   ]
  },
  {
   "cell_type": "code",
   "execution_count": 312,
   "metadata": {},
   "outputs": [],
   "source": [
    "sjoin_df = sjoin(boundaries,points, how='inner', op='intersects', rsuffix='points', lsuffix='boundaries')"
   ]
  },
  {
   "cell_type": "code",
   "execution_count": 313,
   "metadata": {},
   "outputs": [],
   "source": [
    "df_agg = sjoin_df[['Neighbourh', 'KWD_YPES', 'geometry']].groupby(['Neighbourh', 'KWD_YPES'])\\\n",
    "                .count()\\\n",
    "                .reset_index('KWD_YPES')"
   ]
  },
  {
   "cell_type": "code",
   "execution_count": 314,
   "metadata": {},
   "outputs": [
    {
     "data": {
      "text/html": [
       "<div>\n",
       "<style scoped>\n",
       "    .dataframe tbody tr th:only-of-type {\n",
       "        vertical-align: middle;\n",
       "    }\n",
       "\n",
       "    .dataframe tbody tr th {\n",
       "        vertical-align: top;\n",
       "    }\n",
       "\n",
       "    .dataframe thead th {\n",
       "        text-align: right;\n",
       "    }\n",
       "</style>\n",
       "<table border=\"1\" class=\"dataframe\">\n",
       "  <thead>\n",
       "    <tr style=\"text-align: right;\">\n",
       "      <th></th>\n",
       "      <th>KWD_YPES</th>\n",
       "      <th>geometry</th>\n",
       "    </tr>\n",
       "    <tr>\n",
       "      <th>Neighbourh</th>\n",
       "      <th></th>\n",
       "      <th></th>\n",
       "    </tr>\n",
       "  </thead>\n",
       "  <tbody>\n",
       "    <tr>\n",
       "      <th>Achaia Aigeira</th>\n",
       "      <td>9130</td>\n",
       "      <td>15</td>\n",
       "    </tr>\n",
       "    <tr>\n",
       "      <th>Achaia Aigeira</th>\n",
       "      <td>9241</td>\n",
       "      <td>1</td>\n",
       "    </tr>\n",
       "    <tr>\n",
       "      <th>Achaia Aigio</th>\n",
       "      <td>9130</td>\n",
       "      <td>235</td>\n",
       "    </tr>\n",
       "    <tr>\n",
       "      <th>Achaia Akrata</th>\n",
       "      <td>9130</td>\n",
       "      <td>90</td>\n",
       "    </tr>\n",
       "    <tr>\n",
       "      <th>Achaia Diakopto</th>\n",
       "      <td>9130</td>\n",
       "      <td>93</td>\n",
       "    </tr>\n",
       "  </tbody>\n",
       "</table>\n",
       "</div>"
      ],
      "text/plain": [
       "                KWD_YPES  geometry\n",
       "Neighbourh                        \n",
       "Achaia Aigeira      9130        15\n",
       "Achaia Aigeira      9241         1\n",
       "Achaia Aigio        9130       235\n",
       "Achaia Akrata       9130        90\n",
       "Achaia Diakopto     9130        93"
      ]
     },
     "execution_count": 314,
     "metadata": {},
     "output_type": "execute_result"
    }
   ],
   "source": [
    "df_agg.head()"
   ]
  },
  {
   "cell_type": "code",
   "execution_count": 14,
   "metadata": {},
   "outputs": [],
   "source": [
    "# df_agg[df_agg.index=='Messinia Meligala'].empty"
   ]
  },
  {
   "cell_type": "code",
   "execution_count": 316,
   "metadata": {},
   "outputs": [],
   "source": [
    "def get_KWD_YPES_from_df_agg(neigh):\n",
    "    if df_agg[df_agg.index==neigh].empty:\n",
    "        return None\n",
    "    else:\n",
    "        return df_agg[df_agg.index==neigh].nlargest(1,'geometry').iloc[0,0]"
   ]
  },
  {
   "cell_type": "code",
   "execution_count": 317,
   "metadata": {},
   "outputs": [],
   "source": [
    "for index, row in mapping_df.iterrows():\n",
    "    row['KWD_YPES'] = get_KWD_YPES_from_df_agg(row['neighbourh'])"
   ]
  },
  {
   "cell_type": "code",
   "execution_count": 318,
   "metadata": {},
   "outputs": [
    {
     "data": {
      "text/plain": [
       "True"
      ]
     },
     "execution_count": 318,
     "metadata": {},
     "output_type": "execute_result"
    }
   ],
   "source": [
    "mapping_df['KWD_YPES'].isnull().any()"
   ]
  },
  {
   "cell_type": "code",
   "execution_count": 321,
   "metadata": {},
   "outputs": [
    {
     "data": {
      "text/html": [
       "<div>\n",
       "<style scoped>\n",
       "    .dataframe tbody tr th:only-of-type {\n",
       "        vertical-align: middle;\n",
       "    }\n",
       "\n",
       "    .dataframe tbody tr th {\n",
       "        vertical-align: top;\n",
       "    }\n",
       "\n",
       "    .dataframe thead th {\n",
       "        text-align: right;\n",
       "    }\n",
       "</style>\n",
       "<table border=\"1\" class=\"dataframe\">\n",
       "  <thead>\n",
       "    <tr style=\"text-align: right;\">\n",
       "      <th></th>\n",
       "      <th>neighbourh</th>\n",
       "      <th>KWD_YPES</th>\n",
       "    </tr>\n",
       "  </thead>\n",
       "  <tbody>\n",
       "    <tr>\n",
       "      <th>297</th>\n",
       "      <td>Messinia Meligala</td>\n",
       "      <td>None</td>\n",
       "    </tr>\n",
       "    <tr>\n",
       "      <th>448</th>\n",
       "      <td>Chania Prefecture Keramia</td>\n",
       "      <td>None</td>\n",
       "    </tr>\n",
       "    <tr>\n",
       "      <th>512</th>\n",
       "      <td>Kozani Prefecture Elimeia</td>\n",
       "      <td>None</td>\n",
       "    </tr>\n",
       "    <tr>\n",
       "      <th>582</th>\n",
       "      <td>Arta Prefecture Amvrakia</td>\n",
       "      <td>None</td>\n",
       "    </tr>\n",
       "    <tr>\n",
       "      <th>608</th>\n",
       "      <td>Heraklion Prefecture Tilisos</td>\n",
       "      <td>None</td>\n",
       "    </tr>\n",
       "    <tr>\n",
       "      <th>622</th>\n",
       "      <td>Aetolia &amp; Acarnania Apodotia</td>\n",
       "      <td>None</td>\n",
       "    </tr>\n",
       "    <tr>\n",
       "      <th>631</th>\n",
       "      <td>Thesprotia Parapotamos</td>\n",
       "      <td>None</td>\n",
       "    </tr>\n",
       "    <tr>\n",
       "      <th>633</th>\n",
       "      <td>Lakonia Oinountas</td>\n",
       "      <td>None</td>\n",
       "    </tr>\n",
       "    <tr>\n",
       "      <th>652</th>\n",
       "      <td>Lesvos Prefecture Lesvos - Agiasos</td>\n",
       "      <td>None</td>\n",
       "    </tr>\n",
       "    <tr>\n",
       "      <th>679</th>\n",
       "      <td>Aetolia &amp; Acarnania Aggelokastro</td>\n",
       "      <td>None</td>\n",
       "    </tr>\n",
       "    <tr>\n",
       "      <th>698</th>\n",
       "      <td>Trikala Prefecture Megala Kalivia</td>\n",
       "      <td>None</td>\n",
       "    </tr>\n",
       "    <tr>\n",
       "      <th>708</th>\n",
       "      <td>Chania Prefecture Gavdos</td>\n",
       "      <td>None</td>\n",
       "    </tr>\n",
       "    <tr>\n",
       "      <th>717</th>\n",
       "      <td>Lasithi Prefecture Oropedio Lasithiou</td>\n",
       "      <td>None</td>\n",
       "    </tr>\n",
       "    <tr>\n",
       "      <th>720</th>\n",
       "      <td>Larissa Prefecture Sarantaporo</td>\n",
       "      <td>None</td>\n",
       "    </tr>\n",
       "    <tr>\n",
       "      <th>732</th>\n",
       "      <td>Arta Prefecture Kompotio</td>\n",
       "      <td>None</td>\n",
       "    </tr>\n",
       "    <tr>\n",
       "      <th>735</th>\n",
       "      <td>Evros Kiprinos</td>\n",
       "      <td>None</td>\n",
       "    </tr>\n",
       "    <tr>\n",
       "      <th>745</th>\n",
       "      <td>Ioannina Prefecture Pramanta</td>\n",
       "      <td>None</td>\n",
       "    </tr>\n",
       "    <tr>\n",
       "      <th>752</th>\n",
       "      <td>Heraklion Prefecture Zaros</td>\n",
       "      <td>None</td>\n",
       "    </tr>\n",
       "    <tr>\n",
       "      <th>762</th>\n",
       "      <td>Aetolia &amp; Acarnania Inachos</td>\n",
       "      <td>None</td>\n",
       "    </tr>\n",
       "    <tr>\n",
       "      <th>768</th>\n",
       "      <td>Heraklion Prefecture Krousonas</td>\n",
       "      <td>None</td>\n",
       "    </tr>\n",
       "    <tr>\n",
       "      <th>774</th>\n",
       "      <td>Kozani Prefecture Mourikio</td>\n",
       "      <td>None</td>\n",
       "    </tr>\n",
       "    <tr>\n",
       "      <th>776</th>\n",
       "      <td>Thesprotia Souli</td>\n",
       "      <td>None</td>\n",
       "    </tr>\n",
       "    <tr>\n",
       "      <th>784</th>\n",
       "      <td>Achaia Kalentzi</td>\n",
       "      <td>None</td>\n",
       "    </tr>\n",
       "    <tr>\n",
       "      <th>793</th>\n",
       "      <td>Chania Prefecture Kantanos</td>\n",
       "      <td>None</td>\n",
       "    </tr>\n",
       "    <tr>\n",
       "      <th>802</th>\n",
       "      <td>Kozani Prefecture Vlasti</td>\n",
       "      <td>None</td>\n",
       "    </tr>\n",
       "    <tr>\n",
       "      <th>804</th>\n",
       "      <td>Aetolia &amp; Acarnania Paravola</td>\n",
       "      <td>None</td>\n",
       "    </tr>\n",
       "    <tr>\n",
       "      <th>815</th>\n",
       "      <td>Boeotia Antikira</td>\n",
       "      <td>None</td>\n",
       "    </tr>\n",
       "    <tr>\n",
       "      <th>821</th>\n",
       "      <td>Karditsa Prefecture Pamisos</td>\n",
       "      <td>None</td>\n",
       "    </tr>\n",
       "    <tr>\n",
       "      <th>830</th>\n",
       "      <td>Pieria Prefecture Petra</td>\n",
       "      <td>None</td>\n",
       "    </tr>\n",
       "    <tr>\n",
       "      <th>833</th>\n",
       "      <td>Trikala Prefecture Pindaio</td>\n",
       "      <td>None</td>\n",
       "    </tr>\n",
       "    <tr>\n",
       "      <th>834</th>\n",
       "      <td>Messinia Eira</td>\n",
       "      <td>None</td>\n",
       "    </tr>\n",
       "    <tr>\n",
       "      <th>837</th>\n",
       "      <td>Lakonia Niata</td>\n",
       "      <td>None</td>\n",
       "    </tr>\n",
       "    <tr>\n",
       "      <th>838</th>\n",
       "      <td>Boeotia Distomo</td>\n",
       "      <td>None</td>\n",
       "    </tr>\n",
       "    <tr>\n",
       "      <th>843</th>\n",
       "      <td>Lakonia Karies</td>\n",
       "      <td>None</td>\n",
       "    </tr>\n",
       "    <tr>\n",
       "      <th>844</th>\n",
       "      <td>Heraklion Prefecture Thrapsano</td>\n",
       "      <td>None</td>\n",
       "    </tr>\n",
       "    <tr>\n",
       "      <th>846</th>\n",
       "      <td>Ioannina Prefecture Vathipedo</td>\n",
       "      <td>None</td>\n",
       "    </tr>\n",
       "    <tr>\n",
       "      <th>850</th>\n",
       "      <td>Grevena Samarina</td>\n",
       "      <td>None</td>\n",
       "    </tr>\n",
       "    <tr>\n",
       "      <th>851</th>\n",
       "      <td>Lakonia Pellana</td>\n",
       "      <td>None</td>\n",
       "    </tr>\n",
       "    <tr>\n",
       "      <th>854</th>\n",
       "      <td>Ioannina Prefecture Sirrako</td>\n",
       "      <td>None</td>\n",
       "    </tr>\n",
       "    <tr>\n",
       "      <th>859</th>\n",
       "      <td>Ioannina Prefecture Fourka</td>\n",
       "      <td>None</td>\n",
       "    </tr>\n",
       "  </tbody>\n",
       "</table>\n",
       "</div>"
      ],
      "text/plain": [
       "                                neighbourh KWD_YPES\n",
       "297                      Messinia Meligala     None\n",
       "448              Chania Prefecture Keramia     None\n",
       "512              Kozani Prefecture Elimeia     None\n",
       "582               Arta Prefecture Amvrakia     None\n",
       "608           Heraklion Prefecture Tilisos     None\n",
       "622           Aetolia & Acarnania Apodotia     None\n",
       "631                 Thesprotia Parapotamos     None\n",
       "633                      Lakonia Oinountas     None\n",
       "652     Lesvos Prefecture Lesvos - Agiasos     None\n",
       "679       Aetolia & Acarnania Aggelokastro     None\n",
       "698      Trikala Prefecture Megala Kalivia     None\n",
       "708               Chania Prefecture Gavdos     None\n",
       "717  Lasithi Prefecture Oropedio Lasithiou     None\n",
       "720         Larissa Prefecture Sarantaporo     None\n",
       "732               Arta Prefecture Kompotio     None\n",
       "735                         Evros Kiprinos     None\n",
       "745           Ioannina Prefecture Pramanta     None\n",
       "752             Heraklion Prefecture Zaros     None\n",
       "762            Aetolia & Acarnania Inachos     None\n",
       "768         Heraklion Prefecture Krousonas     None\n",
       "774             Kozani Prefecture Mourikio     None\n",
       "776                       Thesprotia Souli     None\n",
       "784                        Achaia Kalentzi     None\n",
       "793             Chania Prefecture Kantanos     None\n",
       "802               Kozani Prefecture Vlasti     None\n",
       "804           Aetolia & Acarnania Paravola     None\n",
       "815                       Boeotia Antikira     None\n",
       "821            Karditsa Prefecture Pamisos     None\n",
       "830                Pieria Prefecture Petra     None\n",
       "833             Trikala Prefecture Pindaio     None\n",
       "834                          Messinia Eira     None\n",
       "837                          Lakonia Niata     None\n",
       "838                        Boeotia Distomo     None\n",
       "843                         Lakonia Karies     None\n",
       "844         Heraklion Prefecture Thrapsano     None\n",
       "846          Ioannina Prefecture Vathipedo     None\n",
       "850                       Grevena Samarina     None\n",
       "851                        Lakonia Pellana     None\n",
       "854            Ioannina Prefecture Sirrako     None\n",
       "859             Ioannina Prefecture Fourka     None"
      ]
     },
     "execution_count": 321,
     "metadata": {},
     "output_type": "execute_result"
    }
   ],
   "source": [
    "# those must be done manually\n",
    "mapping_df[mapping_df['KWD_YPES'].isnull()]"
   ]
  },
  {
   "cell_type": "code",
   "execution_count": 323,
   "metadata": {},
   "outputs": [],
   "source": [
    "# mapping_df.to_csv('mapping_neighbourhood_KWD_YPES.csv', index=False)"
   ]
  },
  {
   "cell_type": "markdown",
   "metadata": {},
   "source": [
    "### fuzzy matching "
   ]
  },
  {
   "cell_type": "code",
   "execution_count": 1,
   "metadata": {},
   "outputs": [
    {
     "ename": "ModuleNotFoundError",
     "evalue": "No module named 'fuzzywuzzy'",
     "output_type": "error",
     "traceback": [
      "\u001b[0;31m---------------------------------------------------------------------------\u001b[0m",
      "\u001b[0;31mModuleNotFoundError\u001b[0m                       Traceback (most recent call last)",
      "\u001b[0;32m<ipython-input-1-604ebbd17881>\u001b[0m in \u001b[0;36m<module>\u001b[0;34m()\u001b[0m\n\u001b[0;32m----> 1\u001b[0;31m \u001b[0;32mfrom\u001b[0m \u001b[0mfuzzywuzzy\u001b[0m \u001b[0;32mimport\u001b[0m \u001b[0mfuzz\u001b[0m\u001b[0;34m\u001b[0m\u001b[0m\n\u001b[0m",
      "\u001b[0;31mModuleNotFoundError\u001b[0m: No module named 'fuzzywuzzy'"
     ]
    }
   ],
   "source": [
    "from fuzzywuzzy import fuzz"
   ]
  },
  {
   "cell_type": "code",
   "execution_count": null,
   "metadata": {},
   "outputs": [],
   "source": [
    "mapping_df= pd.read_csv('untitled.csv')\n",
    "mapping_df['leben']= 0\n",
    "mapping_df.head()"
   ]
  },
  {
   "cell_type": "code",
   "execution_count": null,
   "metadata": {},
   "outputs": [],
   "source": [
    "for index, row in lol.iterrows():\n",
    "    pap  =row['NAME_LATIN']\n",
    "    pap = pap.replace('U','TH')\n",
    "    lol.loc[index,'NAME_LATIN'] = pap\n",
    "\n",
    "for index, row in lol.iterrows():    \n",
    "    pap  =row['NAME_LATIN']\n",
    "    pap = pap.replace('HS', 'IS')\n",
    "    lol.loc[index,'NAME_LATIN'] = pap\n",
    "    \n",
    "for index, row in lol.iterrows():    \n",
    "    pap  =row['NAME_LATIN']\n",
    "    pap = pap.replace('V', 'O')\n",
    "    lol.loc[index,'NAME_LATIN'] = pap\n",
    "    \n",
    "for index, row in lol.iterrows():    \n",
    "    pap  =row['NAME_LATIN']\n",
    "    pap = pap.replace('HH', 'HI')\n",
    "    lol.loc[index,'NAME_LATIN'] = pap\n",
    "    \n",
    "for index, row in lol.iterrows():\n",
    "    lol.loc[index,'NAME_LATIN'] = row['NAME_LATIN'][2:]"
   ]
  },
  {
   "cell_type": "code",
   "execution_count": null,
   "metadata": {},
   "outputs": [],
   "source": [
    "mapping_df.head()"
   ]
  },
  {
   "cell_type": "code",
   "execution_count": null,
   "metadata": {},
   "outputs": [],
   "source": [
    "for index, row in mapping_df.iterrows():\n",
    "    mapping_df.loc[index,'leben'] = int(fuzz.WRatio(row['neighbourh'], row['NAME_LATIN']))"
   ]
  },
  {
   "cell_type": "code",
   "execution_count": null,
   "metadata": {},
   "outputs": [],
   "source": [
    "mapping_df.leben.describe()"
   ]
  },
  {
   "cell_type": "code",
   "execution_count": null,
   "metadata": {},
   "outputs": [],
   "source": [
    "mapping_df.leben.hist()"
   ]
  }
 ],
 "metadata": {
  "kernelspec": {
   "display_name": "Python 3",
   "language": "python",
   "name": "python3"
  },
  "language_info": {
   "codemirror_mode": {
    "name": "ipython",
    "version": 3
   },
   "file_extension": ".py",
   "mimetype": "text/x-python",
   "name": "python",
   "nbconvert_exporter": "python",
   "pygments_lexer": "ipython3",
   "version": "3.6.5"
  }
 },
 "nbformat": 4,
 "nbformat_minor": 2
}
