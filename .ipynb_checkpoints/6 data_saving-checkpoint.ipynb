{
 "cells": [
  {
   "cell_type": "markdown",
   "metadata": {},
   "source": [
    "import libraries"
   ]
  },
  {
   "cell_type": "code",
   "execution_count": 1,
   "metadata": {},
   "outputs": [],
   "source": [
    "import geopandas as gpd\n",
    "import pandas as pd\n",
    "import matplotlib.pyplot as plt"
   ]
  },
  {
   "cell_type": "markdown",
   "metadata": {},
   "source": [
    "load the kap_dim to merge them later on NAME_LATIN"
   ]
  },
  {
   "cell_type": "code",
   "execution_count": 2,
   "metadata": {},
   "outputs": [],
   "source": [
    "kap_dim = gpd.read_file('../data/oriaprokapodistriakwnota/oria_prokapodistriakwn_ota/oria_prokapodistriakwn_ota_WGS84_ALL.shp')\\\n",
    "                [['NAME_LATIN','HubDist','hubdist_2', 'hubdist_3','oiki_densi', 'medianpopu','geometry']]\\\n",
    "                .rename(columns={'HubDist':'dist_coast','hubdist_2':'dist_beach','hubdist_3':'dist_city', 'medianpopu':'pop_densi'})"
   ]
  },
  {
   "cell_type": "code",
   "execution_count": 3,
   "metadata": {},
   "outputs": [
    {
     "data": {
      "text/html": [
       "<div>\n",
       "<style scoped>\n",
       "    .dataframe tbody tr th:only-of-type {\n",
       "        vertical-align: middle;\n",
       "    }\n",
       "\n",
       "    .dataframe tbody tr th {\n",
       "        vertical-align: top;\n",
       "    }\n",
       "\n",
       "    .dataframe thead th {\n",
       "        text-align: right;\n",
       "    }\n",
       "</style>\n",
       "<table border=\"1\" class=\"dataframe\">\n",
       "  <thead>\n",
       "    <tr style=\"text-align: right;\">\n",
       "      <th></th>\n",
       "      <th>NAME_LATIN</th>\n",
       "      <th>dist_coast</th>\n",
       "      <th>dist_beach</th>\n",
       "      <th>dist_city</th>\n",
       "      <th>oiki_densi</th>\n",
       "      <th>pop_densi</th>\n",
       "      <th>geometry</th>\n",
       "    </tr>\n",
       "  </thead>\n",
       "  <tbody>\n",
       "    <tr>\n",
       "      <th>0</th>\n",
       "      <td>K. SKALAS VRVPOY_1</td>\n",
       "      <td>0.00589</td>\n",
       "      <td>0.09695</td>\n",
       "      <td>0.17829</td>\n",
       "      <td>0.14515</td>\n",
       "      <td>3711.0</td>\n",
       "      <td>POLYGON ((23.75101429971932 38.33518802431447,...</td>\n",
       "    </tr>\n",
       "    <tr>\n",
       "      <th>1</th>\n",
       "      <td>K. NEVN PALATIVN_1</td>\n",
       "      <td>0.00055</td>\n",
       "      <td>0.06213</td>\n",
       "      <td>0.21335</td>\n",
       "      <td>0.30373</td>\n",
       "      <td>3647.0</td>\n",
       "      <td>POLYGON ((23.76508710930473 38.32550627741894,...</td>\n",
       "    </tr>\n",
       "    <tr>\n",
       "      <th>2</th>\n",
       "      <td>K. SYKAMINOY</td>\n",
       "      <td>0.03027</td>\n",
       "      <td>0.11387</td>\n",
       "      <td>0.19576</td>\n",
       "      <td>0.28702</td>\n",
       "      <td>3647.0</td>\n",
       "      <td>POLYGON ((23.68491052299799 38.32400248539284,...</td>\n",
       "    </tr>\n",
       "    <tr>\n",
       "      <th>3</th>\n",
       "      <td>K. MARKOPOYLOY VRVPOY</td>\n",
       "      <td>0.07166</td>\n",
       "      <td>0.09610</td>\n",
       "      <td>0.27729</td>\n",
       "      <td>0.17024</td>\n",
       "      <td>3770.5</td>\n",
       "      <td>POLYGON ((23.83593913761958 38.31217132561655,...</td>\n",
       "    </tr>\n",
       "    <tr>\n",
       "      <th>4</th>\n",
       "      <td>K. NEVN PALATIVN_2</td>\n",
       "      <td>0.00055</td>\n",
       "      <td>0.06213</td>\n",
       "      <td>0.21335</td>\n",
       "      <td>1.20787</td>\n",
       "      <td>3647.0</td>\n",
       "      <td>POLYGON ((23.72745967508806 38.32690290685498,...</td>\n",
       "    </tr>\n",
       "  </tbody>\n",
       "</table>\n",
       "</div>"
      ],
      "text/plain": [
       "              NAME_LATIN  dist_coast  dist_beach  dist_city  oiki_densi  \\\n",
       "0     K. SKALAS VRVPOY_1     0.00589     0.09695    0.17829     0.14515   \n",
       "1     K. NEVN PALATIVN_1     0.00055     0.06213    0.21335     0.30373   \n",
       "2           K. SYKAMINOY     0.03027     0.11387    0.19576     0.28702   \n",
       "3  K. MARKOPOYLOY VRVPOY     0.07166     0.09610    0.27729     0.17024   \n",
       "4     K. NEVN PALATIVN_2     0.00055     0.06213    0.21335     1.20787   \n",
       "\n",
       "   pop_densi                                           geometry  \n",
       "0     3711.0  POLYGON ((23.75101429971932 38.33518802431447,...  \n",
       "1     3647.0  POLYGON ((23.76508710930473 38.32550627741894,...  \n",
       "2     3647.0  POLYGON ((23.68491052299799 38.32400248539284,...  \n",
       "3     3770.5  POLYGON ((23.83593913761958 38.31217132561655,...  \n",
       "4     3647.0  POLYGON ((23.72745967508806 38.32690290685498,...  "
      ]
     },
     "execution_count": 3,
     "metadata": {},
     "output_type": "execute_result"
    }
   ],
   "source": [
    "kap_dim.head()"
   ]
  },
  {
   "cell_type": "markdown",
   "metadata": {},
   "source": [
    "load the cleaned spitogatos data"
   ]
  },
  {
   "cell_type": "code",
   "execution_count": 5,
   "metadata": {},
   "outputs": [],
   "source": [
    "new_ns_frame = pd.read_csv('df_resolute_CLEANED_4IQR.csv')\n",
    "new_ns_frame.sample()"
   ]
  },
  {
   "cell_type": "code",
   "execution_count": 6,
   "metadata": {},
   "outputs": [
    {
     "data": {
      "text/plain": [
       "78133"
      ]
     },
     "execution_count": 6,
     "metadata": {},
     "output_type": "execute_result"
    }
   ],
   "source": [
    "len(new_ns_frame)"
   ]
  },
  {
   "cell_type": "markdown",
   "metadata": {},
   "source": [
    "merge them"
   ]
  },
  {
   "cell_type": "code",
   "execution_count": 7,
   "metadata": {},
   "outputs": [],
   "source": [
    "points_geo = pd.merge(new_ns_frame, kap_dim, on='NAME_LATIN')"
   ]
  },
  {
   "cell_type": "code",
   "execution_count": 9,
   "metadata": {},
   "outputs": [],
   "source": [
    "points_geo.sample()"
   ]
  },
  {
   "cell_type": "markdown",
   "metadata": {},
   "source": [
    "### save to csv "
   ]
  },
  {
   "cell_type": "code",
   "execution_count": 10,
   "metadata": {},
   "outputs": [],
   "source": [
    "# pd.DataFrame(points_geo.drop(columns='geometry')).to_csv('df_resolute_CLEANED_4IQR_4PREP.csv', index=False)"
   ]
  },
  {
   "cell_type": "markdown",
   "metadata": {},
   "source": [
    "### per name find the avg price and area "
   ]
  },
  {
   "cell_type": "code",
   "execution_count": 9,
   "metadata": {},
   "outputs": [],
   "source": [
    "name_latin_price_area = points_geo[['PricePerM2','Area_sqm','NAME_LATIN']].groupby('NAME_LATIN').mean()\\\n",
    "                                                    .reset_index()"
   ]
  },
  {
   "cell_type": "code",
   "execution_count": 12,
   "metadata": {},
   "outputs": [],
   "source": [
    "# name_latin_price_area.to_csv('name_latin_price_area.csv', index=False)"
   ]
  },
  {
   "cell_type": "code",
   "execution_count": 11,
   "metadata": {},
   "outputs": [
    {
     "data": {
      "text/html": [
       "<div>\n",
       "<style scoped>\n",
       "    .dataframe tbody tr th:only-of-type {\n",
       "        vertical-align: middle;\n",
       "    }\n",
       "\n",
       "    .dataframe tbody tr th {\n",
       "        vertical-align: top;\n",
       "    }\n",
       "\n",
       "    .dataframe thead th {\n",
       "        text-align: right;\n",
       "    }\n",
       "</style>\n",
       "<table border=\"1\" class=\"dataframe\">\n",
       "  <thead>\n",
       "    <tr style=\"text-align: right;\">\n",
       "      <th></th>\n",
       "      <th>NAME_LATIN</th>\n",
       "      <th>PricePerM2</th>\n",
       "      <th>Area_sqm</th>\n",
       "    </tr>\n",
       "  </thead>\n",
       "  <tbody>\n",
       "    <tr>\n",
       "      <th>507</th>\n",
       "      <td>K. KORVNEIAS</td>\n",
       "      <td>10.0</td>\n",
       "      <td>2600.0</td>\n",
       "    </tr>\n",
       "    <tr>\n",
       "      <th>710</th>\n",
       "      <td>K. TYLISOY</td>\n",
       "      <td>27.0</td>\n",
       "      <td>2580.0</td>\n",
       "    </tr>\n",
       "    <tr>\n",
       "      <th>372</th>\n",
       "      <td>K. BAMBAKIAS</td>\n",
       "      <td>6.0</td>\n",
       "      <td>2500.0</td>\n",
       "    </tr>\n",
       "    <tr>\n",
       "      <th>245</th>\n",
       "      <td>D. SIATISTHS</td>\n",
       "      <td>1.0</td>\n",
       "      <td>2200.0</td>\n",
       "    </tr>\n",
       "    <tr>\n",
       "      <th>486</th>\n",
       "      <td>K. KATV BASILIKVN</td>\n",
       "      <td>2.0</td>\n",
       "      <td>2075.0</td>\n",
       "    </tr>\n",
       "  </tbody>\n",
       "</table>\n",
       "</div>"
      ],
      "text/plain": [
       "            NAME_LATIN  PricePerM2  Area_sqm\n",
       "507       K. KORVNEIAS        10.0    2600.0\n",
       "710         K. TYLISOY        27.0    2580.0\n",
       "372       K. BAMBAKIAS         6.0    2500.0\n",
       "245       D. SIATISTHS         1.0    2200.0\n",
       "486  K. KATV BASILIKVN         2.0    2075.0"
      ]
     },
     "execution_count": 11,
     "metadata": {},
     "output_type": "execute_result"
    }
   ],
   "source": [
    "name_latin_price_area.sort_values('Area_sqm', ascending=False).head()"
   ]
  },
  {
   "cell_type": "code",
   "execution_count": 13,
   "metadata": {},
   "outputs": [],
   "source": [
    "NAME_LATIN_meanPricePerM2 = pd.DataFrame(points_geo[\"PricePerM2\"].groupby(points_geo['NAME_LATIN']).mean())\n",
    "NAME_LATIN_meanPriceEuro = pd.DataFrame(points_geo[\"PriceEuro\"].groupby(points_geo['NAME_LATIN']).mean())"
   ]
  },
  {
   "cell_type": "code",
   "execution_count": 14,
   "metadata": {},
   "outputs": [
    {
     "data": {
      "text/html": [
       "<div>\n",
       "<style scoped>\n",
       "    .dataframe tbody tr th:only-of-type {\n",
       "        vertical-align: middle;\n",
       "    }\n",
       "\n",
       "    .dataframe tbody tr th {\n",
       "        vertical-align: top;\n",
       "    }\n",
       "\n",
       "    .dataframe thead th {\n",
       "        text-align: right;\n",
       "    }\n",
       "</style>\n",
       "<table border=\"1\" class=\"dataframe\">\n",
       "  <thead>\n",
       "    <tr style=\"text-align: right;\">\n",
       "      <th></th>\n",
       "      <th>PricePerM2</th>\n",
       "    </tr>\n",
       "    <tr>\n",
       "      <th>NAME_LATIN</th>\n",
       "      <th></th>\n",
       "    </tr>\n",
       "  </thead>\n",
       "  <tbody>\n",
       "    <tr>\n",
       "      <th>K. SXOINOYSSHS (NHSOS)_1</th>\n",
       "      <td>4643.000000</td>\n",
       "    </tr>\n",
       "    <tr>\n",
       "      <th>D. MYKONIVN (NHSOS MYKONOS)_1</th>\n",
       "      <td>4015.019672</td>\n",
       "    </tr>\n",
       "    <tr>\n",
       "      <th>D. BOYLIAGMENHS_1</th>\n",
       "      <td>3380.666667</td>\n",
       "    </tr>\n",
       "    <tr>\n",
       "      <th>K. OIAS</th>\n",
       "      <td>2791.529880</td>\n",
       "    </tr>\n",
       "    <tr>\n",
       "      <th>K. APOLLVNIAS (NHSOS SIFNOS)_1</th>\n",
       "      <td>2729.566372</td>\n",
       "    </tr>\n",
       "  </tbody>\n",
       "</table>\n",
       "</div>"
      ],
      "text/plain": [
       "                                 PricePerM2\n",
       "NAME_LATIN                                 \n",
       "K. SXOINOYSSHS (NHSOS)_1        4643.000000\n",
       "D. MYKONIVN (NHSOS MYKONOS)_1   4015.019672\n",
       "D. BOYLIAGMENHS_1               3380.666667\n",
       "K. OIAS                         2791.529880\n",
       "K. APOLLVNIAS (NHSOS SIFNOS)_1  2729.566372"
      ]
     },
     "execution_count": 14,
     "metadata": {},
     "output_type": "execute_result"
    }
   ],
   "source": [
    "NAME_LATIN_meanPricePerM2.sort_values('PricePerM2', ascending=False).head()"
   ]
  },
  {
   "cell_type": "code",
   "execution_count": 56,
   "metadata": {},
   "outputs": [],
   "source": [
    "# NAME_LATIN_meanPriceEuro.sort_values('PriceEuro', ascending=False).head()"
   ]
  }
 ],
 "metadata": {
  "kernelspec": {
   "display_name": "Python 3",
   "language": "python",
   "name": "python3"
  },
  "language_info": {
   "codemirror_mode": {
    "name": "ipython",
    "version": 3
   },
   "file_extension": ".py",
   "mimetype": "text/x-python",
   "name": "python",
   "nbconvert_exporter": "python",
   "pygments_lexer": "ipython3",
   "version": "3.7.3"
  }
 },
 "nbformat": 4,
 "nbformat_minor": 2
}
