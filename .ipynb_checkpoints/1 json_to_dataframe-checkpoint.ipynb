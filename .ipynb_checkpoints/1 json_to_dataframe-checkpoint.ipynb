{
 "cells": [
  {
   "cell_type": "code",
   "execution_count": 11,
   "metadata": {},
   "outputs": [],
   "source": [
    "import pandas as pd\n",
    "import glob\n",
    "from multiprocessing import Pool\n",
    "from multiprocessing import cpu_count\n",
    "num_partitions = cpu_count()"
   ]
  },
  {
   "cell_type": "code",
   "execution_count": null,
   "metadata": {},
   "outputs": [],
   "source": [
    "# df = pd.read_json(r\"/home/ubuntu/data/resolute/resolute/Achaia Aigeira_3313351.json\", lines=True)\n",
    "#scp -i ~/.ssh/ansible-user.pem revolut.ipynb ubuntu@10.91.52.118:/home/ubuntu/"
   ]
  },
  {
   "cell_type": "code",
   "execution_count": 2,
   "metadata": {},
   "outputs": [],
   "source": [
    "def json_to_dataframe(all_files_sample):\n",
    "    column_list = ['Neighbourhood',\n",
    "                   'Area_sqm', 'PropertyType',\n",
    "                   'Bedrooms', 'Bathrooms', 'Rooms', 'Floor', 'Levels',\n",
    "                   'PriceEuro','PricePerM2Euro',\n",
    "                   'Latitude', 'Longitude',\n",
    "                   'ConstructionYear', 'ModifiedOn']\n",
    "    li = []\n",
    "    \n",
    "    for filename in all_files_sample:\n",
    "        df = pd.read_json(filename, lines=True)[column_list]\n",
    "        li.append(df)\n",
    "    frame = pd.concat(li, axis=0, ignore_index=True)\n",
    "    \n",
    "    return frame"
   ]
  },
  {
   "cell_type": "code",
   "execution_count": 8,
   "metadata": {},
   "outputs": [],
   "source": [
    "path = r\"../data/resolute/resolute\" # use your path\n",
    "all_files = glob.glob(path + \"/*.json\")"
   ]
  },
  {
   "cell_type": "code",
   "execution_count": null,
   "metadata": {},
   "outputs": [],
   "source": [
    "all_files_split = np.array_split(all_files, num_partitions)"
   ]
  },
  {
   "cell_type": "code",
   "execution_count": null,
   "metadata": {},
   "outputs": [],
   "source": [
    "with Pool(processes=num_partitions) as pool1:\n",
    "    super_frame = pd.concat(pool1.map(json_to_dataframe, all_files_split))"
   ]
  },
  {
   "cell_type": "code",
   "execution_count": null,
   "metadata": {},
   "outputs": [],
   "source": [
    "super_frame.head()"
   ]
  },
  {
   "cell_type": "code",
   "execution_count": null,
   "metadata": {},
   "outputs": [],
   "source": [
    "# convert to datetime object\n",
    "super_frame['ModifiedOn'] = pd.to_datetime(super_frame['ModifiedOn'])"
   ]
  },
  {
   "cell_type": "code",
   "execution_count": null,
   "metadata": {},
   "outputs": [],
   "source": [
    "super_frame.dtypes"
   ]
  },
  {
   "cell_type": "code",
   "execution_count": null,
   "metadata": {},
   "outputs": [],
   "source": [
    "super_frame.sample()"
   ]
  },
  {
   "cell_type": "markdown",
   "metadata": {},
   "source": [
    "### save to csv "
   ]
  },
  {
   "cell_type": "code",
   "execution_count": null,
   "metadata": {},
   "outputs": [],
   "source": [
    "# super_frame.to_csv('df_resolute.csv', index=False)"
   ]
  }
 ],
 "metadata": {
  "kernelspec": {
   "display_name": "Python 3",
   "language": "python",
   "name": "python3"
  },
  "language_info": {
   "codemirror_mode": {
    "name": "ipython",
    "version": 3
   },
   "file_extension": ".py",
   "mimetype": "text/x-python",
   "name": "python",
   "nbconvert_exporter": "python",
   "pygments_lexer": "ipython3",
   "version": "3.7.1"
  }
 },
 "nbformat": 4,
 "nbformat_minor": 2
}
