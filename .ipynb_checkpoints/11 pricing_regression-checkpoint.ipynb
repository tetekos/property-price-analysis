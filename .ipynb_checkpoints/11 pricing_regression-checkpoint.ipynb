{
 "cells": [
  {
   "cell_type": "markdown",
   "metadata": {},
   "source": [
    "import libraries"
   ]
  },
  {
   "cell_type": "code",
   "execution_count": 1,
   "metadata": {},
   "outputs": [],
   "source": [
    "import pandas as pd\n",
    "import numpy as np\n",
    "import statsmodels.api as sm\n",
    "from sklearn import linear_model"
   ]
  },
  {
   "cell_type": "markdown",
   "metadata": {},
   "source": [
    "data"
   ]
  },
  {
   "cell_type": "code",
   "execution_count": 2,
   "metadata": {},
   "outputs": [],
   "source": [
    "points_geo = pd.read_csv('df_resolute_CLEANED_4IQR_4PREP_priceperm2IQR_prep.csv')\n",
    "points_geo.drop(['dist_coast','dist_beach','dist_city','Year','PriceEuro','NAME_LATIN', 'longitude', 'latitude'], axis=1, inplace=True)"
   ]
  },
  {
   "cell_type": "code",
   "execution_count": 3,
   "metadata": {},
   "outputs": [],
   "source": [
    "gps_predict_label = 'PricePerM2'"
   ]
  },
  {
   "cell_type": "markdown",
   "metadata": {},
   "source": [
    "## Land "
   ]
  },
  {
   "cell_type": "code",
   "execution_count": 4,
   "metadata": {},
   "outputs": [],
   "source": [
    "n_points_geo = points_geo[points_geo.property_land==1]"
   ]
  },
  {
   "cell_type": "markdown",
   "metadata": {},
   "source": [
    "regression"
   ]
  },
  {
   "cell_type": "code",
   "execution_count": 5,
   "metadata": {},
   "outputs": [],
   "source": [
    "gps_hot = n_points_geo.copy()"
   ]
  },
  {
   "cell_type": "code",
   "execution_count": 6,
   "metadata": {},
   "outputs": [],
   "source": [
    "gps_test_list = ['pop_densi', 'Area_sqm']"
   ]
  },
  {
   "cell_type": "code",
   "execution_count": 7,
   "metadata": {},
   "outputs": [],
   "source": [
    "X = gps_hot[gps_test_list]\n",
    "y = gps_hot[gps_predict_label]"
   ]
  },
  {
   "cell_type": "markdown",
   "metadata": {},
   "source": [
    "scikit"
   ]
  },
  {
   "cell_type": "code",
   "execution_count": 8,
   "metadata": {},
   "outputs": [],
   "source": [
    "lm = linear_model.LinearRegression()\n",
    "model = lm.fit(X,y)"
   ]
  },
  {
   "cell_type": "code",
   "execution_count": 9,
   "metadata": {},
   "outputs": [
    {
     "name": "stdout",
     "output_type": "stream",
     "text": [
      "Intercept: \n",
      " 340.7667494627102\n",
      "Coefficients: \n",
      " [ 0.01159679 -0.19778136]\n"
     ]
    }
   ],
   "source": [
    "print('Intercept: \\n', lm.intercept_)\n",
    "print('Coefficients: \\n', lm.coef_)"
   ]
  },
  {
   "cell_type": "code",
   "execution_count": 10,
   "metadata": {},
   "outputs": [
    {
     "data": {
      "text/plain": [
       "0.32084831546626025"
      ]
     },
     "execution_count": 10,
     "metadata": {},
     "output_type": "execute_result"
    }
   ],
   "source": [
    "# R square\n",
    "lm.score(X,y)"
   ]
  },
  {
   "cell_type": "markdown",
   "metadata": {},
   "source": [
    "statsmodel"
   ]
  },
  {
   "cell_type": "code",
   "execution_count": 11,
   "metadata": {},
   "outputs": [
    {
     "name": "stderr",
     "output_type": "stream",
     "text": [
      "/home/lefteris/anaconda3/envs/resolute/lib/python3.7/site-packages/numpy/core/fromnumeric.py:2389: FutureWarning: Method .ptp is deprecated and will be removed in a future version. Use numpy.ptp instead.\n",
      "  return ptp(axis=axis, out=out, **kwargs)\n"
     ]
    },
    {
     "data": {
      "text/html": [
       "<table class=\"simpletable\">\n",
       "<caption>OLS Regression Results</caption>\n",
       "<tr>\n",
       "  <th>Dep. Variable:</th>       <td>PricePerM2</td>    <th>  R-squared:         </th>  <td>   0.321</td>  \n",
       "</tr>\n",
       "<tr>\n",
       "  <th>Model:</th>                   <td>OLS</td>       <th>  Adj. R-squared:    </th>  <td>   0.321</td>  \n",
       "</tr>\n",
       "<tr>\n",
       "  <th>Method:</th>             <td>Least Squares</td>  <th>  F-statistic:       </th>  <td>   8125.</td>  \n",
       "</tr>\n",
       "<tr>\n",
       "  <th>Date:</th>             <td>Mon, 10 Jun 2019</td> <th>  Prob (F-statistic):</th>   <td>  0.00</td>   \n",
       "</tr>\n",
       "<tr>\n",
       "  <th>Time:</th>                 <td>20:56:13</td>     <th>  Log-Likelihood:    </th> <td>-2.4974e+05</td>\n",
       "</tr>\n",
       "<tr>\n",
       "  <th>No. Observations:</th>      <td> 34399</td>      <th>  AIC:               </th>  <td>4.995e+05</td> \n",
       "</tr>\n",
       "<tr>\n",
       "  <th>Df Residuals:</th>          <td> 34396</td>      <th>  BIC:               </th>  <td>4.995e+05</td> \n",
       "</tr>\n",
       "<tr>\n",
       "  <th>Df Model:</th>              <td>     2</td>      <th>                     </th>      <td> </td>     \n",
       "</tr>\n",
       "<tr>\n",
       "  <th>Covariance Type:</th>      <td>nonrobust</td>    <th>                     </th>      <td> </td>     \n",
       "</tr>\n",
       "</table>\n",
       "<table class=\"simpletable\">\n",
       "<tr>\n",
       "      <td></td>         <th>coef</th>     <th>std err</th>      <th>t</th>      <th>P>|t|</th>  <th>[0.025</th>    <th>0.975]</th>  \n",
       "</tr>\n",
       "<tr>\n",
       "  <th>const</th>     <td>  340.7667</td> <td>    4.175</td> <td>   81.626</td> <td> 0.000</td> <td>  332.584</td> <td>  348.949</td>\n",
       "</tr>\n",
       "<tr>\n",
       "  <th>pop_densi</th> <td>    0.0116</td> <td>    0.000</td> <td>   90.791</td> <td> 0.000</td> <td>    0.011</td> <td>    0.012</td>\n",
       "</tr>\n",
       "<tr>\n",
       "  <th>Area_sqm</th>  <td>   -0.1978</td> <td>    0.003</td> <td>  -57.663</td> <td> 0.000</td> <td>   -0.205</td> <td>   -0.191</td>\n",
       "</tr>\n",
       "</table>\n",
       "<table class=\"simpletable\">\n",
       "<tr>\n",
       "  <th>Omnibus:</th>       <td>12213.791</td> <th>  Durbin-Watson:     </th> <td>   0.949</td> \n",
       "</tr>\n",
       "<tr>\n",
       "  <th>Prob(Omnibus):</th>  <td> 0.000</td>   <th>  Jarque-Bera (JB):  </th> <td>66058.459</td>\n",
       "</tr>\n",
       "<tr>\n",
       "  <th>Skew:</th>           <td> 1.624</td>   <th>  Prob(JB):          </th> <td>    0.00</td> \n",
       "</tr>\n",
       "<tr>\n",
       "  <th>Kurtosis:</th>       <td> 8.962</td>   <th>  Cond. No.          </th> <td>5.08e+04</td> \n",
       "</tr>\n",
       "</table><br/><br/>Warnings:<br/>[1] Standard Errors assume that the covariance matrix of the errors is correctly specified.<br/>[2] The condition number is large, 5.08e+04. This might indicate that there are<br/>strong multicollinearity or other numerical problems."
      ],
      "text/plain": [
       "<class 'statsmodels.iolib.summary.Summary'>\n",
       "\"\"\"\n",
       "                            OLS Regression Results                            \n",
       "==============================================================================\n",
       "Dep. Variable:             PricePerM2   R-squared:                       0.321\n",
       "Model:                            OLS   Adj. R-squared:                  0.321\n",
       "Method:                 Least Squares   F-statistic:                     8125.\n",
       "Date:                Mon, 10 Jun 2019   Prob (F-statistic):               0.00\n",
       "Time:                        20:56:13   Log-Likelihood:            -2.4974e+05\n",
       "No. Observations:               34399   AIC:                         4.995e+05\n",
       "Df Residuals:                   34396   BIC:                         4.995e+05\n",
       "Df Model:                           2                                         \n",
       "Covariance Type:            nonrobust                                         \n",
       "==============================================================================\n",
       "                 coef    std err          t      P>|t|      [0.025      0.975]\n",
       "------------------------------------------------------------------------------\n",
       "const        340.7667      4.175     81.626      0.000     332.584     348.949\n",
       "pop_densi      0.0116      0.000     90.791      0.000       0.011       0.012\n",
       "Area_sqm      -0.1978      0.003    -57.663      0.000      -0.205      -0.191\n",
       "==============================================================================\n",
       "Omnibus:                    12213.791   Durbin-Watson:                   0.949\n",
       "Prob(Omnibus):                  0.000   Jarque-Bera (JB):            66058.459\n",
       "Skew:                           1.624   Prob(JB):                         0.00\n",
       "Kurtosis:                       8.962   Cond. No.                     5.08e+04\n",
       "==============================================================================\n",
       "\n",
       "Warnings:\n",
       "[1] Standard Errors assume that the covariance matrix of the errors is correctly specified.\n",
       "[2] The condition number is large, 5.08e+04. This might indicate that there are\n",
       "strong multicollinearity or other numerical problems.\n",
       "\"\"\""
      ]
     },
     "execution_count": 11,
     "metadata": {},
     "output_type": "execute_result"
    }
   ],
   "source": [
    "# Ordinary Least Squares\n",
    "# add a constant\n",
    "X = sm.add_constant(X)\n",
    "model = sm.OLS(y, X).fit()\n",
    "predictions = model.predict(X)\n",
    "model.summary()"
   ]
  },
  {
   "cell_type": "code",
   "execution_count": null,
   "metadata": {},
   "outputs": [],
   "source": []
  },
  {
   "cell_type": "markdown",
   "metadata": {},
   "source": [
    "## Residential "
   ]
  },
  {
   "cell_type": "code",
   "execution_count": 12,
   "metadata": {},
   "outputs": [],
   "source": [
    "n_points_geo = points_geo[points_geo.property_residential==1]"
   ]
  },
  {
   "cell_type": "markdown",
   "metadata": {},
   "source": [
    "regression"
   ]
  },
  {
   "cell_type": "code",
   "execution_count": 13,
   "metadata": {},
   "outputs": [],
   "source": [
    "gps_hot = n_points_geo.copy()"
   ]
  },
  {
   "cell_type": "code",
   "execution_count": 14,
   "metadata": {},
   "outputs": [],
   "source": [
    "gps_predict_label = 'PricePerM2'\n",
    "gps_test_list = [x for x in gps_hot.columns if x!=gps_predict_label]\n",
    "# gps_test_list = ['Area_sqm', 'Bedrooms', 'Bathrooms', 'age',\n",
    "#                  'pop_densi', 'geohash_lat', 'geohash_lng',\n",
    "#                  'near_coast','near_beach']"
   ]
  },
  {
   "cell_type": "code",
   "execution_count": 15,
   "metadata": {},
   "outputs": [],
   "source": [
    "X = gps_hot[gps_test_list]\n",
    "y = gps_hot[gps_predict_label]"
   ]
  },
  {
   "cell_type": "markdown",
   "metadata": {},
   "source": [
    "scikit"
   ]
  },
  {
   "cell_type": "code",
   "execution_count": 16,
   "metadata": {},
   "outputs": [],
   "source": [
    "lm = linear_model.LinearRegression()\n",
    "model = lm.fit(X,y)"
   ]
  },
  {
   "cell_type": "code",
   "execution_count": 17,
   "metadata": {},
   "outputs": [
    {
     "name": "stdout",
     "output_type": "stream",
     "text": [
      "Intercept: \n",
      " 3483.5470075427797\n",
      "Coefficients: \n",
      " [-9.05439077e-01  8.12231169e+01  1.09893376e+02  1.42108547e-14\n",
      " -1.42108547e-14  5.16712825e+00  4.16519879e-03 -1.13058949e+01\n",
      " -5.75131274e+01 -2.45324671e+02  1.26764667e+02 -9.86545519e+01\n",
      "  7.43495373e+01  0.00000000e+00  0.00000000e+00  0.00000000e+00\n",
      "  0.00000000e+00]\n"
     ]
    }
   ],
   "source": [
    "print('Intercept: \\n', lm.intercept_)\n",
    "print('Coefficients: \\n', lm.coef_)\n",
    "\n",
    "# predictions = lm.predict(X)\n",
    "# print(predictions)"
   ]
  },
  {
   "cell_type": "code",
   "execution_count": 18,
   "metadata": {},
   "outputs": [
    {
     "data": {
      "text/plain": [
       "0.24701882832228927"
      ]
     },
     "execution_count": 18,
     "metadata": {},
     "output_type": "execute_result"
    }
   ],
   "source": [
    "# R square\n",
    "lm.score(X,y)"
   ]
  },
  {
   "cell_type": "code",
   "execution_count": 19,
   "metadata": {},
   "outputs": [],
   "source": [
    "# # prediction with sklearn\n",
    "# new_Area_sqm = 150\n",
    "# new_Bedrooms = 3\n",
    "# new_Bathrooms = 2\n",
    "# new_age = 5\n",
    "# new_pop_densi = 100\n",
    "# new_property_land = 0\n",
    "# new_property_residential = 1\n",
    "# lista = [new_Area_sqm, new_Bedrooms,new_Bathrooms, new_age, new_pop_densi,\n",
    "#          new_property_land, new_property_residential]\n",
    "\n",
    "# pred_priceperm2 = lm.predict([lista])\n",
    "# print ('Predicted Price Per M2: \\n', pred_priceperm2)\n",
    "# print ('Predicted Absolute Price: \\n', pred_priceperm2*new_Area_sqm)"
   ]
  },
  {
   "cell_type": "markdown",
   "metadata": {},
   "source": [
    "statsmodel"
   ]
  },
  {
   "cell_type": "code",
   "execution_count": 43,
   "metadata": {},
   "outputs": [],
   "source": [
    "# # Ordinary Least Squares\n",
    "# model = sm.OLS(y, X).fit()\n",
    "# predictions = model.predict(X)\n",
    "# model.summary()"
   ]
  },
  {
   "cell_type": "code",
   "execution_count": 20,
   "metadata": {},
   "outputs": [
    {
     "name": "stderr",
     "output_type": "stream",
     "text": [
      "/home/lefteris/anaconda3/envs/resolute/lib/python3.7/site-packages/numpy/core/fromnumeric.py:2389: FutureWarning: Method .ptp is deprecated and will be removed in a future version. Use numpy.ptp instead.\n",
      "  return ptp(axis=axis, out=out, **kwargs)\n",
      "/home/lefteris/anaconda3/envs/resolute/lib/python3.7/site-packages/statsmodels/regression/linear_model.py:1633: RuntimeWarning: divide by zero encountered in double_scalars\n",
      "  return np.sqrt(eigvals[0]/eigvals[-1])\n",
      "/home/lefteris/anaconda3/envs/resolute/lib/python3.7/site-packages/statsmodels/base/model.py:1100: RuntimeWarning: invalid value encountered in true_divide\n",
      "  return self.params / self.bse\n",
      "/home/lefteris/anaconda3/envs/resolute/lib/python3.7/site-packages/scipy/stats/_distn_infrastructure.py:877: RuntimeWarning: invalid value encountered in greater\n",
      "  return (self.a < x) & (x < self.b)\n",
      "/home/lefteris/anaconda3/envs/resolute/lib/python3.7/site-packages/scipy/stats/_distn_infrastructure.py:877: RuntimeWarning: invalid value encountered in less\n",
      "  return (self.a < x) & (x < self.b)\n",
      "/home/lefteris/anaconda3/envs/resolute/lib/python3.7/site-packages/scipy/stats/_distn_infrastructure.py:1831: RuntimeWarning: invalid value encountered in less_equal\n",
      "  cond2 = cond0 & (x <= self.a)\n"
     ]
    },
    {
     "data": {
      "text/html": [
       "<table class=\"simpletable\">\n",
       "<caption>OLS Regression Results</caption>\n",
       "<tr>\n",
       "  <th>Dep. Variable:</th>       <td>PricePerM2</td>    <th>  R-squared:         </th>  <td>   0.247</td>  \n",
       "</tr>\n",
       "<tr>\n",
       "  <th>Model:</th>                   <td>OLS</td>       <th>  Adj. R-squared:    </th>  <td>   0.247</td>  \n",
       "</tr>\n",
       "<tr>\n",
       "  <th>Method:</th>             <td>Least Squares</td>  <th>  F-statistic:       </th>  <td>   1147.</td>  \n",
       "</tr>\n",
       "<tr>\n",
       "  <th>Date:</th>             <td>Mon, 10 Jun 2019</td> <th>  Prob (F-statistic):</th>   <td>  0.00</td>   \n",
       "</tr>\n",
       "<tr>\n",
       "  <th>Time:</th>                 <td>20:56:27</td>     <th>  Log-Likelihood:    </th> <td>-3.0101e+05</td>\n",
       "</tr>\n",
       "<tr>\n",
       "  <th>No. Observations:</th>      <td> 38459</td>      <th>  AIC:               </th>  <td>6.021e+05</td> \n",
       "</tr>\n",
       "<tr>\n",
       "  <th>Df Residuals:</th>          <td> 38447</td>      <th>  BIC:               </th>  <td>6.022e+05</td> \n",
       "</tr>\n",
       "<tr>\n",
       "  <th>Df Model:</th>              <td>    11</td>      <th>                     </th>      <td> </td>     \n",
       "</tr>\n",
       "<tr>\n",
       "  <th>Covariance Type:</th>      <td>nonrobust</td>    <th>                     </th>      <td> </td>     \n",
       "</tr>\n",
       "</table>\n",
       "<table class=\"simpletable\">\n",
       "<tr>\n",
       "            <td></td>              <th>coef</th>     <th>std err</th>      <th>t</th>      <th>P>|t|</th>  <th>[0.025</th>    <th>0.975]</th>  \n",
       "</tr>\n",
       "<tr>\n",
       "  <th>Area_sqm</th>             <td>   -0.9054</td> <td>    0.063</td> <td>  -14.262</td> <td> 0.000</td> <td>   -1.030</td> <td>   -0.781</td>\n",
       "</tr>\n",
       "<tr>\n",
       "  <th>Bedrooms</th>             <td>   81.2231</td> <td>    4.161</td> <td>   19.520</td> <td> 0.000</td> <td>   73.067</td> <td>   89.379</td>\n",
       "</tr>\n",
       "<tr>\n",
       "  <th>Bathrooms</th>            <td>  109.8934</td> <td>    6.437</td> <td>   17.073</td> <td> 0.000</td> <td>   97.278</td> <td>  122.509</td>\n",
       "</tr>\n",
       "<tr>\n",
       "  <th>Rooms</th>                <td>-3.115e-13</td> <td> 4.05e-14</td> <td>   -7.698</td> <td> 0.000</td> <td>-3.91e-13</td> <td>-2.32e-13</td>\n",
       "</tr>\n",
       "<tr>\n",
       "  <th>Levels</th>               <td> 7.729e-13</td> <td> 2.86e-14</td> <td>   27.006</td> <td> 0.000</td> <td> 7.17e-13</td> <td> 8.29e-13</td>\n",
       "</tr>\n",
       "<tr>\n",
       "  <th>oiki_densi</th>           <td>    5.1671</td> <td>   20.991</td> <td>    0.246</td> <td> 0.806</td> <td>  -35.976</td> <td>   46.310</td>\n",
       "</tr>\n",
       "<tr>\n",
       "  <th>pop_densi</th>            <td>    0.0042</td> <td>    0.000</td> <td>   27.450</td> <td> 0.000</td> <td>    0.004</td> <td>    0.004</td>\n",
       "</tr>\n",
       "<tr>\n",
       "  <th>age</th>                  <td>  -11.3059</td> <td>    0.149</td> <td>  -75.821</td> <td> 0.000</td> <td>  -11.598</td> <td>  -11.014</td>\n",
       "</tr>\n",
       "<tr>\n",
       "  <th>near_coast</th>           <td>  -57.5131</td> <td>   25.051</td> <td>   -2.296</td> <td> 0.022</td> <td> -106.614</td> <td>   -8.412</td>\n",
       "</tr>\n",
       "<tr>\n",
       "  <th>near_beach</th>           <td> -245.3247</td> <td>   21.143</td> <td>  -11.603</td> <td> 0.000</td> <td> -286.766</td> <td> -203.884</td>\n",
       "</tr>\n",
       "<tr>\n",
       "  <th>near_city</th>            <td>  126.7647</td> <td>   10.487</td> <td>   12.087</td> <td> 0.000</td> <td>  106.209</td> <td>  147.320</td>\n",
       "</tr>\n",
       "<tr>\n",
       "  <th>geohash_lat</th>          <td>  -98.6546</td> <td>    2.390</td> <td>  -41.273</td> <td> 0.000</td> <td> -103.340</td> <td>  -93.970</td>\n",
       "</tr>\n",
       "<tr>\n",
       "  <th>geohash_lng</th>          <td>   74.3495</td> <td>    3.110</td> <td>   23.907</td> <td> 0.000</td> <td>   68.254</td> <td>   80.445</td>\n",
       "</tr>\n",
       "<tr>\n",
       "  <th>property_business</th>    <td>         0</td> <td>        0</td> <td>      nan</td> <td>   nan</td> <td>        0</td> <td>        0</td>\n",
       "</tr>\n",
       "<tr>\n",
       "  <th>property_land</th>        <td>         0</td> <td>        0</td> <td>      nan</td> <td>   nan</td> <td>        0</td> <td>        0</td>\n",
       "</tr>\n",
       "<tr>\n",
       "  <th>property_other</th>       <td>         0</td> <td>        0</td> <td>      nan</td> <td>   nan</td> <td>        0</td> <td>        0</td>\n",
       "</tr>\n",
       "<tr>\n",
       "  <th>property_residential</th> <td> 3483.5470</td> <td>  123.958</td> <td>   28.103</td> <td> 0.000</td> <td> 3240.587</td> <td> 3726.507</td>\n",
       "</tr>\n",
       "</table>\n",
       "<table class=\"simpletable\">\n",
       "<tr>\n",
       "  <th>Omnibus:</th>       <td>2119.829</td> <th>  Durbin-Watson:     </th> <td>   1.211</td>\n",
       "</tr>\n",
       "<tr>\n",
       "  <th>Prob(Omnibus):</th>  <td> 0.000</td>  <th>  Jarque-Bera (JB):  </th> <td>2484.349</td>\n",
       "</tr>\n",
       "<tr>\n",
       "  <th>Skew:</th>           <td> 0.613</td>  <th>  Prob(JB):          </th> <td>    0.00</td>\n",
       "</tr>\n",
       "<tr>\n",
       "  <th>Kurtosis:</th>       <td> 3.213</td>  <th>  Cond. No.          </th> <td>     inf</td>\n",
       "</tr>\n",
       "</table><br/><br/>Warnings:<br/>[1] Standard Errors assume that the covariance matrix of the errors is correctly specified.<br/>[2] The smallest eigenvalue is      0. This might indicate that there are<br/>strong multicollinearity problems or that the design matrix is singular."
      ],
      "text/plain": [
       "<class 'statsmodels.iolib.summary.Summary'>\n",
       "\"\"\"\n",
       "                            OLS Regression Results                            \n",
       "==============================================================================\n",
       "Dep. Variable:             PricePerM2   R-squared:                       0.247\n",
       "Model:                            OLS   Adj. R-squared:                  0.247\n",
       "Method:                 Least Squares   F-statistic:                     1147.\n",
       "Date:                Mon, 10 Jun 2019   Prob (F-statistic):               0.00\n",
       "Time:                        20:56:27   Log-Likelihood:            -3.0101e+05\n",
       "No. Observations:               38459   AIC:                         6.021e+05\n",
       "Df Residuals:                   38447   BIC:                         6.022e+05\n",
       "Df Model:                          11                                         \n",
       "Covariance Type:            nonrobust                                         \n",
       "========================================================================================\n",
       "                           coef    std err          t      P>|t|      [0.025      0.975]\n",
       "----------------------------------------------------------------------------------------\n",
       "Area_sqm                -0.9054      0.063    -14.262      0.000      -1.030      -0.781\n",
       "Bedrooms                81.2231      4.161     19.520      0.000      73.067      89.379\n",
       "Bathrooms              109.8934      6.437     17.073      0.000      97.278     122.509\n",
       "Rooms                -3.115e-13   4.05e-14     -7.698      0.000   -3.91e-13   -2.32e-13\n",
       "Levels                7.729e-13   2.86e-14     27.006      0.000    7.17e-13    8.29e-13\n",
       "oiki_densi               5.1671     20.991      0.246      0.806     -35.976      46.310\n",
       "pop_densi                0.0042      0.000     27.450      0.000       0.004       0.004\n",
       "age                    -11.3059      0.149    -75.821      0.000     -11.598     -11.014\n",
       "near_coast             -57.5131     25.051     -2.296      0.022    -106.614      -8.412\n",
       "near_beach            -245.3247     21.143    -11.603      0.000    -286.766    -203.884\n",
       "near_city              126.7647     10.487     12.087      0.000     106.209     147.320\n",
       "geohash_lat            -98.6546      2.390    -41.273      0.000    -103.340     -93.970\n",
       "geohash_lng             74.3495      3.110     23.907      0.000      68.254      80.445\n",
       "property_business             0          0        nan        nan           0           0\n",
       "property_land                 0          0        nan        nan           0           0\n",
       "property_other                0          0        nan        nan           0           0\n",
       "property_residential  3483.5470    123.958     28.103      0.000    3240.587    3726.507\n",
       "==============================================================================\n",
       "Omnibus:                     2119.829   Durbin-Watson:                   1.211\n",
       "Prob(Omnibus):                  0.000   Jarque-Bera (JB):             2484.349\n",
       "Skew:                           0.613   Prob(JB):                         0.00\n",
       "Kurtosis:                       3.213   Cond. No.                          inf\n",
       "==============================================================================\n",
       "\n",
       "Warnings:\n",
       "[1] Standard Errors assume that the covariance matrix of the errors is correctly specified.\n",
       "[2] The smallest eigenvalue is      0. This might indicate that there are\n",
       "strong multicollinearity problems or that the design matrix is singular.\n",
       "\"\"\""
      ]
     },
     "execution_count": 20,
     "metadata": {},
     "output_type": "execute_result"
    }
   ],
   "source": [
    "# Ordinary Least Squares\n",
    "# add a constant\n",
    "X = sm.add_constant(X)\n",
    "model = sm.OLS(y, X).fit()\n",
    "predictions = model.predict(X)\n",
    "model.summary()"
   ]
  },
  {
   "cell_type": "markdown",
   "metadata": {},
   "source": [
    "## Business "
   ]
  },
  {
   "cell_type": "code",
   "execution_count": 21,
   "metadata": {},
   "outputs": [],
   "source": [
    "n_points_geo = points_geo[points_geo.property_business==1]"
   ]
  },
  {
   "cell_type": "markdown",
   "metadata": {},
   "source": [
    "regression"
   ]
  },
  {
   "cell_type": "code",
   "execution_count": 22,
   "metadata": {},
   "outputs": [],
   "source": [
    "gps_hot = n_points_geo.copy()"
   ]
  },
  {
   "cell_type": "code",
   "execution_count": 23,
   "metadata": {},
   "outputs": [],
   "source": [
    "gps_predict_label = 'PricePerM2'\n",
    "gps_test_list = [x for x in gps_hot.columns if x!=gps_predict_label]\n",
    "# gps_test_list = ['Area_sqm', 'age','geohash_lat', 'geohash_lng',\n",
    "#                  'near_coast','near_beach']"
   ]
  },
  {
   "cell_type": "code",
   "execution_count": 24,
   "metadata": {},
   "outputs": [],
   "source": [
    "X = gps_hot[gps_test_list]\n",
    "y = gps_hot[gps_predict_label]"
   ]
  },
  {
   "cell_type": "markdown",
   "metadata": {},
   "source": [
    "scikit"
   ]
  },
  {
   "cell_type": "code",
   "execution_count": 25,
   "metadata": {},
   "outputs": [],
   "source": [
    "lm = linear_model.LinearRegression()\n",
    "model = lm.fit(X,y)"
   ]
  },
  {
   "cell_type": "code",
   "execution_count": 26,
   "metadata": {},
   "outputs": [
    {
     "name": "stdout",
     "output_type": "stream",
     "text": [
      "Intercept: \n",
      " 6588.412493772694\n",
      "Coefficients: \n",
      " [-3.32569624e-01  2.98550643e-10  2.09973072e+02 -4.26325641e-14\n",
      "  0.00000000e+00 -5.63923833e+02  1.97046867e-03 -9.07839234e+00\n",
      " -3.33861941e+02  2.85042676e+02  1.12737920e+02 -1.33293216e+02\n",
      " -2.86974444e+00  0.00000000e+00  0.00000000e+00  0.00000000e+00\n",
      "  0.00000000e+00]\n"
     ]
    }
   ],
   "source": [
    "print('Intercept: \\n', lm.intercept_)\n",
    "print('Coefficients: \\n', lm.coef_)"
   ]
  },
  {
   "cell_type": "code",
   "execution_count": 27,
   "metadata": {},
   "outputs": [
    {
     "data": {
      "text/plain": [
       "0.20179079913519982"
      ]
     },
     "execution_count": 27,
     "metadata": {},
     "output_type": "execute_result"
    }
   ],
   "source": [
    "# R square\n",
    "lm.score(X,y)"
   ]
  },
  {
   "cell_type": "code",
   "execution_count": 28,
   "metadata": {},
   "outputs": [
    {
     "name": "stderr",
     "output_type": "stream",
     "text": [
      "/home/lefteris/anaconda3/envs/resolute/lib/python3.7/site-packages/numpy/core/fromnumeric.py:2389: FutureWarning: Method .ptp is deprecated and will be removed in a future version. Use numpy.ptp instead.\n",
      "  return ptp(axis=axis, out=out, **kwargs)\n",
      "/home/lefteris/anaconda3/envs/resolute/lib/python3.7/site-packages/statsmodels/regression/linear_model.py:1633: RuntimeWarning: divide by zero encountered in double_scalars\n",
      "  return np.sqrt(eigvals[0]/eigvals[-1])\n",
      "/home/lefteris/anaconda3/envs/resolute/lib/python3.7/site-packages/statsmodels/base/model.py:1100: RuntimeWarning: invalid value encountered in true_divide\n",
      "  return self.params / self.bse\n",
      "/home/lefteris/anaconda3/envs/resolute/lib/python3.7/site-packages/scipy/stats/_distn_infrastructure.py:877: RuntimeWarning: invalid value encountered in greater\n",
      "  return (self.a < x) & (x < self.b)\n",
      "/home/lefteris/anaconda3/envs/resolute/lib/python3.7/site-packages/scipy/stats/_distn_infrastructure.py:877: RuntimeWarning: invalid value encountered in less\n",
      "  return (self.a < x) & (x < self.b)\n",
      "/home/lefteris/anaconda3/envs/resolute/lib/python3.7/site-packages/scipy/stats/_distn_infrastructure.py:1831: RuntimeWarning: invalid value encountered in less_equal\n",
      "  cond2 = cond0 & (x <= self.a)\n"
     ]
    },
    {
     "data": {
      "text/html": [
       "<table class=\"simpletable\">\n",
       "<caption>OLS Regression Results</caption>\n",
       "<tr>\n",
       "  <th>Dep. Variable:</th>       <td>PricePerM2</td>    <th>  R-squared:         </th> <td>   0.202</td> \n",
       "</tr>\n",
       "<tr>\n",
       "  <th>Model:</th>                   <td>OLS</td>       <th>  Adj. R-squared:    </th> <td>   0.197</td> \n",
       "</tr>\n",
       "<tr>\n",
       "  <th>Method:</th>             <td>Least Squares</td>  <th>  F-statistic:       </th> <td>   41.69</td> \n",
       "</tr>\n",
       "<tr>\n",
       "  <th>Date:</th>             <td>Mon, 10 Jun 2019</td> <th>  Prob (F-statistic):</th> <td>6.50e-74</td> \n",
       "</tr>\n",
       "<tr>\n",
       "  <th>Time:</th>                 <td>20:56:32</td>     <th>  Log-Likelihood:    </th> <td> -12937.</td> \n",
       "</tr>\n",
       "<tr>\n",
       "  <th>No. Observations:</th>      <td>  1660</td>      <th>  AIC:               </th> <td>2.590e+04</td>\n",
       "</tr>\n",
       "<tr>\n",
       "  <th>Df Residuals:</th>          <td>  1649</td>      <th>  BIC:               </th> <td>2.596e+04</td>\n",
       "</tr>\n",
       "<tr>\n",
       "  <th>Df Model:</th>              <td>    10</td>      <th>                     </th>     <td> </td>    \n",
       "</tr>\n",
       "<tr>\n",
       "  <th>Covariance Type:</th>      <td>nonrobust</td>    <th>                     </th>     <td> </td>    \n",
       "</tr>\n",
       "</table>\n",
       "<table class=\"simpletable\">\n",
       "<tr>\n",
       "            <td></td>              <th>coef</th>     <th>std err</th>      <th>t</th>      <th>P>|t|</th>  <th>[0.025</th>    <th>0.975]</th>  \n",
       "</tr>\n",
       "<tr>\n",
       "  <th>Area_sqm</th>             <td>   -0.3326</td> <td>    0.055</td> <td>   -6.073</td> <td> 0.000</td> <td>   -0.440</td> <td>   -0.225</td>\n",
       "</tr>\n",
       "<tr>\n",
       "  <th>Bedrooms</th>             <td> 5.297e-09</td> <td> 1.38e-09</td> <td>    3.832</td> <td> 0.000</td> <td> 2.59e-09</td> <td> 8.01e-09</td>\n",
       "</tr>\n",
       "<tr>\n",
       "  <th>Bathrooms</th>            <td>  209.9731</td> <td>   41.432</td> <td>    5.068</td> <td> 0.000</td> <td>  128.709</td> <td>  291.237</td>\n",
       "</tr>\n",
       "<tr>\n",
       "  <th>Rooms</th>                <td>-4.642e-12</td> <td> 9.36e-13</td> <td>   -4.960</td> <td> 0.000</td> <td>-6.48e-12</td> <td>-2.81e-12</td>\n",
       "</tr>\n",
       "<tr>\n",
       "  <th>Levels</th>               <td>-1.344e-13</td> <td> 2.11e-14</td> <td>   -6.379</td> <td> 0.000</td> <td>-1.76e-13</td> <td> -9.3e-14</td>\n",
       "</tr>\n",
       "<tr>\n",
       "  <th>oiki_densi</th>           <td> -563.9238</td> <td>  100.149</td> <td>   -5.631</td> <td> 0.000</td> <td> -760.357</td> <td> -367.491</td>\n",
       "</tr>\n",
       "<tr>\n",
       "  <th>pop_densi</th>            <td>    0.0020</td> <td>    0.001</td> <td>    2.497</td> <td> 0.013</td> <td>    0.000</td> <td>    0.004</td>\n",
       "</tr>\n",
       "<tr>\n",
       "  <th>age</th>                  <td>   -9.0784</td> <td>    0.733</td> <td>  -12.379</td> <td> 0.000</td> <td>  -10.517</td> <td>   -7.640</td>\n",
       "</tr>\n",
       "<tr>\n",
       "  <th>near_coast</th>           <td> -333.8619</td> <td>  129.824</td> <td>   -2.572</td> <td> 0.010</td> <td> -588.499</td> <td>  -79.225</td>\n",
       "</tr>\n",
       "<tr>\n",
       "  <th>near_beach</th>           <td>  285.0427</td> <td>  103.506</td> <td>    2.754</td> <td> 0.006</td> <td>   82.026</td> <td>  488.060</td>\n",
       "</tr>\n",
       "<tr>\n",
       "  <th>near_city</th>            <td>  112.7379</td> <td>   79.359</td> <td>    1.421</td> <td> 0.156</td> <td>  -42.918</td> <td>  268.393</td>\n",
       "</tr>\n",
       "<tr>\n",
       "  <th>geohash_lat</th>          <td> -133.2932</td> <td>   12.442</td> <td>  -10.713</td> <td> 0.000</td> <td> -157.697</td> <td> -108.890</td>\n",
       "</tr>\n",
       "<tr>\n",
       "  <th>geohash_lng</th>          <td>   -2.8697</td> <td>   19.821</td> <td>   -0.145</td> <td> 0.885</td> <td>  -41.746</td> <td>   36.007</td>\n",
       "</tr>\n",
       "<tr>\n",
       "  <th>property_business</th>    <td> 6588.4125</td> <td>  800.310</td> <td>    8.232</td> <td> 0.000</td> <td> 5018.682</td> <td> 8158.143</td>\n",
       "</tr>\n",
       "<tr>\n",
       "  <th>property_land</th>        <td>         0</td> <td>        0</td> <td>      nan</td> <td>   nan</td> <td>        0</td> <td>        0</td>\n",
       "</tr>\n",
       "<tr>\n",
       "  <th>property_other</th>       <td>         0</td> <td>        0</td> <td>      nan</td> <td>   nan</td> <td>        0</td> <td>        0</td>\n",
       "</tr>\n",
       "<tr>\n",
       "  <th>property_residential</th> <td>         0</td> <td>        0</td> <td>      nan</td> <td>   nan</td> <td>        0</td> <td>        0</td>\n",
       "</tr>\n",
       "</table>\n",
       "<table class=\"simpletable\">\n",
       "<tr>\n",
       "  <th>Omnibus:</th>       <td>281.931</td> <th>  Durbin-Watson:     </th> <td>   1.650</td> \n",
       "</tr>\n",
       "<tr>\n",
       "  <th>Prob(Omnibus):</th> <td> 0.000</td>  <th>  Jarque-Bera (JB):  </th> <td> 468.223</td> \n",
       "</tr>\n",
       "<tr>\n",
       "  <th>Skew:</th>          <td> 1.107</td>  <th>  Prob(JB):          </th> <td>2.12e-102</td>\n",
       "</tr>\n",
       "<tr>\n",
       "  <th>Kurtosis:</th>      <td> 4.368</td>  <th>  Cond. No.          </th> <td>     inf</td> \n",
       "</tr>\n",
       "</table><br/><br/>Warnings:<br/>[1] Standard Errors assume that the covariance matrix of the errors is correctly specified.<br/>[2] The smallest eigenvalue is      0. This might indicate that there are<br/>strong multicollinearity problems or that the design matrix is singular."
      ],
      "text/plain": [
       "<class 'statsmodels.iolib.summary.Summary'>\n",
       "\"\"\"\n",
       "                            OLS Regression Results                            \n",
       "==============================================================================\n",
       "Dep. Variable:             PricePerM2   R-squared:                       0.202\n",
       "Model:                            OLS   Adj. R-squared:                  0.197\n",
       "Method:                 Least Squares   F-statistic:                     41.69\n",
       "Date:                Mon, 10 Jun 2019   Prob (F-statistic):           6.50e-74\n",
       "Time:                        20:56:32   Log-Likelihood:                -12937.\n",
       "No. Observations:                1660   AIC:                         2.590e+04\n",
       "Df Residuals:                    1649   BIC:                         2.596e+04\n",
       "Df Model:                          10                                         \n",
       "Covariance Type:            nonrobust                                         \n",
       "========================================================================================\n",
       "                           coef    std err          t      P>|t|      [0.025      0.975]\n",
       "----------------------------------------------------------------------------------------\n",
       "Area_sqm                -0.3326      0.055     -6.073      0.000      -0.440      -0.225\n",
       "Bedrooms              5.297e-09   1.38e-09      3.832      0.000    2.59e-09    8.01e-09\n",
       "Bathrooms              209.9731     41.432      5.068      0.000     128.709     291.237\n",
       "Rooms                -4.642e-12   9.36e-13     -4.960      0.000   -6.48e-12   -2.81e-12\n",
       "Levels               -1.344e-13   2.11e-14     -6.379      0.000   -1.76e-13    -9.3e-14\n",
       "oiki_densi            -563.9238    100.149     -5.631      0.000    -760.357    -367.491\n",
       "pop_densi                0.0020      0.001      2.497      0.013       0.000       0.004\n",
       "age                     -9.0784      0.733    -12.379      0.000     -10.517      -7.640\n",
       "near_coast            -333.8619    129.824     -2.572      0.010    -588.499     -79.225\n",
       "near_beach             285.0427    103.506      2.754      0.006      82.026     488.060\n",
       "near_city              112.7379     79.359      1.421      0.156     -42.918     268.393\n",
       "geohash_lat           -133.2932     12.442    -10.713      0.000    -157.697    -108.890\n",
       "geohash_lng             -2.8697     19.821     -0.145      0.885     -41.746      36.007\n",
       "property_business     6588.4125    800.310      8.232      0.000    5018.682    8158.143\n",
       "property_land                 0          0        nan        nan           0           0\n",
       "property_other                0          0        nan        nan           0           0\n",
       "property_residential          0          0        nan        nan           0           0\n",
       "==============================================================================\n",
       "Omnibus:                      281.931   Durbin-Watson:                   1.650\n",
       "Prob(Omnibus):                  0.000   Jarque-Bera (JB):              468.223\n",
       "Skew:                           1.107   Prob(JB):                    2.12e-102\n",
       "Kurtosis:                       4.368   Cond. No.                          inf\n",
       "==============================================================================\n",
       "\n",
       "Warnings:\n",
       "[1] Standard Errors assume that the covariance matrix of the errors is correctly specified.\n",
       "[2] The smallest eigenvalue is      0. This might indicate that there are\n",
       "strong multicollinearity problems or that the design matrix is singular.\n",
       "\"\"\""
      ]
     },
     "execution_count": 28,
     "metadata": {},
     "output_type": "execute_result"
    }
   ],
   "source": [
    "# Ordinary Least Squares\n",
    "# add a constant\n",
    "X = sm.add_constant(X)\n",
    "model = sm.OLS(y, X).fit()\n",
    "predictions = model.predict(X)\n",
    "model.summary()"
   ]
  },
  {
   "cell_type": "code",
   "execution_count": null,
   "metadata": {},
   "outputs": [],
   "source": []
  }
 ],
 "metadata": {
  "kernelspec": {
   "display_name": "Python 3",
   "language": "python",
   "name": "python3"
  },
  "language_info": {
   "codemirror_mode": {
    "name": "ipython",
    "version": 3
   },
   "file_extension": ".py",
   "mimetype": "text/x-python",
   "name": "python",
   "nbconvert_exporter": "python",
   "pygments_lexer": "ipython3",
   "version": "3.7.3"
  }
 },
 "nbformat": 4,
 "nbformat_minor": 2
}
