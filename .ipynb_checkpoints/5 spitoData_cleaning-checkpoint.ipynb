{
 "cells": [
  {
   "cell_type": "markdown",
   "metadata": {},
   "source": [
    "import libraries"
   ]
  },
  {
   "cell_type": "code",
   "execution_count": 1,
   "metadata": {},
   "outputs": [],
   "source": [
    "import pandas as pd\n",
    "import geopandas as gpd\n",
    "import matplotlib.pyplot as plt\n",
    "%matplotlib inline"
   ]
  },
  {
   "cell_type": "markdown",
   "metadata": {},
   "source": [
    "import project functions"
   ]
  },
  {
   "cell_type": "code",
   "execution_count": 2,
   "metadata": {},
   "outputs": [],
   "source": [
    "from src.generalFunctions import *"
   ]
  },
  {
   "cell_type": "markdown",
   "metadata": {},
   "source": [
    "data"
   ]
  },
  {
   "cell_type": "code",
   "execution_count": 3,
   "metadata": {},
   "outputs": [],
   "source": [
    "super_frame = pd.read_csv('df_resolute_NAME_LATIN.csv', keep_default_na=False)\\\n",
    "        .drop(['geometry'], axis='columns')\\\n",
    "# convert to datetime object\n",
    "super_frame['ModifiedOn'] = pd.to_datetime(super_frame['ModifiedOn'])"
   ]
  },
  {
   "cell_type": "code",
   "execution_count": 4,
   "metadata": {},
   "outputs": [
    {
     "data": {
      "text/html": [
       "<div>\n",
       "<style scoped>\n",
       "    .dataframe tbody tr th:only-of-type {\n",
       "        vertical-align: middle;\n",
       "    }\n",
       "\n",
       "    .dataframe tbody tr th {\n",
       "        vertical-align: top;\n",
       "    }\n",
       "\n",
       "    .dataframe thead th {\n",
       "        text-align: right;\n",
       "    }\n",
       "</style>\n",
       "<table border=\"1\" class=\"dataframe\">\n",
       "  <thead>\n",
       "    <tr style=\"text-align: right;\">\n",
       "      <th></th>\n",
       "      <th>Neighbourh</th>\n",
       "      <th>Area_sqm</th>\n",
       "      <th>PropertyTy</th>\n",
       "      <th>Bedrooms</th>\n",
       "      <th>Bathrooms</th>\n",
       "      <th>Rooms</th>\n",
       "      <th>Floor</th>\n",
       "      <th>Levels</th>\n",
       "      <th>PriceEuro</th>\n",
       "      <th>PricePerM2</th>\n",
       "      <th>Latitude</th>\n",
       "      <th>Longitude</th>\n",
       "      <th>Constructi</th>\n",
       "      <th>ModifiedOn</th>\n",
       "      <th>NAME_LATIN</th>\n",
       "    </tr>\n",
       "  </thead>\n",
       "  <tbody>\n",
       "    <tr>\n",
       "      <th>1987</th>\n",
       "      <td>Corinthia Vocha</td>\n",
       "      <td>97</td>\n",
       "      <td>Detached House</td>\n",
       "      <td>2</td>\n",
       "      <td>1</td>\n",
       "      <td>0</td>\n",
       "      <td></td>\n",
       "      <td>0</td>\n",
       "      <td>100000</td>\n",
       "      <td>1031</td>\n",
       "      <td>0.0</td>\n",
       "      <td>0.0</td>\n",
       "      <td>1978</td>\n",
       "      <td>2018-06-04</td>\n",
       "      <td>K. BRAXATIOY</td>\n",
       "    </tr>\n",
       "  </tbody>\n",
       "</table>\n",
       "</div>"
      ],
      "text/plain": [
       "           Neighbourh  Area_sqm      PropertyTy  Bedrooms  Bathrooms  Rooms  \\\n",
       "1987  Corinthia Vocha        97  Detached House         2          1      0   \n",
       "\n",
       "     Floor  Levels  PriceEuro  PricePerM2  Latitude  Longitude Constructi  \\\n",
       "1987             0     100000        1031       0.0        0.0       1978   \n",
       "\n",
       "     ModifiedOn    NAME_LATIN  \n",
       "1987 2018-06-04  K. BRAXATIOY  "
      ]
     },
     "execution_count": 4,
     "metadata": {},
     "output_type": "execute_result"
    }
   ],
   "source": [
    "super_frame.sample()"
   ]
  },
  {
   "cell_type": "markdown",
   "metadata": {},
   "source": [
    "check for null"
   ]
  },
  {
   "cell_type": "code",
   "execution_count": 5,
   "metadata": {},
   "outputs": [
    {
     "name": "stdout",
     "output_type": "stream",
     "text": [
      "<class 'pandas.core.frame.DataFrame'>\n",
      "RangeIndex: 150274 entries, 0 to 150273\n",
      "Data columns (total 15 columns):\n",
      "Neighbourh    150274 non-null object\n",
      "Area_sqm      150274 non-null int64\n",
      "PropertyTy    150274 non-null object\n",
      "Bedrooms      150274 non-null int64\n",
      "Bathrooms     150274 non-null int64\n",
      "Rooms         150274 non-null int64\n",
      "Floor         150274 non-null object\n",
      "Levels        150274 non-null int64\n",
      "PriceEuro     150274 non-null int64\n",
      "PricePerM2    150274 non-null int64\n",
      "Latitude      150274 non-null float64\n",
      "Longitude     150274 non-null float64\n",
      "Constructi    150274 non-null object\n",
      "ModifiedOn    150274 non-null datetime64[ns]\n",
      "NAME_LATIN    150274 non-null object\n",
      "dtypes: datetime64[ns](1), float64(2), int64(7), object(5)\n",
      "memory usage: 17.2+ MB\n"
     ]
    }
   ],
   "source": [
    "super_frame.info()\n",
    "#super_frame.isnull().any()"
   ]
  },
  {
   "cell_type": "markdown",
   "metadata": {},
   "source": [
    "### select objects"
   ]
  },
  {
   "cell_type": "code",
   "execution_count": 6,
   "metadata": {},
   "outputs": [
    {
     "data": {
      "text/plain": [
       "['Neighbourh', 'PropertyTy', 'Floor', 'Constructi', 'NAME_LATIN']"
      ]
     },
     "execution_count": 6,
     "metadata": {},
     "output_type": "execute_result"
    }
   ],
   "source": [
    "object_list = super_frame.select_dtypes(include=['object']).columns.tolist()\n",
    "object_list"
   ]
  },
  {
   "cell_type": "markdown",
   "metadata": {},
   "source": [
    "Neighbourhood"
   ]
  },
  {
   "cell_type": "code",
   "execution_count": 7,
   "metadata": {},
   "outputs": [
    {
     "data": {
      "text/plain": [
       "860"
      ]
     },
     "execution_count": 7,
     "metadata": {},
     "output_type": "execute_result"
    }
   ],
   "source": [
    "super_frame.Neighbourh.nunique()"
   ]
  },
  {
   "cell_type": "code",
   "execution_count": 8,
   "metadata": {},
   "outputs": [
    {
     "data": {
      "text/plain": [
       "Achaia Patra               4239\n",
       "Athens - South Glyfada     3630\n",
       "Athens - South Voula       2801\n",
       "Corfu Prefecture Corfu     2441\n",
       "Athens - North Kifissia    2385\n",
       "Name: Neighbourh, dtype: int64"
      ]
     },
     "execution_count": 8,
     "metadata": {},
     "output_type": "execute_result"
    }
   ],
   "source": [
    "super_frame.Neighbourh.value_counts(sort=True).head()"
   ]
  },
  {
   "cell_type": "markdown",
   "metadata": {},
   "source": [
    "NAME_LATIN"
   ]
  },
  {
   "cell_type": "code",
   "execution_count": 9,
   "metadata": {},
   "outputs": [
    {
     "data": {
      "text/plain": [
       "D. AUHNAIVN        8254\n",
       "D. UESSALONIKHS    5039\n",
       "D. PATREVN         4239\n",
       "D. GLYFADAS        3630\n",
       "D. BOYLAS_1        2801\n",
       "Name: NAME_LATIN, dtype: int64"
      ]
     },
     "execution_count": 9,
     "metadata": {},
     "output_type": "execute_result"
    }
   ],
   "source": [
    "super_frame.NAME_LATIN.value_counts(sort=True).head()"
   ]
  },
  {
   "cell_type": "markdown",
   "metadata": {},
   "source": [
    "PropertyType"
   ]
  },
  {
   "cell_type": "code",
   "execution_count": 10,
   "metadata": {},
   "outputs": [
    {
     "data": {
      "text/plain": [
       "31"
      ]
     },
     "execution_count": 10,
     "metadata": {},
     "output_type": "execute_result"
    }
   ],
   "source": [
    "super_frame.PropertyTy.nunique()"
   ]
  },
  {
   "cell_type": "code",
   "execution_count": 11,
   "metadata": {},
   "outputs": [],
   "source": [
    "propertyTy_list = super_frame.PropertyTy.unique().tolist()"
   ]
  },
  {
   "cell_type": "code",
   "execution_count": 12,
   "metadata": {},
   "outputs": [
    {
     "data": {
      "text/plain": [
       "Land Plot                             43053\n",
       "Apartment                             33584\n",
       "Detached House                        19122\n",
       "Maisonette                            12751\n",
       "Parcel                                12056\n",
       "Store                                  5553\n",
       "Business building                      4391\n",
       "Office                                 3749\n",
       "Villa                                  3010\n",
       "Hotel                                  2632\n",
       "Studio Flat                            2402\n",
       "Other Commercial Properties Types      1282\n",
       "Building                               1022\n",
       "Business                                965\n",
       "Warehouse                               732\n",
       "Apartment complex                       668\n",
       "Industrial space                        647\n",
       "Other Residential Properties Types      509\n",
       "Other Properties                        504\n",
       "Craft space                             459\n",
       "Other Land Types                        399\n",
       "Garage                                  387\n",
       "Hall                                    206\n",
       "Island                                   73\n",
       "Loft                                     35\n",
       "Bungalow                                 25\n",
       "Showroom                                 19\n",
       "Air                                      16\n",
       "Detachable                               10\n",
       "Prefabricated                             8\n",
       "Farm                                      5\n",
       "Name: PropertyTy, dtype: int64"
      ]
     },
     "execution_count": 12,
     "metadata": {},
     "output_type": "execute_result"
    }
   ],
   "source": [
    "super_frame.PropertyTy.value_counts(sort=True)"
   ]
  },
  {
   "cell_type": "markdown",
   "metadata": {},
   "source": [
    "We will run IQR filter to almost all columns for each type of property"
   ]
  },
  {
   "cell_type": "code",
   "execution_count": 13,
   "metadata": {},
   "outputs": [],
   "source": [
    "# we need to be carefull how to filter out outliers as the PropertyTypes vary in scale"
   ]
  },
  {
   "cell_type": "markdown",
   "metadata": {},
   "source": [
    "### check empty objects "
   ]
  },
  {
   "cell_type": "code",
   "execution_count": 14,
   "metadata": {},
   "outputs": [
    {
     "name": "stdout",
     "output_type": "stream",
     "text": [
      "Empty Objects\n",
      "\n",
      "Neighbourh : 0\n",
      "PropertyTy : 0\n",
      "Floor : 64544\n",
      "Constructi : 57471\n",
      "NAME_LATIN : 0\n"
     ]
    }
   ],
   "source": [
    "print(\"Empty Objects\\n\")\n",
    "for i in object_list:\n",
    "    print(\"{} : {}\".format(i,len(super_frame[super_frame[i]==''])))"
   ]
  },
  {
   "cell_type": "markdown",
   "metadata": {},
   "source": [
    "the number of missing values for Floor is so big that its better to leave it out for this high level exercise"
   ]
  },
  {
   "cell_type": "code",
   "execution_count": 15,
   "metadata": {},
   "outputs": [],
   "source": [
    "super_frame.drop(['Floor'], axis=1, inplace=True)"
   ]
  },
  {
   "cell_type": "code",
   "execution_count": 17,
   "metadata": {},
   "outputs": [],
   "source": [
    "super_frame.sample()"
   ]
  },
  {
   "cell_type": "markdown",
   "metadata": {},
   "source": [
    "### select numerical"
   ]
  },
  {
   "cell_type": "code",
   "execution_count": 17,
   "metadata": {},
   "outputs": [],
   "source": [
    "#super_frame.select_dtypes(include=['int64','float64'])\n",
    "#super_frame.select_dtypes(include=['int64','float64']).columns"
   ]
  },
  {
   "cell_type": "code",
   "execution_count": 18,
   "metadata": {},
   "outputs": [
    {
     "data": {
      "text/html": [
       "<div>\n",
       "<style scoped>\n",
       "    .dataframe tbody tr th:only-of-type {\n",
       "        vertical-align: middle;\n",
       "    }\n",
       "\n",
       "    .dataframe tbody tr th {\n",
       "        vertical-align: top;\n",
       "    }\n",
       "\n",
       "    .dataframe thead th {\n",
       "        text-align: right;\n",
       "    }\n",
       "</style>\n",
       "<table border=\"1\" class=\"dataframe\">\n",
       "  <thead>\n",
       "    <tr style=\"text-align: right;\">\n",
       "      <th></th>\n",
       "      <th>Area_sqm</th>\n",
       "      <th>Bedrooms</th>\n",
       "      <th>Bathrooms</th>\n",
       "      <th>Rooms</th>\n",
       "      <th>Levels</th>\n",
       "      <th>PriceEuro</th>\n",
       "      <th>PricePerM2</th>\n",
       "      <th>Latitude</th>\n",
       "      <th>Longitude</th>\n",
       "    </tr>\n",
       "  </thead>\n",
       "  <tbody>\n",
       "    <tr>\n",
       "      <th>count</th>\n",
       "      <td>1.502740e+05</td>\n",
       "      <td>150274.000000</td>\n",
       "      <td>150274.000000</td>\n",
       "      <td>150274.000000</td>\n",
       "      <td>150274.000000</td>\n",
       "      <td>1.502740e+05</td>\n",
       "      <td>1.502740e+05</td>\n",
       "      <td>150274.000000</td>\n",
       "      <td>150274.000000</td>\n",
       "    </tr>\n",
       "    <tr>\n",
       "      <th>mean</th>\n",
       "      <td>5.451381e+03</td>\n",
       "      <td>1.341210</td>\n",
       "      <td>1.073745</td>\n",
       "      <td>0.669224</td>\n",
       "      <td>0.553961</td>\n",
       "      <td>4.843534e+05</td>\n",
       "      <td>1.300538e+03</td>\n",
       "      <td>23.406177</td>\n",
       "      <td>14.102950</td>\n",
       "    </tr>\n",
       "    <tr>\n",
       "      <th>std</th>\n",
       "      <td>3.015531e+05</td>\n",
       "      <td>2.351148</td>\n",
       "      <td>10.263033</td>\n",
       "      <td>6.091915</td>\n",
       "      <td>1.299994</td>\n",
       "      <td>1.591944e+06</td>\n",
       "      <td>5.097739e+03</td>\n",
       "      <td>18.972363</td>\n",
       "      <td>11.611452</td>\n",
       "    </tr>\n",
       "    <tr>\n",
       "      <th>min</th>\n",
       "      <td>3.000000e+00</td>\n",
       "      <td>0.000000</td>\n",
       "      <td>0.000000</td>\n",
       "      <td>0.000000</td>\n",
       "      <td>0.000000</td>\n",
       "      <td>0.000000e+00</td>\n",
       "      <td>0.000000e+00</td>\n",
       "      <td>-5.000000</td>\n",
       "      <td>-180.000000</td>\n",
       "    </tr>\n",
       "    <tr>\n",
       "      <th>25%</th>\n",
       "      <td>1.000000e+02</td>\n",
       "      <td>0.000000</td>\n",
       "      <td>0.000000</td>\n",
       "      <td>0.000000</td>\n",
       "      <td>0.000000</td>\n",
       "      <td>7.500000e+04</td>\n",
       "      <td>2.500000e+02</td>\n",
       "      <td>0.000000</td>\n",
       "      <td>0.000000</td>\n",
       "    </tr>\n",
       "    <tr>\n",
       "      <th>50%</th>\n",
       "      <td>2.300000e+02</td>\n",
       "      <td>0.000000</td>\n",
       "      <td>1.000000</td>\n",
       "      <td>0.000000</td>\n",
       "      <td>0.000000</td>\n",
       "      <td>1.700000e+05</td>\n",
       "      <td>9.270000e+02</td>\n",
       "      <td>37.799805</td>\n",
       "      <td>22.770436</td>\n",
       "    </tr>\n",
       "    <tr>\n",
       "      <th>75%</th>\n",
       "      <td>8.000000e+02</td>\n",
       "      <td>2.000000</td>\n",
       "      <td>1.000000</td>\n",
       "      <td>0.000000</td>\n",
       "      <td>0.000000</td>\n",
       "      <td>4.000000e+05</td>\n",
       "      <td>1.714000e+03</td>\n",
       "      <td>38.331142</td>\n",
       "      <td>23.730021</td>\n",
       "    </tr>\n",
       "    <tr>\n",
       "      <th>max</th>\n",
       "      <td>9.000000e+07</td>\n",
       "      <td>255.000000</td>\n",
       "      <td>999.000000</td>\n",
       "      <td>255.000000</td>\n",
       "      <td>100.000000</td>\n",
       "      <td>1.000000e+08</td>\n",
       "      <td>1.230769e+06</td>\n",
       "      <td>85.051132</td>\n",
       "      <td>40.752640</td>\n",
       "    </tr>\n",
       "  </tbody>\n",
       "</table>\n",
       "</div>"
      ],
      "text/plain": [
       "           Area_sqm       Bedrooms      Bathrooms          Rooms  \\\n",
       "count  1.502740e+05  150274.000000  150274.000000  150274.000000   \n",
       "mean   5.451381e+03       1.341210       1.073745       0.669224   \n",
       "std    3.015531e+05       2.351148      10.263033       6.091915   \n",
       "min    3.000000e+00       0.000000       0.000000       0.000000   \n",
       "25%    1.000000e+02       0.000000       0.000000       0.000000   \n",
       "50%    2.300000e+02       0.000000       1.000000       0.000000   \n",
       "75%    8.000000e+02       2.000000       1.000000       0.000000   \n",
       "max    9.000000e+07     255.000000     999.000000     255.000000   \n",
       "\n",
       "              Levels     PriceEuro    PricePerM2       Latitude      Longitude  \n",
       "count  150274.000000  1.502740e+05  1.502740e+05  150274.000000  150274.000000  \n",
       "mean        0.553961  4.843534e+05  1.300538e+03      23.406177      14.102950  \n",
       "std         1.299994  1.591944e+06  5.097739e+03      18.972363      11.611452  \n",
       "min         0.000000  0.000000e+00  0.000000e+00      -5.000000    -180.000000  \n",
       "25%         0.000000  7.500000e+04  2.500000e+02       0.000000       0.000000  \n",
       "50%         0.000000  1.700000e+05  9.270000e+02      37.799805      22.770436  \n",
       "75%         0.000000  4.000000e+05  1.714000e+03      38.331142      23.730021  \n",
       "max       100.000000  1.000000e+08  1.230769e+06      85.051132      40.752640  "
      ]
     },
     "execution_count": 18,
     "metadata": {},
     "output_type": "execute_result"
    }
   ],
   "source": [
    "super_frame.describe()"
   ]
  },
  {
   "cell_type": "code",
   "execution_count": 19,
   "metadata": {},
   "outputs": [
    {
     "data": {
      "image/png": "[encoded data removed]",
      "text/plain": [
       "<Figure size 1440x1080 with 9 Axes>"
      ]
     },
     "metadata": {
      "needs_background": "light"
     },
     "output_type": "display_data"
    }
   ],
   "source": [
    "super_frame.select_dtypes(include=['int64','float64']).hist(bins=50, figsize=(20,15))\n",
    "plt.show()"
   ]
  },
  {
   "cell_type": "markdown",
   "metadata": {},
   "source": [
    "clearly there are outliers that distort the distributions"
   ]
  },
  {
   "cell_type": "markdown",
   "metadata": {},
   "source": [
    "for each property we will filter out the outliers"
   ]
  },
  {
   "cell_type": "code",
   "execution_count": 20,
   "metadata": {},
   "outputs": [],
   "source": [
    "new_super_frame = super_frame.copy()"
   ]
  },
  {
   "cell_type": "code",
   "execution_count": 21,
   "metadata": {},
   "outputs": [
    {
     "data": {
      "text/plain": [
       "150274"
      ]
     },
     "execution_count": 21,
     "metadata": {},
     "output_type": "execute_result"
    }
   ],
   "source": [
    "len(new_super_frame)"
   ]
  },
  {
   "cell_type": "code",
   "execution_count": 22,
   "metadata": {
    "scrolled": true
   },
   "outputs": [
    {
     "name": "stdout",
     "output_type": "stream",
     "text": [
      "Maisonette\n",
      "Number of rows dropped: 529\n",
      "Number of rows dropped: 0\n",
      "Number of rows dropped: 1\n",
      "Number of rows dropped: 962\n",
      "Number of rows dropped: 935\n",
      "Number of rows dropped: 907\n",
      "Parcel\n",
      "Number of rows dropped: 1234\n",
      "Number of rows dropped: 0\n",
      "Number of rows dropped: 0\n",
      "Number of rows dropped: 1414\n",
      "Number of rows dropped: 0\n",
      "Number of rows dropped: 0\n",
      "Villa\n",
      "Number of rows dropped: 154\n",
      "Number of rows dropped: 0\n",
      "Number of rows dropped: 0\n",
      "Number of rows dropped: 226\n",
      "Number of rows dropped: 114\n",
      "Number of rows dropped: 99\n",
      "Detached House\n",
      "Number of rows dropped: 898\n",
      "Number of rows dropped: 0\n",
      "Number of rows dropped: 13\n",
      "Number of rows dropped: 1703\n",
      "Number of rows dropped: 395\n",
      "Number of rows dropped: 254\n",
      "Hotel\n",
      "Number of rows dropped: 292\n",
      "Number of rows dropped: 227\n",
      "Number of rows dropped: 20\n",
      "Number of rows dropped: 267\n",
      "Number of rows dropped: 0\n",
      "Number of rows dropped: 279\n",
      "Other Commercial Properties Types\n",
      "Number of rows dropped: 120\n",
      "Number of rows dropped: 174\n",
      "Number of rows dropped: 295\n",
      "Number of rows dropped: 107\n",
      "Number of rows dropped: 0\n",
      "Number of rows dropped: 108\n",
      "Apartment\n",
      "Number of rows dropped: 1373\n",
      "Number of rows dropped: 0\n",
      "Number of rows dropped: 1641\n",
      "Number of rows dropped: 2094\n",
      "Number of rows dropped: 576\n",
      "Number of rows dropped: 6309\n",
      "Land Plot\n",
      "Number of rows dropped: 5952\n",
      "Number of rows dropped: 0\n",
      "Number of rows dropped: 0\n",
      "Number of rows dropped: 4405\n",
      "Number of rows dropped: 0\n",
      "Number of rows dropped: 0\n",
      "Building\n",
      "Number of rows dropped: 78\n",
      "Number of rows dropped: 0\n",
      "Number of rows dropped: 2\n",
      "Number of rows dropped: 80\n",
      "Number of rows dropped: 59\n",
      "Number of rows dropped: 60\n",
      "Apartment complex\n",
      "Number of rows dropped: 42\n",
      "Number of rows dropped: 0\n",
      "Number of rows dropped: 0\n",
      "Number of rows dropped: 61\n",
      "Number of rows dropped: 43\n",
      "Number of rows dropped: 36\n",
      "Store\n",
      "Number of rows dropped: 493\n",
      "Number of rows dropped: 2652\n",
      "Number of rows dropped: 1258\n",
      "Number of rows dropped: 626\n",
      "Number of rows dropped: 0\n",
      "Number of rows dropped: 58\n",
      "Other Land Types\n",
      "Number of rows dropped: 58\n",
      "Number of rows dropped: 0\n",
      "Number of rows dropped: 0\n",
      "Number of rows dropped: 50\n",
      "Number of rows dropped: 0\n",
      "Number of rows dropped: 0\n",
      "Business building\n",
      "Number of rows dropped: 382\n",
      "Number of rows dropped: 640\n",
      "Number of rows dropped: 18\n",
      "Number of rows dropped: 345\n",
      "Number of rows dropped: 0\n",
      "Number of rows dropped: 247\n",
      "Studio Flat\n",
      "Number of rows dropped: 27\n",
      "Number of rows dropped: 0\n",
      "Number of rows dropped: 71\n",
      "Number of rows dropped: 70\n",
      "Number of rows dropped: 187\n",
      "Number of rows dropped: 180\n",
      "Other Residential Properties Types\n",
      "Number of rows dropped: 44\n",
      "Number of rows dropped: 0\n",
      "Number of rows dropped: 5\n",
      "Number of rows dropped: 42\n",
      "Number of rows dropped: 25\n",
      "Number of rows dropped: 30\n",
      "Loft\n",
      "Number of rows dropped: 1\n",
      "Number of rows dropped: 0\n",
      "Number of rows dropped: 0\n",
      "Number of rows dropped: 2\n",
      "Number of rows dropped: 0\n",
      "Number of rows dropped: 1\n",
      "Other Properties\n",
      "Number of rows dropped: 70\n",
      "Number of rows dropped: 0\n",
      "Number of rows dropped: 0\n",
      "Number of rows dropped: 47\n",
      "Number of rows dropped: 0\n",
      "Number of rows dropped: 0\n",
      "Island\n",
      "Number of rows dropped: 2\n",
      "Number of rows dropped: 0\n",
      "Number of rows dropped: 0\n",
      "Number of rows dropped: 2\n",
      "Number of rows dropped: 0\n",
      "Number of rows dropped: 0\n",
      "Business\n",
      "Number of rows dropped: 109\n",
      "Number of rows dropped: 0\n",
      "Number of rows dropped: 0\n",
      "Number of rows dropped: 142\n",
      "Number of rows dropped: 0\n",
      "Number of rows dropped: 0\n",
      "Office\n",
      "Number of rows dropped: 405\n",
      "Number of rows dropped: 224\n",
      "Number of rows dropped: 235\n",
      "Number of rows dropped: 408\n",
      "Number of rows dropped: 0\n",
      "Number of rows dropped: 39\n",
      "Industrial space\n",
      "Number of rows dropped: 49\n",
      "Number of rows dropped: 105\n",
      "Number of rows dropped: 8\n",
      "Number of rows dropped: 42\n",
      "Number of rows dropped: 0\n",
      "Number of rows dropped: 21\n",
      "Detachable\n",
      "Number of rows dropped: 1\n",
      "Number of rows dropped: 0\n",
      "Number of rows dropped: 0\n",
      "Number of rows dropped: 1\n",
      "Number of rows dropped: 0\n",
      "Number of rows dropped: 0\n",
      "Hall\n",
      "Number of rows dropped: 12\n",
      "Number of rows dropped: 19\n",
      "Number of rows dropped: 15\n",
      "Number of rows dropped: 11\n",
      "Number of rows dropped: 0\n",
      "Number of rows dropped: 4\n",
      "Garage\n",
      "Number of rows dropped: 45\n",
      "Number of rows dropped: 0\n",
      "Number of rows dropped: 0\n",
      "Number of rows dropped: 56\n",
      "Number of rows dropped: 0\n",
      "Number of rows dropped: 0\n",
      "Warehouse\n",
      "Number of rows dropped: 105\n",
      "Number of rows dropped: 38\n",
      "Number of rows dropped: 41\n",
      "Number of rows dropped: 109\n",
      "Number of rows dropped: 0\n",
      "Number of rows dropped: 3\n",
      "Craft space\n",
      "Number of rows dropped: 31\n",
      "Number of rows dropped: 21\n",
      "Number of rows dropped: 1\n",
      "Number of rows dropped: 38\n",
      "Number of rows dropped: 0\n",
      "Number of rows dropped: 18\n",
      "Bungalow\n",
      "Number of rows dropped: 4\n",
      "Number of rows dropped: 0\n",
      "Number of rows dropped: 2\n",
      "Number of rows dropped: 4\n",
      "Number of rows dropped: 4\n",
      "Number of rows dropped: 1\n",
      "Air\n",
      "Number of rows dropped: 0\n",
      "Number of rows dropped: 0\n",
      "Number of rows dropped: 0\n",
      "Number of rows dropped: 2\n",
      "Number of rows dropped: 0\n",
      "Number of rows dropped: 0\n",
      "Showroom\n",
      "Number of rows dropped: 1\n",
      "Number of rows dropped: 0\n",
      "Number of rows dropped: 0\n",
      "Number of rows dropped: 1\n",
      "Number of rows dropped: 0\n",
      "Number of rows dropped: 1\n",
      "Farm\n",
      "Number of rows dropped: 1\n",
      "Number of rows dropped: 0\n",
      "Number of rows dropped: 1\n",
      "Number of rows dropped: 1\n",
      "Number of rows dropped: 0\n",
      "Number of rows dropped: 0\n",
      "Prefabricated\n",
      "Number of rows dropped: 0\n",
      "Number of rows dropped: 0\n",
      "Number of rows dropped: 0\n",
      "Number of rows dropped: 0\n",
      "Number of rows dropped: 0\n",
      "Number of rows dropped: 0\n"
     ]
    }
   ],
   "source": [
    "index_list = []\n",
    "for i in propertyTy_list:\n",
    "    print(i)\n",
    "    for j in [\"Area_sqm\",\"Rooms\",\"Levels\",\"PriceEuro\",\"Bedrooms\",\"Bathrooms\"]:\n",
    "        index_list+=iqr_filter(new_super_frame[new_super_frame.PropertyTy==i], j)[1].index.tolist()\n",
    "set_index_list = list(set(index_list))\n",
    "n_s_frame = new_super_frame[~new_super_frame.index.isin(set_index_list)]"
   ]
  },
  {
   "cell_type": "code",
   "execution_count": 23,
   "metadata": {},
   "outputs": [
    {
     "data": {
      "text/plain": [
       "118224"
      ]
     },
     "execution_count": 23,
     "metadata": {},
     "output_type": "execute_result"
    }
   ],
   "source": [
    "len(n_s_frame)"
   ]
  },
  {
   "cell_type": "code",
   "execution_count": 24,
   "metadata": {},
   "outputs": [
    {
     "data": {
      "text/plain": [
       "count     118224.000000\n",
       "mean        1167.939462\n",
       "std        15777.884070\n",
       "min            3.000000\n",
       "25%           94.000000\n",
       "50%          200.000000\n",
       "75%          600.000000\n",
       "max      1950000.000000\n",
       "Name: Area_sqm, dtype: object"
      ]
     },
     "execution_count": 24,
     "metadata": {},
     "output_type": "execute_result"
    }
   ],
   "source": [
    "n_s_frame.Area_sqm.describe().apply(lambda x: format(x, 'f'))"
   ]
  },
  {
   "cell_type": "markdown",
   "metadata": {},
   "source": [
    "drop the rows whose PricePerM2 and PriceEuro are 0 as they cannot contribute"
   ]
  },
  {
   "cell_type": "code",
   "execution_count": 25,
   "metadata": {},
   "outputs": [],
   "source": [
    "zero_prices_index = n_s_frame[(n_s_frame['PricePerM2']==0) & (n_s_frame['PriceEuro']==0)].index.tolist()"
   ]
  },
  {
   "cell_type": "code",
   "execution_count": 26,
   "metadata": {},
   "outputs": [],
   "source": [
    "n_s_frame = n_s_frame[~n_s_frame.index.isin(zero_prices_index)]"
   ]
  },
  {
   "cell_type": "code",
   "execution_count": 30,
   "metadata": {},
   "outputs": [],
   "source": [
    "n_s_frame.head(1)"
   ]
  },
  {
   "cell_type": "markdown",
   "metadata": {},
   "source": [
    "calculate the PricePerM2 when there is PriceEuro but no PricePerM2"
   ]
  },
  {
   "cell_type": "code",
   "execution_count": 28,
   "metadata": {},
   "outputs": [],
   "source": [
    "for i in n_s_frame[(n_s_frame['PricePerM2']==0) & (n_s_frame['PriceEuro']!=0)].index:\n",
    "    n_s_frame.loc[i,'PricePerM2'] = n_s_frame.loc[i,'PriceEuro']/n_s_frame.loc[i,'Area_sqm']"
   ]
  },
  {
   "cell_type": "code",
   "execution_count": 29,
   "metadata": {},
   "outputs": [
    {
     "data": {
      "text/plain": [
       "count      118183.000000\n",
       "mean       263126.012159\n",
       "std        448917.391005\n",
       "min           999.000000\n",
       "25%         69000.000000\n",
       "50%        140000.000000\n",
       "75%        300000.000000\n",
       "max      25000000.000000\n",
       "Name: PriceEuro, dtype: object"
      ]
     },
     "execution_count": 29,
     "metadata": {},
     "output_type": "execute_result"
    }
   ],
   "source": [
    "n_s_frame['PriceEuro'].describe().apply(lambda x: format(x, 'f'))"
   ]
  },
  {
   "cell_type": "code",
   "execution_count": 31,
   "metadata": {},
   "outputs": [
    {
     "data": {
      "text/plain": [
       "count    118183.000000\n",
       "mean       1130.547268\n",
       "std        2009.302401\n",
       "min           0.066667\n",
       "25%         256.000000\n",
       "50%         885.000000\n",
       "75%        1600.000000\n",
       "max      420000.000000\n",
       "Name: PricePerM2, dtype: object"
      ]
     },
     "execution_count": 31,
     "metadata": {},
     "output_type": "execute_result"
    }
   ],
   "source": [
    "n_s_frame['PricePerM2'].describe().apply(lambda x: format(x, 'f'))"
   ]
  },
  {
   "cell_type": "code",
   "execution_count": 32,
   "metadata": {},
   "outputs": [],
   "source": [
    "# we could add the prices into categories\n",
    "# bins=[-100000000,20000,40000,60000,80000,100000,1000000,10000000,500000000]\n",
    "# choices =['0-200k','200k-400k','400k-600k','600k-800k','800k-1mlln','1mlln-10mlln','10mlln-100mlln','100mlln-500mlln']\n",
    "# super_frame['price_range']=pd.cut(super_frame['PriceEuro'],bins=bins,labels=choices)"
   ]
  },
  {
   "cell_type": "markdown",
   "metadata": {},
   "source": [
    "lets check how many values we have for the following fields"
   ]
  },
  {
   "cell_type": "code",
   "execution_count": 33,
   "metadata": {},
   "outputs": [
    {
     "name": "stdout",
     "output_type": "stream",
     "text": [
      "Non-zero values per field\n",
      "\n",
      "Rooms: 10210 i.e. 8.64%\n",
      "Levels: 21400 i.e. 18.11%\n",
      "Bedrooms: 58522 i.e. 49.52%\n",
      "Bathrooms: 61908 i.e. 52.38%\n"
     ]
    }
   ],
   "source": [
    "print(\"Non-zero values per field\\n\")\n",
    "for i in ['Rooms', 'Levels', 'Bedrooms', 'Bathrooms']:\n",
    "    full = len(n_s_frame)\n",
    "    length = len(n_s_frame[n_s_frame[i]!=0])\n",
    "    print(f\"{i}: {length} i.e. {round(length*100/full,2)}%\")"
   ]
  },
  {
   "cell_type": "markdown",
   "metadata": {},
   "source": [
    "it feels that Rooms are more for non residential"
   ]
  },
  {
   "cell_type": "code",
   "execution_count": 34,
   "metadata": {},
   "outputs": [
    {
     "data": {
      "text/plain": [
       "Business building                    2358\n",
       "Office                               2326\n",
       "Store                                2209\n",
       "Hotel                                1784\n",
       "Other Commercial Properties Types     430\n",
       "Warehouse                             393\n",
       "Industrial space                      291\n",
       "Craft space                           275\n",
       "Hall                                  129\n",
       "Showroom                               15\n",
       "Name: PropertyTy, dtype: int64"
      ]
     },
     "execution_count": 34,
     "metadata": {},
     "output_type": "execute_result"
    }
   ],
   "source": [
    "n_s_frame[n_s_frame.Rooms!=0].PropertyTy.value_counts(sort=True)"
   ]
  },
  {
   "cell_type": "code",
   "execution_count": 35,
   "metadata": {},
   "outputs": [],
   "source": [
    "def non_zero_properties(df, column):\n",
    "    property_list_for_rooms = df[df[column]!=0].PropertyTy.unique()\n",
    "    number = df[df.PropertyTy.isin(property_list_for_rooms)].shape[0]\n",
    "    full = len(df)\n",
    "    print(f'The properties of {i} with non-zero values:',number,f'i.e. {round(number*100/full,2)}%')"
   ]
  },
  {
   "cell_type": "code",
   "execution_count": 36,
   "metadata": {
    "scrolled": true
   },
   "outputs": [
    {
     "name": "stdout",
     "output_type": "stream",
     "text": [
      "The properties of Rooms with non-zero values: 12623 i.e. 10.68%\n",
      "The properties of Levels with non-zero values: 37871 i.e. 32.04%\n",
      "The properties of Bedrooms with non-zero values: 59419 i.e. 50.28%\n",
      "The properties of Bathrooms with non-zero values: 72042 i.e. 60.96%\n"
     ]
    }
   ],
   "source": [
    "for i in ['Rooms', 'Levels', 'Bedrooms', 'Bathrooms']:\n",
    "    non_zero_properties(n_s_frame, i)"
   ]
  },
  {
   "cell_type": "markdown",
   "metadata": {},
   "source": [
    "it feels that Levels, Bedrooms, Bathrooms are more for residential"
   ]
  },
  {
   "cell_type": "code",
   "execution_count": 37,
   "metadata": {},
   "outputs": [
    {
     "data": {
      "text/plain": [
       "Detached House                        8274\n",
       "Maisonette                            7612\n",
       "Villa                                 1825\n",
       "Business building                     1586\n",
       "Hotel                                  968\n",
       "Building                               432\n",
       "Apartment complex                      363\n",
       "Industrial space                       112\n",
       "Other Residential Properties Types     104\n",
       "Craft space                             99\n",
       "Loft                                    15\n",
       "Showroom                                10\n",
       "Name: PropertyTy, dtype: int64"
      ]
     },
     "execution_count": 37,
     "metadata": {},
     "output_type": "execute_result"
    }
   ],
   "source": [
    "n_s_frame[n_s_frame.Levels!=0].PropertyTy.value_counts(sort=True)"
   ]
  },
  {
   "cell_type": "code",
   "execution_count": 38,
   "metadata": {},
   "outputs": [
    {
     "data": {
      "text/plain": [
       "0     96783\n",
       "2     10921\n",
       "3      8134\n",
       "4      1609\n",
       "5       348\n",
       "6       176\n",
       "7       108\n",
       "8        59\n",
       "9        30\n",
       "10       15\n",
       "Name: Levels, dtype: int64"
      ]
     },
     "execution_count": 38,
     "metadata": {},
     "output_type": "execute_result"
    }
   ],
   "source": [
    "n_s_frame.Levels.value_counts(sort=True)"
   ]
  },
  {
   "cell_type": "code",
   "execution_count": 39,
   "metadata": {},
   "outputs": [
    {
     "data": {
      "text/plain": [
       "Apartment                             25585\n",
       "Detached House                        16413\n",
       "Maisonette                            10401\n",
       "Villa                                  2588\n",
       "Studio Flat                            1982\n",
       "Building                                648\n",
       "Apartment complex                       474\n",
       "Other Residential Properties Types      381\n",
       "Loft                                     31\n",
       "Bungalow                                 18\n",
       "Farm                                      1\n",
       "Name: PropertyTy, dtype: int64"
      ]
     },
     "execution_count": 39,
     "metadata": {},
     "output_type": "execute_result"
    }
   ],
   "source": [
    "n_s_frame[n_s_frame.Bedrooms!=0].PropertyTy.value_counts(sort=True)"
   ]
  },
  {
   "cell_type": "code",
   "execution_count": 40,
   "metadata": {},
   "outputs": [
    {
     "data": {
      "text/plain": [
       "Apartment                             25585\n",
       "Detached House                        15007\n",
       "Maisonette                             9929\n",
       "Villa                                  2473\n",
       "Studio Flat                            1982\n",
       "Business building                      1638\n",
       "Hotel                                  1261\n",
       "Office                                 1187\n",
       "Store                                   888\n",
       "Building                                567\n",
       "Apartment complex                       401\n",
       "Other Residential Properties Types      344\n",
       "Other Commercial Properties Types       153\n",
       "Warehouse                               147\n",
       "Industrial space                        142\n",
       "Craft space                              95\n",
       "Hall                                     58\n",
       "Loft                                     30\n",
       "Bungalow                                 16\n",
       "Showroom                                  4\n",
       "Farm                                      1\n",
       "Name: PropertyTy, dtype: int64"
      ]
     },
     "execution_count": 40,
     "metadata": {},
     "output_type": "execute_result"
    }
   ],
   "source": [
    "n_s_frame[n_s_frame.Bathrooms!=0].PropertyTy.value_counts(sort=True)"
   ]
  },
  {
   "cell_type": "code",
   "execution_count": 42,
   "metadata": {},
   "outputs": [],
   "source": [
    "n_s_frame.head(1)"
   ]
  },
  {
   "cell_type": "markdown",
   "metadata": {},
   "source": [
    "### select datetime"
   ]
  },
  {
   "cell_type": "code",
   "execution_count": 43,
   "metadata": {},
   "outputs": [
    {
     "data": {
      "text/plain": [
       "Index(['ModifiedOn'], dtype='object')"
      ]
     },
     "execution_count": 43,
     "metadata": {},
     "output_type": "execute_result"
    }
   ],
   "source": [
    "n_s_frame.select_dtypes(include=['datetime64']).columns"
   ]
  },
  {
   "cell_type": "code",
   "execution_count": 44,
   "metadata": {},
   "outputs": [],
   "source": [
    "# n_s_frame.set_index('ModifiedOn')"
   ]
  },
  {
   "cell_type": "code",
   "execution_count": 45,
   "metadata": {},
   "outputs": [],
   "source": [
    "# Add columns with year, month, and weekday name\n",
    "n_s_frame['Year'] = n_s_frame.set_index('ModifiedOn').index.year\n",
    "n_s_frame['Month'] = n_s_frame.set_index('ModifiedOn').index.month\n",
    "n_s_frame['Day'] = n_s_frame.set_index('ModifiedOn').index.weekday_name"
   ]
  },
  {
   "cell_type": "markdown",
   "metadata": {},
   "source": [
    "### keep only the columns we need "
   ]
  },
  {
   "cell_type": "code",
   "execution_count": 52,
   "metadata": {},
   "outputs": [],
   "source": [
    "new_ns_frame = n_s_frame[[\"NAME_LATIN\", \"Area_sqm\", \"PropertyTy\",\"Constructi\",\n",
    "                          \"Bedrooms\", \"Bathrooms\", \"Rooms\", \"Levels\",\n",
    "                          \"PriceEuro\", \"PricePerM2\", #,\"Day\"\n",
    "                          \"ModifiedOn\",\"Year\",\"Month\"]]\\\n",
    "                        .reset_index(drop=True)"
   ]
  },
  {
   "cell_type": "markdown",
   "metadata": {},
   "source": [
    "### save to csv "
   ]
  },
  {
   "cell_type": "code",
   "execution_count": 53,
   "metadata": {},
   "outputs": [],
   "source": [
    "# new_ns_frame.to_csv('df_resolute_CLEANED.csv', index=False)"
   ]
  },
  {
   "cell_type": "markdown",
   "metadata": {},
   "source": [
    "an overall IQR as well independent from property to generalize the ML"
   ]
  },
  {
   "cell_type": "code",
   "execution_count": 54,
   "metadata": {},
   "outputs": [
    {
     "name": "stdout",
     "output_type": "stream",
     "text": [
      "Number of rows dropped: 10388\n",
      "Number of rows dropped: 10210\n",
      "Number of rows dropped: 21400\n",
      "Number of rows dropped: 3030\n",
      "Number of rows dropped: 68\n",
      "Number of rows dropped: 821\n"
     ]
    },
    {
     "data": {
      "text/plain": [
       "78133"
      ]
     },
     "execution_count": 54,
     "metadata": {},
     "output_type": "execute_result"
    }
   ],
   "source": [
    "index_list = []\n",
    "\n",
    "for j in [\"Area_sqm\",\"Rooms\",\"Levels\",\"PriceEuro\",\"Bedrooms\",\"Bathrooms\"]:\n",
    "    index_list+=iqr_filter(new_ns_frame, j, 4)[1].index.tolist()\n",
    "set_index_list = list(set(index_list))\n",
    "n_new_ns_frame = new_ns_frame[~new_ns_frame.index.isin(set_index_list)]\n",
    "\n",
    "len(n_new_ns_frame)"
   ]
  },
  {
   "cell_type": "code",
   "execution_count": 55,
   "metadata": {},
   "outputs": [],
   "source": [
    "# n_new_ns_frame.to_csv('df_resolute_CLEANED_4IQR.csv', index=False)"
   ]
  },
  {
   "cell_type": "code",
   "execution_count": 50,
   "metadata": {},
   "outputs": [
    {
     "data": {
      "image/png": "[encoded data removed]",
      "text/plain": [
       "<Figure size 1440x1080 with 9 Axes>"
      ]
     },
     "metadata": {
      "needs_background": "light"
     },
     "output_type": "display_data"
    }
   ],
   "source": [
    "n_new_ns_frame.select_dtypes(include=['int64','float64']).hist(bins=50, figsize=(20,15))\n",
    "plt.show()"
   ]
  }
 ],
 "metadata": {
  "kernelspec": {
   "display_name": "Python 3",
   "language": "python",
   "name": "python3"
  },
  "language_info": {
   "codemirror_mode": {
    "name": "ipython",
    "version": 3
   },
   "file_extension": ".py",
   "mimetype": "text/x-python",
   "name": "python",
   "nbconvert_exporter": "python",
   "pygments_lexer": "ipython3",
   "version": "3.7.3"
  }
 },
 "nbformat": 4,
 "nbformat_minor": 2
}
