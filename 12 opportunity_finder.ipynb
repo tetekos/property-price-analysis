{
 "cells": [
  {
   "cell_type": "markdown",
   "metadata": {},
   "source": [
    "import libraries"
   ]
  },
  {
   "cell_type": "code",
   "execution_count": 1,
   "metadata": {},
   "outputs": [],
   "source": [
    "import pandas as pd"
   ]
  },
  {
   "cell_type": "markdown",
   "metadata": {},
   "source": [
    "import project functions"
   ]
  },
  {
   "cell_type": "code",
   "execution_count": 2,
   "metadata": {},
   "outputs": [],
   "source": [
    "from src.generalFunctions import *"
   ]
  },
  {
   "cell_type": "markdown",
   "metadata": {},
   "source": [
    "data"
   ]
  },
  {
   "cell_type": "code",
   "execution_count": 3,
   "metadata": {},
   "outputs": [],
   "source": [
    "points_mapped = pd.read_csv('df_resolute_CLEANED_4IQR_4PREP_priceperm2IQR_prep.csv')"
   ]
  },
  {
   "cell_type": "markdown",
   "metadata": {},
   "source": [
    "check for prices less than 1.5 IQR just in case :P"
   ]
  },
  {
   "cell_type": "code",
   "execution_count": 4,
   "metadata": {},
   "outputs": [
    {
     "data": {
      "text/html": [
       "<div>\n",
       "<style scoped>\n",
       "    .dataframe tbody tr th:only-of-type {\n",
       "        vertical-align: middle;\n",
       "    }\n",
       "\n",
       "    .dataframe tbody tr th {\n",
       "        vertical-align: top;\n",
       "    }\n",
       "\n",
       "    .dataframe thead th {\n",
       "        text-align: right;\n",
       "    }\n",
       "</style>\n",
       "<table border=\"1\" class=\"dataframe\">\n",
       "  <thead>\n",
       "    <tr style=\"text-align: right;\">\n",
       "      <th></th>\n",
       "      <th>NAME_LATIN</th>\n",
       "      <th>Area_sqm</th>\n",
       "      <th>Bedrooms</th>\n",
       "      <th>Bathrooms</th>\n",
       "      <th>Rooms</th>\n",
       "      <th>Levels</th>\n",
       "      <th>PriceEuro</th>\n",
       "      <th>PricePerM2</th>\n",
       "      <th>Year</th>\n",
       "      <th>dist_coast</th>\n",
       "      <th>...</th>\n",
       "      <th>near_beach</th>\n",
       "      <th>near_city</th>\n",
       "      <th>longitude</th>\n",
       "      <th>latitude</th>\n",
       "      <th>geohash_lat</th>\n",
       "      <th>geohash_lng</th>\n",
       "      <th>property_business</th>\n",
       "      <th>property_land</th>\n",
       "      <th>property_other</th>\n",
       "      <th>property_residential</th>\n",
       "    </tr>\n",
       "  </thead>\n",
       "  <tbody>\n",
       "  </tbody>\n",
       "</table>\n",
       "<p>0 rows × 26 columns</p>\n",
       "</div>"
      ],
      "text/plain": [
       "Empty DataFrame\n",
       "Columns: [NAME_LATIN, Area_sqm, Bedrooms, Bathrooms, Rooms, Levels, PriceEuro, PricePerM2, Year, dist_coast, dist_beach, dist_city, oiki_densi, pop_densi, age, near_coast, near_beach, near_city, longitude, latitude, geohash_lat, geohash_lng, property_business, property_land, property_other, property_residential]\n",
       "Index: []\n",
       "\n",
       "[0 rows x 26 columns]"
      ]
     },
     "execution_count": 4,
     "metadata": {},
     "output_type": "execute_result"
    }
   ],
   "source": [
    "less_iqr_filter(points_mapped, 'PricePerM2')"
   ]
  },
  {
   "cell_type": "code",
   "execution_count": 12,
   "metadata": {},
   "outputs": [
    {
     "data": {
      "text/plain": [
       "Index(['NAME_LATIN', 'Area_sqm', 'Bedrooms', 'Bathrooms', 'Rooms', 'Levels',\n",
       "       'PriceEuro', 'PricePerM2', 'Year', 'dist_coast', 'dist_beach',\n",
       "       'dist_city', 'oiki_densi', 'pop_densi', 'age', 'near_coast',\n",
       "       'near_beach', 'near_city', 'longitude', 'latitude', 'geohash_lat',\n",
       "       'geohash_lng', 'property_business', 'property_land', 'property_other',\n",
       "       'property_residential'],\n",
       "      dtype='object')"
      ]
     },
     "execution_count": 12,
     "metadata": {},
     "output_type": "execute_result"
    }
   ],
   "source": [
    "points_mapped.columns"
   ]
  },
  {
   "cell_type": "code",
   "execution_count": 6,
   "metadata": {},
   "outputs": [],
   "source": [
    "# find all mean price values for each property\n",
    "mean_price_land = points_mapped[points_mapped.property_land==1]['PricePerM2'].mean()\n",
    "mean_price_resi = points_mapped[points_mapped.property_residential==1]['PricePerM2'].mean()\n",
    "mean_price_busi = points_mapped[points_mapped.property_business==1]['PricePerM2'].mean()"
   ]
  },
  {
   "cell_type": "code",
   "execution_count": 82,
   "metadata": {},
   "outputs": [
    {
     "data": {
      "text/plain": [
       "7"
      ]
     },
     "execution_count": 82,
     "metadata": {},
     "output_type": "execute_result"
    }
   ],
   "source": [
    "land1 =  points_mapped[points_mapped.property_land==1]\n",
    "land2 = more_iqr_filter(land1, 'pop_densi',0.5)\n",
    "land3 = more_iqr_filter(land2, 'Area_sqm')\n",
    "land4 = less_iqr_filter(land3, 'dist_city',0)\n",
    "land4 = less_iqr_filter(land4, 'dist_beach',0)\n",
    "land5 = land4[land4.PricePerM2<mean_price_land]\n",
    "land6 = land5[land5.Year.isin([2018,2019])] # needs to be this year or last year\n",
    "len(land6)"
   ]
  },
  {
   "cell_type": "code",
   "execution_count": 84,
   "metadata": {},
   "outputs": [
    {
     "data": {
      "text/plain": [
       "5"
      ]
     },
     "execution_count": 84,
     "metadata": {},
     "output_type": "execute_result"
    }
   ],
   "source": [
    "resi1 =  points_mapped[points_mapped.property_residential==1]\n",
    "resi2 = less_iqr_filter(resi1, 'age', 0.2)\n",
    "resi3 = less_iqr_filter(resi2, 'geohash_lat', 0.5)\n",
    "resi4 = less_iqr_filter(resi3, 'dist_beach',0)\n",
    "resi5 = more_iqr_filter(resi4, 'Area_sqm',0.5)\n",
    "resi6 = resi5[resi5.PricePerM2<mean_price_resi]\n",
    "resi7 = resi6[resi6.Year.isin([2018,2019])]  # needs to be this year or last year\n",
    "len(resi7)"
   ]
  },
  {
   "cell_type": "code",
   "execution_count": 86,
   "metadata": {},
   "outputs": [
    {
     "data": {
      "text/plain": [
       "1"
      ]
     },
     "execution_count": 86,
     "metadata": {},
     "output_type": "execute_result"
    }
   ],
   "source": [
    "busi1 =  points_mapped[points_mapped.property_business==1]\n",
    "busi2 = less_iqr_filter(busi1, 'age')\n",
    "busi3 = less_iqr_filter(busi2, 'geohash_lat',0.5)\n",
    "busi4 = busi3[busi3.PricePerM2<mean_price_busi]\n",
    "busi5 = busi4[busi4.Year.isin([2018,2019])]  # needs to be this year or last year\n",
    "len(busi5)"
   ]
  },
  {
   "cell_type": "code",
   "execution_count": 90,
   "metadata": {},
   "outputs": [],
   "source": [
    "opport_df = pd.concat([land4, resi6, busi4], axis=0)"
   ]
  },
  {
   "cell_type": "code",
   "execution_count": 94,
   "metadata": {},
   "outputs": [],
   "source": [
    "# opport_df.to_csv('df_resolute_opportunities2.csv', index=False)"
   ]
  },
  {
   "cell_type": "code",
   "execution_count": 93,
   "metadata": {},
   "outputs": [],
   "source": [
    "# opport_df.corr()"
   ]
  },
  {
   "cell_type": "code",
   "execution_count": null,
   "metadata": {},
   "outputs": [],
   "source": []
  }
 ],
 "metadata": {
  "kernelspec": {
   "display_name": "Python 3",
   "language": "python",
   "name": "python3"
  },
  "language_info": {
   "codemirror_mode": {
    "name": "ipython",
    "version": 3
   },
   "file_extension": ".py",
   "mimetype": "text/x-python",
   "name": "python",
   "nbconvert_exporter": "python",
   "pygments_lexer": "ipython3",
   "version": "3.7.3"
  }
 },
 "nbformat": 4,
 "nbformat_minor": 2
}
