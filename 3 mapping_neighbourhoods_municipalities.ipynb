{
 "cells": [
  {
   "cell_type": "markdown",
   "metadata": {},
   "source": [
    "import libraries"
   ]
  },
  {
   "cell_type": "code",
   "execution_count": 31,
   "metadata": {},
   "outputs": [],
   "source": [
    "import geopandas as gpd\n",
    "from geopandas import sjoin\n",
    "import pandas as pd\n",
    "from fuzzywuzzy import fuzz"
   ]
  },
  {
   "cell_type": "markdown",
   "metadata": {},
   "source": [
    "spitogatos data"
   ]
  },
  {
   "cell_type": "code",
   "execution_count": 32,
   "metadata": {},
   "outputs": [],
   "source": [
    "points = gpd.read_file('../gis/df_resolute.shp')"
   ]
  },
  {
   "cell_type": "markdown",
   "metadata": {},
   "source": [
    "points out of Greece"
   ]
  },
  {
   "cell_type": "code",
   "execution_count": 33,
   "metadata": {},
   "outputs": [],
   "source": [
    "# GR bounding box from GADM\n",
    "# https://gadm.org/download_country_v3.html"
   ]
  },
  {
   "cell_type": "code",
   "execution_count": 34,
   "metadata": {},
   "outputs": [],
   "source": [
    "gr_adm = gpd.read_file('../data/gadm36_GRC_shp/gadm36_GRC_0.shp')"
   ]
  },
  {
   "cell_type": "code",
   "execution_count": 35,
   "metadata": {},
   "outputs": [
    {
     "data": {
      "text/html": [
       "<div>\n",
       "<style scoped>\n",
       "    .dataframe tbody tr th:only-of-type {\n",
       "        vertical-align: middle;\n",
       "    }\n",
       "\n",
       "    .dataframe tbody tr th {\n",
       "        vertical-align: top;\n",
       "    }\n",
       "\n",
       "    .dataframe thead th {\n",
       "        text-align: right;\n",
       "    }\n",
       "</style>\n",
       "<table border=\"1\" class=\"dataframe\">\n",
       "  <thead>\n",
       "    <tr style=\"text-align: right;\">\n",
       "      <th></th>\n",
       "      <th>minx</th>\n",
       "      <th>miny</th>\n",
       "      <th>maxx</th>\n",
       "      <th>maxy</th>\n",
       "    </tr>\n",
       "  </thead>\n",
       "  <tbody>\n",
       "    <tr>\n",
       "      <th>0</th>\n",
       "      <td>19.372358</td>\n",
       "      <td>34.80069</td>\n",
       "      <td>29.645697</td>\n",
       "      <td>41.748009</td>\n",
       "    </tr>\n",
       "  </tbody>\n",
       "</table>\n",
       "</div>"
      ],
      "text/plain": [
       "        minx      miny       maxx       maxy\n",
       "0  19.372358  34.80069  29.645697  41.748009"
      ]
     },
     "execution_count": 35,
     "metadata": {},
     "output_type": "execute_result"
    }
   ],
   "source": [
    "gr_adm.bounds"
   ]
  },
  {
   "cell_type": "code",
   "execution_count": 36,
   "metadata": {},
   "outputs": [
    {
     "name": "stdout",
     "output_type": "stream",
     "text": [
      "Points outside GR:\n"
     ]
    },
    {
     "data": {
      "text/plain": [
       "59589"
      ]
     },
     "execution_count": 36,
     "metadata": {},
     "output_type": "execute_result"
    }
   ],
   "source": [
    "print(\"Points outside GR:\")\n",
    "len(points[~((points.Longitude.between(19.372358, 29.645697)) &\\\n",
    "    (points.Latitude.between(34.80069, 41.748009)))])"
   ]
  },
  {
   "cell_type": "code",
   "execution_count": 37,
   "metadata": {},
   "outputs": [
    {
     "name": "stdout",
     "output_type": "stream",
     "text": [
      "From the Points outside GR there are Points with 0,0: \n"
     ]
    },
    {
     "data": {
      "text/plain": [
       "59456"
      ]
     },
     "execution_count": 37,
     "metadata": {},
     "output_type": "execute_result"
    }
   ],
   "source": [
    "print(\"From the Points outside GR there are Points with 0,0: \")\n",
    "points.query(\"Latitude==0 and Longitude==0\").shape[0]"
   ]
  },
  {
   "cell_type": "markdown",
   "metadata": {},
   "source": [
    "due to high number of points outside Greece we created the mapping file so we can approximate the location of the 72k points that do not include valid lat,lng"
   ]
  },
  {
   "cell_type": "markdown",
   "metadata": {},
   "source": [
    "extract the neighbourhs as we need to map them to Greek boundaries"
   ]
  },
  {
   "cell_type": "code",
   "execution_count": 38,
   "metadata": {},
   "outputs": [
    {
     "data": {
      "text/plain": [
       "860"
      ]
     },
     "execution_count": 38,
     "metadata": {},
     "output_type": "execute_result"
    }
   ],
   "source": [
    "neighbourh_list =points.Neighbourh.unique().tolist()\n",
    "len(neighbourh_list)"
   ]
  },
  {
   "cell_type": "markdown",
   "metadata": {},
   "source": [
    "create a dataframe which will be the mapping file"
   ]
  },
  {
   "cell_type": "code",
   "execution_count": 39,
   "metadata": {},
   "outputs": [
    {
     "data": {
      "text/html": [
       "<div>\n",
       "<style scoped>\n",
       "    .dataframe tbody tr th:only-of-type {\n",
       "        vertical-align: middle;\n",
       "    }\n",
       "\n",
       "    .dataframe tbody tr th {\n",
       "        vertical-align: top;\n",
       "    }\n",
       "\n",
       "    .dataframe thead th {\n",
       "        text-align: right;\n",
       "    }\n",
       "</style>\n",
       "<table border=\"1\" class=\"dataframe\">\n",
       "  <thead>\n",
       "    <tr style=\"text-align: right;\">\n",
       "      <th></th>\n",
       "      <th>neighbourh</th>\n",
       "      <th>NAME_LATIN</th>\n",
       "    </tr>\n",
       "  </thead>\n",
       "  <tbody>\n",
       "    <tr>\n",
       "      <th>0</th>\n",
       "      <td>Cyclades Paros</td>\n",
       "      <td>None</td>\n",
       "    </tr>\n",
       "    <tr>\n",
       "      <th>1</th>\n",
       "      <td>Corinthia Vocha</td>\n",
       "      <td>None</td>\n",
       "    </tr>\n",
       "    <tr>\n",
       "      <th>2</th>\n",
       "      <td>Athens - South Nea Smyrni</td>\n",
       "      <td>None</td>\n",
       "    </tr>\n",
       "    <tr>\n",
       "      <th>3</th>\n",
       "      <td>Thessaloniki - Suburbs Thermi</td>\n",
       "      <td>None</td>\n",
       "    </tr>\n",
       "    <tr>\n",
       "      <th>4</th>\n",
       "      <td>Kavala Prefecture Thasos</td>\n",
       "      <td>None</td>\n",
       "    </tr>\n",
       "  </tbody>\n",
       "</table>\n",
       "</div>"
      ],
      "text/plain": [
       "                      neighbourh NAME_LATIN\n",
       "0                 Cyclades Paros       None\n",
       "1                Corinthia Vocha       None\n",
       "2      Athens - South Nea Smyrni       None\n",
       "3  Thessaloniki - Suburbs Thermi       None\n",
       "4       Kavala Prefecture Thasos       None"
      ]
     },
     "execution_count": 39,
     "metadata": {},
     "output_type": "execute_result"
    }
   ],
   "source": [
    "mapping_df = pd.DataFrame({'neighbourh':neighbourh_list})\n",
    "mapping_df['NAME_LATIN']=None\n",
    "mapping_df.head()"
   ]
  },
  {
   "cell_type": "code",
   "execution_count": 40,
   "metadata": {},
   "outputs": [
    {
     "data": {
      "text/plain": [
       "neighbourh    False\n",
       "NAME_LATIN     True\n",
       "dtype: bool"
      ]
     },
     "execution_count": 40,
     "metadata": {},
     "output_type": "execute_result"
    }
   ],
   "source": [
    "# check if neighbourh null\n",
    "mapping_df.isnull().any()"
   ]
  },
  {
   "cell_type": "markdown",
   "metadata": {},
   "source": [
    "Greek boundaries\n",
    "http://geodata.gov.gr/en/dataset/"
   ]
  },
  {
   "cell_type": "code",
   "execution_count": 41,
   "metadata": {},
   "outputs": [
    {
     "data": {
      "text/plain": [
       "Index(['EKTASH', 'PERIMETROS', 'NAME_LATIN', 'TYPOS', 'ESYE_ID', 'PREF_ID',\n",
       "       'area', 'perimeter', 'HubName', 'HubDist', 'hubname_2', 'hubdist_2',\n",
       "       'hubname_3', 'hubdist_3', 'oikismoi', 'oiki_densi', 'id', 'meanpopula',\n",
       "       'medianpopu', 'meanpopden', 'medianpopd', 'count', 'geometry'],\n",
       "      dtype='object')"
      ]
     },
     "execution_count": 41,
     "metadata": {},
     "output_type": "execute_result"
    }
   ],
   "source": [
    "#http://geodata.gov.gr/en/dataset/oria-ota-pro-kapodistria\n",
    "boundaries = gpd.read_file('../data/oriaprokapodistriakwnota/oria_prokapodistriakwn_ota/oria_prokapodistriakwn_ota_WGS84_ALL.shp')\n",
    "boundaries.columns"
   ]
  },
  {
   "cell_type": "markdown",
   "metadata": {},
   "source": [
    "Intersect the spitogatos points to Greek boundaries"
   ]
  },
  {
   "cell_type": "code",
   "execution_count": 42,
   "metadata": {},
   "outputs": [],
   "source": [
    "sjoin_df = sjoin(boundaries,points, how='inner', op='intersects', rsuffix='points', lsuffix='boundaries')"
   ]
  },
  {
   "cell_type": "code",
   "execution_count": 43,
   "metadata": {},
   "outputs": [],
   "source": [
    "df_agg = sjoin_df[['Neighbourh', 'NAME_LATIN', 'geometry']].groupby(['Neighbourh', 'NAME_LATIN'])\\\n",
    "                .count()\\\n",
    "                .reset_index('NAME_LATIN')"
   ]
  },
  {
   "cell_type": "code",
   "execution_count": 44,
   "metadata": {},
   "outputs": [
    {
     "data": {
      "text/html": [
       "<div>\n",
       "<style scoped>\n",
       "    .dataframe tbody tr th:only-of-type {\n",
       "        vertical-align: middle;\n",
       "    }\n",
       "\n",
       "    .dataframe tbody tr th {\n",
       "        vertical-align: top;\n",
       "    }\n",
       "\n",
       "    .dataframe thead th {\n",
       "        text-align: right;\n",
       "    }\n",
       "</style>\n",
       "<table border=\"1\" class=\"dataframe\">\n",
       "  <thead>\n",
       "    <tr style=\"text-align: right;\">\n",
       "      <th></th>\n",
       "      <th>NAME_LATIN</th>\n",
       "      <th>geometry</th>\n",
       "    </tr>\n",
       "    <tr>\n",
       "      <th>Neighbourh</th>\n",
       "      <th></th>\n",
       "      <th></th>\n",
       "    </tr>\n",
       "  </thead>\n",
       "  <tbody>\n",
       "    <tr>\n",
       "      <th>Achaia Aigeira</th>\n",
       "      <td>D. TRIPOLEVS_2</td>\n",
       "      <td>1</td>\n",
       "    </tr>\n",
       "    <tr>\n",
       "      <th>Achaia Aigeira</th>\n",
       "      <td>K. AIGEIRAS</td>\n",
       "      <td>11</td>\n",
       "    </tr>\n",
       "    <tr>\n",
       "      <th>Achaia Aigeira</th>\n",
       "      <td>K. AIGVN</td>\n",
       "      <td>1</td>\n",
       "    </tr>\n",
       "    <tr>\n",
       "      <th>Achaia Aigeira</th>\n",
       "      <td>K. MONASTHRIOY_2</td>\n",
       "      <td>1</td>\n",
       "    </tr>\n",
       "    <tr>\n",
       "      <th>Achaia Aigeira</th>\n",
       "      <td>K. XRYSAMPELVN</td>\n",
       "      <td>2</td>\n",
       "    </tr>\n",
       "  </tbody>\n",
       "</table>\n",
       "</div>"
      ],
      "text/plain": [
       "                      NAME_LATIN  geometry\n",
       "Neighbourh                                \n",
       "Achaia Aigeira    D. TRIPOLEVS_2         1\n",
       "Achaia Aigeira       K. AIGEIRAS        11\n",
       "Achaia Aigeira          K. AIGVN         1\n",
       "Achaia Aigeira  K. MONASTHRIOY_2         1\n",
       "Achaia Aigeira    K. XRYSAMPELVN         2"
      ]
     },
     "execution_count": 44,
     "metadata": {},
     "output_type": "execute_result"
    }
   ],
   "source": [
    "df_agg.head()"
   ]
  },
  {
   "cell_type": "code",
   "execution_count": null,
   "metadata": {},
   "outputs": [],
   "source": []
  },
  {
   "cell_type": "code",
   "execution_count": 15,
   "metadata": {},
   "outputs": [],
   "source": [
    "# df_agg[df_agg.index=='Messinia Meligala'].empty"
   ]
  },
  {
   "cell_type": "code",
   "execution_count": 16,
   "metadata": {},
   "outputs": [],
   "source": [
    "def get_NAME_LATIN_from_df_agg(neigh):\n",
    "    if df_agg[df_agg.index==neigh].empty:\n",
    "        return None\n",
    "    else:\n",
    "        return df_agg[df_agg.index==neigh].nlargest(1,'geometry').iloc[0,0]"
   ]
  },
  {
   "cell_type": "markdown",
   "metadata": {},
   "source": [
    "For each neighbourh take the Greek boundary with which most of the points intersect with"
   ]
  },
  {
   "cell_type": "code",
   "execution_count": 17,
   "metadata": {},
   "outputs": [],
   "source": [
    "for index, row in mapping_df.iterrows():\n",
    "    value = get_NAME_LATIN_from_df_agg(row['neighbourh'])\n",
    "    if value:\n",
    "        row['NAME_LATIN'] = value"
   ]
  },
  {
   "cell_type": "code",
   "execution_count": 18,
   "metadata": {},
   "outputs": [
    {
     "data": {
      "text/plain": [
       "neighbourh    False\n",
       "NAME_LATIN     True\n",
       "dtype: bool"
      ]
     },
     "execution_count": 18,
     "metadata": {},
     "output_type": "execute_result"
    }
   ],
   "source": [
    "mapping_df.isnull().any()"
   ]
  },
  {
   "cell_type": "code",
   "execution_count": 19,
   "metadata": {},
   "outputs": [
    {
     "data": {
      "text/html": [
       "<div>\n",
       "<style scoped>\n",
       "    .dataframe tbody tr th:only-of-type {\n",
       "        vertical-align: middle;\n",
       "    }\n",
       "\n",
       "    .dataframe tbody tr th {\n",
       "        vertical-align: top;\n",
       "    }\n",
       "\n",
       "    .dataframe thead th {\n",
       "        text-align: right;\n",
       "    }\n",
       "</style>\n",
       "<table border=\"1\" class=\"dataframe\">\n",
       "  <thead>\n",
       "    <tr style=\"text-align: right;\">\n",
       "      <th></th>\n",
       "      <th>neighbourh</th>\n",
       "      <th>NAME_LATIN</th>\n",
       "    </tr>\n",
       "  </thead>\n",
       "  <tbody>\n",
       "    <tr>\n",
       "      <th>462</th>\n",
       "      <td>Rest of Attica Com. Skalas Oropou</td>\n",
       "      <td>K. SKALAS VRVPOY_2</td>\n",
       "    </tr>\n",
       "  </tbody>\n",
       "</table>\n",
       "</div>"
      ],
      "text/plain": [
       "                            neighbourh          NAME_LATIN\n",
       "462  Rest of Attica Com. Skalas Oropou  K. SKALAS VRVPOY_2"
      ]
     },
     "execution_count": 19,
     "metadata": {},
     "output_type": "execute_result"
    }
   ],
   "source": [
    "testy = mapping_df[mapping_df.NAME_LATIN.notnull()]\n",
    "testy[testy.NAME_LATIN.str.contains('SKALAS VR')]"
   ]
  },
  {
   "cell_type": "code",
   "execution_count": 20,
   "metadata": {},
   "outputs": [
    {
     "data": {
      "text/html": [
       "<div>\n",
       "<style scoped>\n",
       "    .dataframe tbody tr th:only-of-type {\n",
       "        vertical-align: middle;\n",
       "    }\n",
       "\n",
       "    .dataframe tbody tr th {\n",
       "        vertical-align: top;\n",
       "    }\n",
       "\n",
       "    .dataframe thead th {\n",
       "        text-align: right;\n",
       "    }\n",
       "</style>\n",
       "<table border=\"1\" class=\"dataframe\">\n",
       "  <thead>\n",
       "    <tr style=\"text-align: right;\">\n",
       "      <th></th>\n",
       "      <th>neighbourh</th>\n",
       "      <th>NAME_LATIN</th>\n",
       "    </tr>\n",
       "  </thead>\n",
       "  <tbody>\n",
       "    <tr>\n",
       "      <th>297</th>\n",
       "      <td>Messinia Meligala</td>\n",
       "      <td>None</td>\n",
       "    </tr>\n",
       "    <tr>\n",
       "      <th>448</th>\n",
       "      <td>Chania Prefecture Keramia</td>\n",
       "      <td>None</td>\n",
       "    </tr>\n",
       "    <tr>\n",
       "      <th>512</th>\n",
       "      <td>Kozani Prefecture Elimeia</td>\n",
       "      <td>None</td>\n",
       "    </tr>\n",
       "    <tr>\n",
       "      <th>582</th>\n",
       "      <td>Arta Prefecture Amvrakia</td>\n",
       "      <td>None</td>\n",
       "    </tr>\n",
       "    <tr>\n",
       "      <th>608</th>\n",
       "      <td>Heraklion Prefecture Tilisos</td>\n",
       "      <td>None</td>\n",
       "    </tr>\n",
       "    <tr>\n",
       "      <th>622</th>\n",
       "      <td>Aetolia &amp; Acarnania Apodotia</td>\n",
       "      <td>None</td>\n",
       "    </tr>\n",
       "    <tr>\n",
       "      <th>631</th>\n",
       "      <td>Thesprotia Parapotamos</td>\n",
       "      <td>None</td>\n",
       "    </tr>\n",
       "    <tr>\n",
       "      <th>633</th>\n",
       "      <td>Lakonia Oinountas</td>\n",
       "      <td>None</td>\n",
       "    </tr>\n",
       "    <tr>\n",
       "      <th>652</th>\n",
       "      <td>Lesvos Prefecture Lesvos - Agiasos</td>\n",
       "      <td>None</td>\n",
       "    </tr>\n",
       "    <tr>\n",
       "      <th>679</th>\n",
       "      <td>Aetolia &amp; Acarnania Aggelokastro</td>\n",
       "      <td>None</td>\n",
       "    </tr>\n",
       "    <tr>\n",
       "      <th>698</th>\n",
       "      <td>Trikala Prefecture Megala Kalivia</td>\n",
       "      <td>None</td>\n",
       "    </tr>\n",
       "    <tr>\n",
       "      <th>708</th>\n",
       "      <td>Chania Prefecture Gavdos</td>\n",
       "      <td>None</td>\n",
       "    </tr>\n",
       "    <tr>\n",
       "      <th>717</th>\n",
       "      <td>Lasithi Prefecture Oropedio Lasithiou</td>\n",
       "      <td>None</td>\n",
       "    </tr>\n",
       "    <tr>\n",
       "      <th>720</th>\n",
       "      <td>Larissa Prefecture Sarantaporo</td>\n",
       "      <td>None</td>\n",
       "    </tr>\n",
       "    <tr>\n",
       "      <th>732</th>\n",
       "      <td>Arta Prefecture Kompotio</td>\n",
       "      <td>None</td>\n",
       "    </tr>\n",
       "    <tr>\n",
       "      <th>735</th>\n",
       "      <td>Evros Kiprinos</td>\n",
       "      <td>None</td>\n",
       "    </tr>\n",
       "    <tr>\n",
       "      <th>745</th>\n",
       "      <td>Ioannina Prefecture Pramanta</td>\n",
       "      <td>None</td>\n",
       "    </tr>\n",
       "    <tr>\n",
       "      <th>752</th>\n",
       "      <td>Heraklion Prefecture Zaros</td>\n",
       "      <td>None</td>\n",
       "    </tr>\n",
       "    <tr>\n",
       "      <th>762</th>\n",
       "      <td>Aetolia &amp; Acarnania Inachos</td>\n",
       "      <td>None</td>\n",
       "    </tr>\n",
       "    <tr>\n",
       "      <th>768</th>\n",
       "      <td>Heraklion Prefecture Krousonas</td>\n",
       "      <td>None</td>\n",
       "    </tr>\n",
       "    <tr>\n",
       "      <th>774</th>\n",
       "      <td>Kozani Prefecture Mourikio</td>\n",
       "      <td>None</td>\n",
       "    </tr>\n",
       "    <tr>\n",
       "      <th>776</th>\n",
       "      <td>Thesprotia Souli</td>\n",
       "      <td>None</td>\n",
       "    </tr>\n",
       "    <tr>\n",
       "      <th>784</th>\n",
       "      <td>Achaia Kalentzi</td>\n",
       "      <td>None</td>\n",
       "    </tr>\n",
       "    <tr>\n",
       "      <th>793</th>\n",
       "      <td>Chania Prefecture Kantanos</td>\n",
       "      <td>None</td>\n",
       "    </tr>\n",
       "    <tr>\n",
       "      <th>802</th>\n",
       "      <td>Kozani Prefecture Vlasti</td>\n",
       "      <td>None</td>\n",
       "    </tr>\n",
       "    <tr>\n",
       "      <th>804</th>\n",
       "      <td>Aetolia &amp; Acarnania Paravola</td>\n",
       "      <td>None</td>\n",
       "    </tr>\n",
       "    <tr>\n",
       "      <th>815</th>\n",
       "      <td>Boeotia Antikira</td>\n",
       "      <td>None</td>\n",
       "    </tr>\n",
       "    <tr>\n",
       "      <th>821</th>\n",
       "      <td>Karditsa Prefecture Pamisos</td>\n",
       "      <td>None</td>\n",
       "    </tr>\n",
       "    <tr>\n",
       "      <th>830</th>\n",
       "      <td>Pieria Prefecture Petra</td>\n",
       "      <td>None</td>\n",
       "    </tr>\n",
       "    <tr>\n",
       "      <th>833</th>\n",
       "      <td>Trikala Prefecture Pindaio</td>\n",
       "      <td>None</td>\n",
       "    </tr>\n",
       "    <tr>\n",
       "      <th>834</th>\n",
       "      <td>Messinia Eira</td>\n",
       "      <td>None</td>\n",
       "    </tr>\n",
       "    <tr>\n",
       "      <th>837</th>\n",
       "      <td>Lakonia Niata</td>\n",
       "      <td>None</td>\n",
       "    </tr>\n",
       "    <tr>\n",
       "      <th>838</th>\n",
       "      <td>Boeotia Distomo</td>\n",
       "      <td>None</td>\n",
       "    </tr>\n",
       "    <tr>\n",
       "      <th>843</th>\n",
       "      <td>Lakonia Karies</td>\n",
       "      <td>None</td>\n",
       "    </tr>\n",
       "    <tr>\n",
       "      <th>844</th>\n",
       "      <td>Heraklion Prefecture Thrapsano</td>\n",
       "      <td>None</td>\n",
       "    </tr>\n",
       "    <tr>\n",
       "      <th>846</th>\n",
       "      <td>Ioannina Prefecture Vathipedo</td>\n",
       "      <td>None</td>\n",
       "    </tr>\n",
       "    <tr>\n",
       "      <th>850</th>\n",
       "      <td>Grevena Samarina</td>\n",
       "      <td>None</td>\n",
       "    </tr>\n",
       "    <tr>\n",
       "      <th>851</th>\n",
       "      <td>Lakonia Pellana</td>\n",
       "      <td>None</td>\n",
       "    </tr>\n",
       "    <tr>\n",
       "      <th>854</th>\n",
       "      <td>Ioannina Prefecture Sirrako</td>\n",
       "      <td>None</td>\n",
       "    </tr>\n",
       "    <tr>\n",
       "      <th>859</th>\n",
       "      <td>Ioannina Prefecture Fourka</td>\n",
       "      <td>None</td>\n",
       "    </tr>\n",
       "  </tbody>\n",
       "</table>\n",
       "</div>"
      ],
      "text/plain": [
       "                                neighbourh NAME_LATIN\n",
       "297                      Messinia Meligala       None\n",
       "448              Chania Prefecture Keramia       None\n",
       "512              Kozani Prefecture Elimeia       None\n",
       "582               Arta Prefecture Amvrakia       None\n",
       "608           Heraklion Prefecture Tilisos       None\n",
       "622           Aetolia & Acarnania Apodotia       None\n",
       "631                 Thesprotia Parapotamos       None\n",
       "633                      Lakonia Oinountas       None\n",
       "652     Lesvos Prefecture Lesvos - Agiasos       None\n",
       "679       Aetolia & Acarnania Aggelokastro       None\n",
       "698      Trikala Prefecture Megala Kalivia       None\n",
       "708               Chania Prefecture Gavdos       None\n",
       "717  Lasithi Prefecture Oropedio Lasithiou       None\n",
       "720         Larissa Prefecture Sarantaporo       None\n",
       "732               Arta Prefecture Kompotio       None\n",
       "735                         Evros Kiprinos       None\n",
       "745           Ioannina Prefecture Pramanta       None\n",
       "752             Heraklion Prefecture Zaros       None\n",
       "762            Aetolia & Acarnania Inachos       None\n",
       "768         Heraklion Prefecture Krousonas       None\n",
       "774             Kozani Prefecture Mourikio       None\n",
       "776                       Thesprotia Souli       None\n",
       "784                        Achaia Kalentzi       None\n",
       "793             Chania Prefecture Kantanos       None\n",
       "802               Kozani Prefecture Vlasti       None\n",
       "804           Aetolia & Acarnania Paravola       None\n",
       "815                       Boeotia Antikira       None\n",
       "821            Karditsa Prefecture Pamisos       None\n",
       "830                Pieria Prefecture Petra       None\n",
       "833             Trikala Prefecture Pindaio       None\n",
       "834                          Messinia Eira       None\n",
       "837                          Lakonia Niata       None\n",
       "838                        Boeotia Distomo       None\n",
       "843                         Lakonia Karies       None\n",
       "844         Heraklion Prefecture Thrapsano       None\n",
       "846          Ioannina Prefecture Vathipedo       None\n",
       "850                       Grevena Samarina       None\n",
       "851                        Lakonia Pellana       None\n",
       "854            Ioannina Prefecture Sirrako       None\n",
       "859             Ioannina Prefecture Fourka       None"
      ]
     },
     "execution_count": 20,
     "metadata": {},
     "output_type": "execute_result"
    }
   ],
   "source": [
    "# those must be done manually\n",
    "mapping_df[mapping_df['NAME_LATIN'].isnull()]"
   ]
  },
  {
   "cell_type": "code",
   "execution_count": 54,
   "metadata": {},
   "outputs": [],
   "source": [
    "# mapping_df.to_csv('mapping_neighbourhood_LOCAL_NAME.csv', index=False)\n",
    "# mapping_df= pd.read_csv('mapping_neighbourhood_LOCAL_NAME.csv')"
   ]
  },
  {
   "cell_type": "markdown",
   "metadata": {},
   "source": [
    "the same process has been done for '../data/oriadhmwnkallikraths/oria_dhmwn_kallikraths/oria_dhmwn_kallikraths_WGS84.shp'\n",
    "http://geodata.gov.gr/en/dataset/oria-demon-kallikrates"
   ]
  },
  {
   "cell_type": "code",
   "execution_count": null,
   "metadata": {},
   "outputs": [],
   "source": []
  },
  {
   "cell_type": "markdown",
   "metadata": {},
   "source": [
    "check if the mapping went well by looking at similarity between neighourbourds and names"
   ]
  },
  {
   "cell_type": "code",
   "execution_count": 56,
   "metadata": {},
   "outputs": [
    {
     "data": {
      "text/html": [
       "<div>\n",
       "<style scoped>\n",
       "    .dataframe tbody tr th:only-of-type {\n",
       "        vertical-align: middle;\n",
       "    }\n",
       "\n",
       "    .dataframe tbody tr th {\n",
       "        vertical-align: top;\n",
       "    }\n",
       "\n",
       "    .dataframe thead th {\n",
       "        text-align: right;\n",
       "    }\n",
       "</style>\n",
       "<table border=\"1\" class=\"dataframe\">\n",
       "  <thead>\n",
       "    <tr style=\"text-align: right;\">\n",
       "      <th></th>\n",
       "      <th>neighbourh</th>\n",
       "      <th>NAME_LATIN</th>\n",
       "      <th>Levenshtein</th>\n",
       "    </tr>\n",
       "  </thead>\n",
       "  <tbody>\n",
       "    <tr>\n",
       "      <th>0</th>\n",
       "      <td>Cyclades Paros</td>\n",
       "      <td>D. PAROY_1</td>\n",
       "      <td>0</td>\n",
       "    </tr>\n",
       "    <tr>\n",
       "      <th>1</th>\n",
       "      <td>Corinthia Vocha</td>\n",
       "      <td>K. BRAXATIOY</td>\n",
       "      <td>0</td>\n",
       "    </tr>\n",
       "    <tr>\n",
       "      <th>2</th>\n",
       "      <td>Athens - South Nea Smyrni</td>\n",
       "      <td>D. NEAS SMYRNHS</td>\n",
       "      <td>0</td>\n",
       "    </tr>\n",
       "    <tr>\n",
       "      <th>3</th>\n",
       "      <td>Thessaloniki - Suburbs Thermi</td>\n",
       "      <td>K. UERMHS</td>\n",
       "      <td>0</td>\n",
       "    </tr>\n",
       "    <tr>\n",
       "      <th>4</th>\n",
       "      <td>Kavala Prefecture Thasos</td>\n",
       "      <td>D. UASOY_2</td>\n",
       "      <td>0</td>\n",
       "    </tr>\n",
       "  </tbody>\n",
       "</table>\n",
       "</div>"
      ],
      "text/plain": [
       "                      neighbourh       NAME_LATIN  Levenshtein\n",
       "0                 Cyclades Paros       D. PAROY_1            0\n",
       "1                Corinthia Vocha     K. BRAXATIOY            0\n",
       "2      Athens - South Nea Smyrni  D. NEAS SMYRNHS            0\n",
       "3  Thessaloniki - Suburbs Thermi        K. UERMHS            0\n",
       "4       Kavala Prefecture Thasos       D. UASOY_2            0"
      ]
     },
     "execution_count": 56,
     "metadata": {},
     "output_type": "execute_result"
    }
   ],
   "source": [
    "# add a column to store the score\n",
    "mapping_df['Levenshtein']= 0\n",
    "mapping_df.head()"
   ]
  },
  {
   "cell_type": "code",
   "execution_count": 57,
   "metadata": {},
   "outputs": [],
   "source": [
    "# some typo rules\n",
    "\n",
    "for index, row in mapping_df.iterrows():\n",
    "    pap  =row['NAME_LATIN']\n",
    "    pap = pap.replace('U','TH')\n",
    "    mapping_df.loc[index,'NAME_LATIN'] = pap\n",
    "\n",
    "for index, row in mapping_df.iterrows():    \n",
    "    pap  =row['NAME_LATIN']\n",
    "    pap = pap.replace('HS', 'IS')\n",
    "    mapping_df.loc[index,'NAME_LATIN'] = pap\n",
    "    \n",
    "for index, row in mapping_df.iterrows():    \n",
    "    pap  =row['NAME_LATIN']\n",
    "    pap = pap.replace('V', 'O')\n",
    "    mapping_df.loc[index,'NAME_LATIN'] = pap\n",
    "    \n",
    "for index, row in mapping_df.iterrows():    \n",
    "    pap  =row['NAME_LATIN']\n",
    "    pap = pap.replace('HH', 'HI')\n",
    "    mapping_df.loc[index,'NAME_LATIN'] = pap\n",
    "    \n",
    "for index, row in mapping_df.iterrows():\n",
    "    mapping_df.loc[index,'NAME_LATIN'] = row['NAME_LATIN'][2:]\n",
    "    \n",
    "for index, row in mapping_df.iterrows():    \n",
    "    pap  =row['NAME_LATIN']\n",
    "    if \"_\" in pap:\n",
    "        mapping_df.loc[index,'NAME_LATIN'] = mapping_df.loc[index,'NAME_LATIN'][:-2]\n",
    "        \n",
    "for index, row in mapping_df.iterrows():    \n",
    "    pap  =row['NAME_LATIN']\n",
    "    if pap==' ATHINAION':\n",
    "        mapping_df.loc[index,'NAME_LATIN'] = 'Athens'"
   ]
  },
  {
   "cell_type": "code",
   "execution_count": 58,
   "metadata": {},
   "outputs": [],
   "source": [
    "for index, row in mapping_df.iterrows():\n",
    "    mapping_df.loc[index,'Levenshtein'] = int(fuzz.WRatio(row['neighbourh'], row['NAME_LATIN']))"
   ]
  },
  {
   "cell_type": "code",
   "execution_count": 59,
   "metadata": {},
   "outputs": [
    {
     "data": {
      "text/html": [
       "<div>\n",
       "<style scoped>\n",
       "    .dataframe tbody tr th:only-of-type {\n",
       "        vertical-align: middle;\n",
       "    }\n",
       "\n",
       "    .dataframe tbody tr th {\n",
       "        vertical-align: top;\n",
       "    }\n",
       "\n",
       "    .dataframe thead th {\n",
       "        text-align: right;\n",
       "    }\n",
       "</style>\n",
       "<table border=\"1\" class=\"dataframe\">\n",
       "  <thead>\n",
       "    <tr style=\"text-align: right;\">\n",
       "      <th></th>\n",
       "      <th>neighbourh</th>\n",
       "      <th>NAME_LATIN</th>\n",
       "      <th>Levenshtein</th>\n",
       "    </tr>\n",
       "  </thead>\n",
       "  <tbody>\n",
       "    <tr>\n",
       "      <th>0</th>\n",
       "      <td>Cyclades Paros</td>\n",
       "      <td>PAROY</td>\n",
       "      <td>72</td>\n",
       "    </tr>\n",
       "    <tr>\n",
       "      <th>1</th>\n",
       "      <td>Corinthia Vocha</td>\n",
       "      <td>BRAXATIOY</td>\n",
       "      <td>33</td>\n",
       "    </tr>\n",
       "    <tr>\n",
       "      <th>2</th>\n",
       "      <td>Athens - South Nea Smyrni</td>\n",
       "      <td>NEAS SMYRNIS</td>\n",
       "      <td>79</td>\n",
       "    </tr>\n",
       "    <tr>\n",
       "      <th>3</th>\n",
       "      <td>Thessaloniki - Suburbs Thermi</td>\n",
       "      <td>THERMIS</td>\n",
       "      <td>77</td>\n",
       "    </tr>\n",
       "    <tr>\n",
       "      <th>4</th>\n",
       "      <td>Kavala Prefecture Thasos</td>\n",
       "      <td>THASOY</td>\n",
       "      <td>75</td>\n",
       "    </tr>\n",
       "    <tr>\n",
       "      <th>5</th>\n",
       "      <td>Chalkidiki Kassandra</td>\n",
       "      <td>KASSANDREIAS</td>\n",
       "      <td>77</td>\n",
       "    </tr>\n",
       "    <tr>\n",
       "      <th>6</th>\n",
       "      <td>Athens - South Vari - Varkiza</td>\n",
       "      <td>BARIS</td>\n",
       "      <td>54</td>\n",
       "    </tr>\n",
       "    <tr>\n",
       "      <th>7</th>\n",
       "      <td>Samos Prefecture Ikaria</td>\n",
       "      <td>AGIOY KHRYKOY</td>\n",
       "      <td>28</td>\n",
       "    </tr>\n",
       "    <tr>\n",
       "      <th>8</th>\n",
       "      <td>Athens - Center Gazi - Metaxourgio - Votanikos</td>\n",
       "      <td>Athens</td>\n",
       "      <td>90</td>\n",
       "    </tr>\n",
       "    <tr>\n",
       "      <th>9</th>\n",
       "      <td>Athens - South Glyfada</td>\n",
       "      <td>GLYFADAS</td>\n",
       "      <td>84</td>\n",
       "    </tr>\n",
       "  </tbody>\n",
       "</table>\n",
       "</div>"
      ],
      "text/plain": [
       "                                       neighbourh      NAME_LATIN  Levenshtein\n",
       "0                                  Cyclades Paros           PAROY           72\n",
       "1                                 Corinthia Vocha       BRAXATIOY           33\n",
       "2                       Athens - South Nea Smyrni    NEAS SMYRNIS           79\n",
       "3                   Thessaloniki - Suburbs Thermi         THERMIS           77\n",
       "4                        Kavala Prefecture Thasos          THASOY           75\n",
       "5                            Chalkidiki Kassandra    KASSANDREIAS           77\n",
       "6                   Athens - South Vari - Varkiza           BARIS           54\n",
       "7                         Samos Prefecture Ikaria   AGIOY KHRYKOY           28\n",
       "8  Athens - Center Gazi - Metaxourgio - Votanikos          Athens           90\n",
       "9                          Athens - South Glyfada        GLYFADAS           84"
      ]
     },
     "execution_count": 59,
     "metadata": {},
     "output_type": "execute_result"
    }
   ],
   "source": [
    "mapping_df.head(10)"
   ]
  },
  {
   "cell_type": "code",
   "execution_count": 61,
   "metadata": {},
   "outputs": [
    {
     "data": {
      "text/plain": [
       "count    860.000000\n",
       "mean      55.731395\n",
       "std       20.776233\n",
       "min       11.000000\n",
       "25%       36.750000\n",
       "50%       56.000000\n",
       "75%       74.000000\n",
       "max       90.000000\n",
       "Name: Levenshtein, dtype: float64"
      ]
     },
     "execution_count": 61,
     "metadata": {},
     "output_type": "execute_result"
    }
   ],
   "source": [
    "mapping_df.Levenshtein.describe()"
   ]
  },
  {
   "cell_type": "code",
   "execution_count": 63,
   "metadata": {},
   "outputs": [
    {
     "data": {
      "text/plain": [
       "<matplotlib.axes._subplots.AxesSubplot at 0x7f0dc9fbbf98>"
      ]
     },
     "execution_count": 63,
     "metadata": {},
     "output_type": "execute_result"
    },
    {
     "data": {
      "image/png": "[encoded data removed]",
      "text/plain": [
       "<Figure size 432x288 with 1 Axes>"
      ]
     },
     "metadata": {
      "needs_background": "light"
     },
     "output_type": "display_data"
    }
   ],
   "source": [
    "mapping_df.Levenshtein.hist()"
   ]
  },
  {
   "cell_type": "markdown",
   "metadata": {},
   "source": [
    "the hist shows a good percentage that is matching really well"
   ]
  }
 ],
 "metadata": {
  "kernelspec": {
   "display_name": "Python 3",
   "language": "python",
   "name": "python3"
  },
  "language_info": {
   "codemirror_mode": {
    "name": "ipython",
    "version": 3
   },
   "file_extension": ".py",
   "mimetype": "text/x-python",
   "name": "python",
   "nbconvert_exporter": "python",
   "pygments_lexer": "ipython3",
   "version": "3.7.3"
  }
 },
 "nbformat": 4,
 "nbformat_minor": 2
}
