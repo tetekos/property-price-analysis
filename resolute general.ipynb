{
 "cells": [
  {
   "cell_type": "code",
   "execution_count": 3,
   "metadata": {},
   "outputs": [],
   "source": [
    "import pandas as pd\n",
    "import glob\n",
    "import numpy as np\n",
    "from multiprocessing import Pool\n",
    "from multiprocessing import cpu_count\n",
    "num_partitions = cpu_count()"
   ]
  },
  {
   "cell_type": "code",
   "execution_count": 4,
   "metadata": {},
   "outputs": [],
   "source": [
    "super_frame = pd.read_csv('df_resolute.csv', keep_default_na=False)\n",
    "# convert to datetime object\n",
    "super_frame['ModifiedOn'] = pd.to_datetime(super_frame['ModifiedOn'])"
   ]
  },
  {
   "cell_type": "code",
   "execution_count": 10,
   "metadata": {},
   "outputs": [
    {
     "data": {
      "text/html": [
       "<div>\n",
       "<style scoped>\n",
       "    .dataframe tbody tr th:only-of-type {\n",
       "        vertical-align: middle;\n",
       "    }\n",
       "\n",
       "    .dataframe tbody tr th {\n",
       "        vertical-align: top;\n",
       "    }\n",
       "\n",
       "    .dataframe thead th {\n",
       "        text-align: right;\n",
       "    }\n",
       "</style>\n",
       "<table border=\"1\" class=\"dataframe\">\n",
       "  <thead>\n",
       "    <tr style=\"text-align: right;\">\n",
       "      <th></th>\n",
       "      <th>Neighbourhood</th>\n",
       "      <th>Area_sqm</th>\n",
       "      <th>PropertyType</th>\n",
       "      <th>Bedrooms</th>\n",
       "      <th>Bathrooms</th>\n",
       "      <th>Rooms</th>\n",
       "      <th>Floor</th>\n",
       "      <th>Levels</th>\n",
       "      <th>PriceEuro</th>\n",
       "      <th>PricePerM2Euro</th>\n",
       "      <th>Latitude</th>\n",
       "      <th>Longitude</th>\n",
       "      <th>ConstructionYear</th>\n",
       "      <th>ModifiedOn</th>\n",
       "    </tr>\n",
       "  </thead>\n",
       "  <tbody>\n",
       "    <tr>\n",
       "      <th>0</th>\n",
       "      <td>Cyclades Paros</td>\n",
       "      <td>80</td>\n",
       "      <td>Maisonette</td>\n",
       "      <td>3</td>\n",
       "      <td>0</td>\n",
       "      <td>0</td>\n",
       "      <td>2</td>\n",
       "      <td>0</td>\n",
       "      <td>155000</td>\n",
       "      <td>1938</td>\n",
       "      <td>0.000000</td>\n",
       "      <td>0.000000</td>\n",
       "      <td>Under construction</td>\n",
       "      <td>2019-04-24</td>\n",
       "    </tr>\n",
       "    <tr>\n",
       "      <th>1</th>\n",
       "      <td>Corinthia Vocha</td>\n",
       "      <td>154</td>\n",
       "      <td>Store</td>\n",
       "      <td>0</td>\n",
       "      <td>0</td>\n",
       "      <td>1</td>\n",
       "      <td>Ground floor</td>\n",
       "      <td>0</td>\n",
       "      <td>180000</td>\n",
       "      <td>1169</td>\n",
       "      <td>0.000000</td>\n",
       "      <td>0.000000</td>\n",
       "      <td>1960</td>\n",
       "      <td>2018-11-16</td>\n",
       "    </tr>\n",
       "    <tr>\n",
       "      <th>2</th>\n",
       "      <td>Athens - South Nea Smyrni</td>\n",
       "      <td>60</td>\n",
       "      <td>Office</td>\n",
       "      <td>0</td>\n",
       "      <td>0</td>\n",
       "      <td>0</td>\n",
       "      <td>2</td>\n",
       "      <td>0</td>\n",
       "      <td>63000</td>\n",
       "      <td>1050</td>\n",
       "      <td>0.000000</td>\n",
       "      <td>0.000000</td>\n",
       "      <td>1993</td>\n",
       "      <td>2019-04-24</td>\n",
       "    </tr>\n",
       "    <tr>\n",
       "      <th>3</th>\n",
       "      <td>Thessaloniki - Suburbs Thermi</td>\n",
       "      <td>1850</td>\n",
       "      <td>Business building</td>\n",
       "      <td>0</td>\n",
       "      <td>0</td>\n",
       "      <td>0</td>\n",
       "      <td>Ground floor</td>\n",
       "      <td>3</td>\n",
       "      <td>1650000</td>\n",
       "      <td>892</td>\n",
       "      <td>40.515778</td>\n",
       "      <td>22.991291</td>\n",
       "      <td>2002</td>\n",
       "      <td>2019-04-24</td>\n",
       "    </tr>\n",
       "    <tr>\n",
       "      <th>4</th>\n",
       "      <td>Kavala Prefecture Thasos</td>\n",
       "      <td>5000</td>\n",
       "      <td>Parcel</td>\n",
       "      <td>0</td>\n",
       "      <td>0</td>\n",
       "      <td>0</td>\n",
       "      <td></td>\n",
       "      <td>0</td>\n",
       "      <td>75000</td>\n",
       "      <td>15</td>\n",
       "      <td>40.693836</td>\n",
       "      <td>24.556259</td>\n",
       "      <td></td>\n",
       "      <td>2019-04-30</td>\n",
       "    </tr>\n",
       "  </tbody>\n",
       "</table>\n",
       "</div>"
      ],
      "text/plain": [
       "                    Neighbourhood  Area_sqm       PropertyType  Bedrooms  \\\n",
       "0                 Cyclades Paros         80         Maisonette         3   \n",
       "1                Corinthia Vocha        154              Store         0   \n",
       "2      Athens - South Nea Smyrni         60             Office         0   \n",
       "3  Thessaloniki - Suburbs Thermi       1850  Business building         0   \n",
       "4       Kavala Prefecture Thasos       5000             Parcel         0   \n",
       "\n",
       "   Bathrooms  Rooms         Floor  Levels  PriceEuro  PricePerM2Euro  \\\n",
       "0          0      0             2       0     155000            1938   \n",
       "1          0      1  Ground floor       0     180000            1169   \n",
       "2          0      0             2       0      63000            1050   \n",
       "3          0      0  Ground floor       3    1650000             892   \n",
       "4          0      0                     0      75000              15   \n",
       "\n",
       "    Latitude  Longitude    ConstructionYear ModifiedOn  \n",
       "0   0.000000   0.000000  Under construction 2019-04-24  \n",
       "1   0.000000   0.000000                1960 2018-11-16  \n",
       "2   0.000000   0.000000                1993 2019-04-24  \n",
       "3  40.515778  22.991291                2002 2019-04-24  \n",
       "4  40.693836  24.556259                     2019-04-30  "
      ]
     },
     "execution_count": 10,
     "metadata": {},
     "output_type": "execute_result"
    }
   ],
   "source": [
    "super_frame.head()"
   ]
  },
  {
   "cell_type": "code",
   "execution_count": 9,
   "metadata": {},
   "outputs": [
    {
     "data": {
      "text/plain": [
       "array([[<matplotlib.axes._subplots.AxesSubplot object at 0x7fe37296ba58>]],\n",
       "      dtype=object)"
      ]
     },
     "execution_count": 9,
     "metadata": {},
     "output_type": "execute_result"
    },
    {
     "data": {
      "image/png": "[encoded data removed]",
      "text/plain": [
       "<Figure size 864x576 with 1 Axes>"
      ]
     },
     "metadata": {
      "needs_background": "light"
     },
     "output_type": "display_data"
    }
   ],
   "source": [
    "super_frame.query(\"PriceEuro>10\").hist(column='PricePerM2Euro',bins=100,figsize=(12,8))"
   ]
  },
  {
   "cell_type": "code",
   "execution_count": 47,
   "metadata": {},
   "outputs": [
    {
     "data": {
      "text/plain": [
       "                      57471\n",
       "2010                   5550\n",
       "Under construction     5496\n",
       "-                      4241\n",
       "1980                   4005\n",
       "Name: ConstructionYear, dtype: int64"
      ]
     },
     "execution_count": 47,
     "metadata": {},
     "output_type": "execute_result"
    }
   ],
   "source": [
    "# should we create a year range? 70s, 80s, 90s, 00s, 10s, 20s ? \n",
    "super_frame.ConstructionYear.value_counts(sort=True).head()"
   ]
  },
  {
   "cell_type": "markdown",
   "metadata": {},
   "source": [
    "## Describe "
   ]
  },
  {
   "cell_type": "code",
   "execution_count": 11,
   "metadata": {},
   "outputs": [
    {
     "data": {
      "text/html": [
       "<div>\n",
       "<style scoped>\n",
       "    .dataframe tbody tr th:only-of-type {\n",
       "        vertical-align: middle;\n",
       "    }\n",
       "\n",
       "    .dataframe tbody tr th {\n",
       "        vertical-align: top;\n",
       "    }\n",
       "\n",
       "    .dataframe thead th {\n",
       "        text-align: right;\n",
       "    }\n",
       "</style>\n",
       "<table border=\"1\" class=\"dataframe\">\n",
       "  <thead>\n",
       "    <tr style=\"text-align: right;\">\n",
       "      <th></th>\n",
       "      <th>Area_sqm</th>\n",
       "      <th>Bedrooms</th>\n",
       "      <th>Bathrooms</th>\n",
       "      <th>Rooms</th>\n",
       "      <th>Levels</th>\n",
       "      <th>PriceEuro</th>\n",
       "      <th>PricePerM2Euro</th>\n",
       "      <th>Latitude</th>\n",
       "      <th>Longitude</th>\n",
       "    </tr>\n",
       "  </thead>\n",
       "  <tbody>\n",
       "    <tr>\n",
       "      <th>Area_sqm</th>\n",
       "      <td>1.000000</td>\n",
       "      <td>-0.009783</td>\n",
       "      <td>-0.001648</td>\n",
       "      <td>-0.000996</td>\n",
       "      <td>-0.006936</td>\n",
       "      <td>0.350536</td>\n",
       "      <td>-0.004297</td>\n",
       "      <td>0.001914</td>\n",
       "      <td>0.001527</td>\n",
       "    </tr>\n",
       "    <tr>\n",
       "      <th>Bedrooms</th>\n",
       "      <td>-0.009783</td>\n",
       "      <td>1.000000</td>\n",
       "      <td>0.102472</td>\n",
       "      <td>-0.062667</td>\n",
       "      <td>0.283708</td>\n",
       "      <td>0.026600</td>\n",
       "      <td>0.086560</td>\n",
       "      <td>0.033936</td>\n",
       "      <td>0.036869</td>\n",
       "    </tr>\n",
       "    <tr>\n",
       "      <th>Bathrooms</th>\n",
       "      <td>-0.001648</td>\n",
       "      <td>0.102472</td>\n",
       "      <td>1.000000</td>\n",
       "      <td>0.491379</td>\n",
       "      <td>0.060683</td>\n",
       "      <td>0.061293</td>\n",
       "      <td>0.017872</td>\n",
       "      <td>0.006979</td>\n",
       "      <td>0.006941</td>\n",
       "    </tr>\n",
       "    <tr>\n",
       "      <th>Rooms</th>\n",
       "      <td>-0.000996</td>\n",
       "      <td>-0.062667</td>\n",
       "      <td>0.491379</td>\n",
       "      <td>1.000000</td>\n",
       "      <td>0.088593</td>\n",
       "      <td>0.302590</td>\n",
       "      <td>0.027239</td>\n",
       "      <td>-0.012685</td>\n",
       "      <td>-0.011190</td>\n",
       "    </tr>\n",
       "    <tr>\n",
       "      <th>Levels</th>\n",
       "      <td>-0.006936</td>\n",
       "      <td>0.283708</td>\n",
       "      <td>0.060683</td>\n",
       "      <td>0.088593</td>\n",
       "      <td>1.000000</td>\n",
       "      <td>0.112683</td>\n",
       "      <td>0.058374</td>\n",
       "      <td>-0.007105</td>\n",
       "      <td>-0.000622</td>\n",
       "    </tr>\n",
       "    <tr>\n",
       "      <th>PriceEuro</th>\n",
       "      <td>0.350536</td>\n",
       "      <td>0.026600</td>\n",
       "      <td>0.061293</td>\n",
       "      <td>0.302590</td>\n",
       "      <td>0.112683</td>\n",
       "      <td>1.000000</td>\n",
       "      <td>0.167678</td>\n",
       "      <td>-0.036559</td>\n",
       "      <td>-0.028913</td>\n",
       "    </tr>\n",
       "    <tr>\n",
       "      <th>PricePerM2Euro</th>\n",
       "      <td>-0.004297</td>\n",
       "      <td>0.086560</td>\n",
       "      <td>0.017872</td>\n",
       "      <td>0.027239</td>\n",
       "      <td>0.058374</td>\n",
       "      <td>0.167678</td>\n",
       "      <td>1.000000</td>\n",
       "      <td>-0.005236</td>\n",
       "      <td>-0.001366</td>\n",
       "    </tr>\n",
       "    <tr>\n",
       "      <th>Latitude</th>\n",
       "      <td>0.001914</td>\n",
       "      <td>0.033936</td>\n",
       "      <td>0.006979</td>\n",
       "      <td>-0.012685</td>\n",
       "      <td>-0.007105</td>\n",
       "      <td>-0.036559</td>\n",
       "      <td>-0.005236</td>\n",
       "      <td>1.000000</td>\n",
       "      <td>0.979605</td>\n",
       "    </tr>\n",
       "    <tr>\n",
       "      <th>Longitude</th>\n",
       "      <td>0.001527</td>\n",
       "      <td>0.036869</td>\n",
       "      <td>0.006941</td>\n",
       "      <td>-0.011190</td>\n",
       "      <td>-0.000622</td>\n",
       "      <td>-0.028913</td>\n",
       "      <td>-0.001366</td>\n",
       "      <td>0.979605</td>\n",
       "      <td>1.000000</td>\n",
       "    </tr>\n",
       "  </tbody>\n",
       "</table>\n",
       "</div>"
      ],
      "text/plain": [
       "                Area_sqm  Bedrooms  Bathrooms     Rooms    Levels  PriceEuro  \\\n",
       "Area_sqm        1.000000 -0.009783  -0.001648 -0.000996 -0.006936   0.350536   \n",
       "Bedrooms       -0.009783  1.000000   0.102472 -0.062667  0.283708   0.026600   \n",
       "Bathrooms      -0.001648  0.102472   1.000000  0.491379  0.060683   0.061293   \n",
       "Rooms          -0.000996 -0.062667   0.491379  1.000000  0.088593   0.302590   \n",
       "Levels         -0.006936  0.283708   0.060683  0.088593  1.000000   0.112683   \n",
       "PriceEuro       0.350536  0.026600   0.061293  0.302590  0.112683   1.000000   \n",
       "PricePerM2Euro -0.004297  0.086560   0.017872  0.027239  0.058374   0.167678   \n",
       "Latitude        0.001914  0.033936   0.006979 -0.012685 -0.007105  -0.036559   \n",
       "Longitude       0.001527  0.036869   0.006941 -0.011190 -0.000622  -0.028913   \n",
       "\n",
       "                PricePerM2Euro  Latitude  Longitude  \n",
       "Area_sqm             -0.004297  0.001914   0.001527  \n",
       "Bedrooms              0.086560  0.033936   0.036869  \n",
       "Bathrooms             0.017872  0.006979   0.006941  \n",
       "Rooms                 0.027239 -0.012685  -0.011190  \n",
       "Levels                0.058374 -0.007105  -0.000622  \n",
       "PriceEuro             0.167678 -0.036559  -0.028913  \n",
       "PricePerM2Euro        1.000000 -0.005236  -0.001366  \n",
       "Latitude             -0.005236  1.000000   0.979605  \n",
       "Longitude            -0.001366  0.979605   1.000000  "
      ]
     },
     "execution_count": 11,
     "metadata": {},
     "output_type": "execute_result"
    }
   ],
   "source": [
    "super_frame.corr()"
   ]
  },
  {
   "cell_type": "code",
   "execution_count": 1,
   "metadata": {},
   "outputs": [
    {
     "ename": "ModuleNotFoundError",
     "evalue": "No module named 'seaborn'",
     "output_type": "error",
     "traceback": [
      "\u001b[0;31m---------------------------------------------------------------------------\u001b[0m",
      "\u001b[0;31mModuleNotFoundError\u001b[0m                       Traceback (most recent call last)",
      "\u001b[0;32m<ipython-input-1-a8e7e6e9f10e>\u001b[0m in \u001b[0;36m<module>\u001b[0;34m\u001b[0m\n\u001b[1;32m      1\u001b[0m \u001b[0;32mimport\u001b[0m \u001b[0mmatplotlib\u001b[0m\u001b[0;34m.\u001b[0m\u001b[0mpyplot\u001b[0m \u001b[0;32mas\u001b[0m \u001b[0mplt\u001b[0m\u001b[0;34m\u001b[0m\u001b[0;34m\u001b[0m\u001b[0m\n\u001b[0;32m----> 2\u001b[0;31m \u001b[0;32mimport\u001b[0m \u001b[0mseaborn\u001b[0m \u001b[0;32mas\u001b[0m \u001b[0msns\u001b[0m\u001b[0;34m\u001b[0m\u001b[0;34m\u001b[0m\u001b[0m\n\u001b[0m\u001b[1;32m      3\u001b[0m \u001b[0;31m# Correlation Matrix Heatmap\u001b[0m\u001b[0;34m\u001b[0m\u001b[0;34m\u001b[0m\u001b[0;34m\u001b[0m\u001b[0m\n\u001b[1;32m      4\u001b[0m \u001b[0mcorrmat\u001b[0m \u001b[0;34m=\u001b[0m \u001b[0msuper_frame\u001b[0m\u001b[0;34m.\u001b[0m\u001b[0mcorr\u001b[0m\u001b[0;34m(\u001b[0m\u001b[0;34m)\u001b[0m\u001b[0;34m\u001b[0m\u001b[0;34m\u001b[0m\u001b[0m\n\u001b[1;32m      5\u001b[0m \u001b[0mf\u001b[0m\u001b[0;34m,\u001b[0m \u001b[0max\u001b[0m \u001b[0;34m=\u001b[0m \u001b[0mplt\u001b[0m\u001b[0;34m.\u001b[0m\u001b[0msubplots\u001b[0m\u001b[0;34m(\u001b[0m\u001b[0mfigsize\u001b[0m\u001b[0;34m=\u001b[0m\u001b[0;34m(\u001b[0m\u001b[0;36m12\u001b[0m\u001b[0;34m,\u001b[0m \u001b[0;36m9\u001b[0m\u001b[0;34m)\u001b[0m\u001b[0;34m)\u001b[0m\u001b[0;34m\u001b[0m\u001b[0;34m\u001b[0m\u001b[0m\n",
      "\u001b[0;31mModuleNotFoundError\u001b[0m: No module named 'seaborn'"
     ]
    }
   ],
   "source": [
    "import matplotlib.pyplot as plt\n",
    "import seaborn as sns\n",
    "# Correlation Matrix Heatmap\n",
    "corrmat = super_frame.corr()\n",
    "f, ax = plt.subplots(figsize=(12, 9))\n",
    "sns.heatmap(corrmat, vmax=.8, square=True,annot=True)"
   ]
  },
  {
   "cell_type": "code",
   "execution_count": 26,
   "metadata": {},
   "outputs": [
    {
     "data": {
      "text/plain": [
       "<seaborn.axisgrid.JointGrid at 0x7fe358e96278>"
      ]
     },
     "execution_count": 26,
     "metadata": {},
     "output_type": "execute_result"
    },
    {
     "data": {
      "image/png": "[encoded data removed]",
      "text/plain": [
       "<Figure size 432x432 with 3 Axes>"
      ]
     },
     "metadata": {
      "needs_background": "light"
     },
     "output_type": "display_data"
    }
   ],
   "source": [
    "# Living Area vs Sale Price\n",
    "sns.jointplot(x=super_frame['Area_sqm'], y=super_frame['PriceEuro'], kind='reg')"
   ]
  },
  {
   "cell_type": "code",
   "execution_count": 25,
   "metadata": {},
   "outputs": [
    {
     "data": {
      "text/plain": [
       "<matplotlib.axes._subplots.AxesSubplot at 0x7fe359904f60>"
      ]
     },
     "execution_count": 25,
     "metadata": {},
     "output_type": "execute_result"
    },
    {
     "data": {
      "image/png": "[encoded data removed]",
      "text/plain": [
       "<Figure size 432x288 with 1 Axes>"
      ]
     },
     "metadata": {
      "needs_background": "light"
     },
     "output_type": "display_data"
    }
   ],
   "source": [
    "# Garage Area vs Sale Price\n",
    "sns.boxplot(x=super_frame['Rooms'], y=super_frame['PriceEuro'])"
   ]
  },
  {
   "cell_type": "code",
   "execution_count": 67,
   "metadata": {},
   "outputs": [
    {
     "data": {
      "image/png": "[encoded data removed]",
      "text/plain": [
       "<Figure size 432x288 with 1 Axes>"
      ]
     },
     "metadata": {
      "needs_background": "light"
     },
     "output_type": "display_data"
    }
   ],
   "source": [
    "super_frame_lol['PricePerM2Euro'].plot(linewidth=0.5);"
   ]
  }
 ],
 "metadata": {
  "kernelspec": {
   "display_name": "Python 3",
   "language": "python",
   "name": "python3"
  },
  "language_info": {
   "codemirror_mode": {
    "name": "ipython",
    "version": 3
   },
   "file_extension": ".py",
   "mimetype": "text/x-python",
   "name": "python",
   "nbconvert_exporter": "python",
   "pygments_lexer": "ipython3",
   "version": "3.7.3"
  }
 },
 "nbformat": 4,
 "nbformat_minor": 2
}
